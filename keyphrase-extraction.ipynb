{
 "cells": [
  {
   "cell_type": "code",
<<<<<<< HEAD
   "execution_count": 1,
   "id": "9c2dd9bb",
=======
   "execution_count": 43,
>>>>>>> 56492df (Initial commit)
   "metadata": {
    "_cell_guid": "b1076dfc-b9ad-4769-8c92-a6c4dae69d19",
    "_uuid": "8f2839f25d086af736a60e9eeb907d3b93b6e0e5",
    "execution": {
<<<<<<< HEAD
     "iopub.execute_input": "2025-05-27T08:57:43.326406Z",
     "iopub.status.busy": "2025-05-27T08:57:43.326168Z",
     "iopub.status.idle": "2025-05-27T08:57:44.828641Z",
     "shell.execute_reply": "2025-05-27T08:57:44.827705Z"
    },
    "papermill": {
     "duration": 1.510071,
     "end_time": "2025-05-27T08:57:44.830024",
     "exception": false,
     "start_time": "2025-05-27T08:57:43.319953",
     "status": "completed"
    },
    "tags": []
=======
     "iopub.execute_input": "2025-05-27T08:40:42.238193Z",
     "iopub.status.busy": "2025-05-27T08:40:42.237307Z",
     "iopub.status.idle": "2025-05-27T08:40:42.250028Z",
     "shell.execute_reply": "2025-05-27T08:40:42.249211Z",
     "shell.execute_reply.started": "2025-05-27T08:40:42.238160Z"
    },
    "trusted": true
>>>>>>> 56492df (Initial commit)
   },
   "outputs": [
    {
     "name": "stdout",
     "output_type": "stream",
     "text": [
      "/kaggle/input/keyphareextract/NerData.json\n"
     ]
    }
   ],
   "source": [
    "# This Python 3 environment comes with many helpful analytics libraries installed\n",
    "# It is defined by the kaggle/python Docker image: https://github.com/kaggle/docker-python\n",
    "# For example, here's several helpful packages to load\n",
    "\n",
    "import numpy as np # linear algebra\n",
    "import pandas as pd # data processing, CSV file I/O (e.g. pd.read_csv)\n",
    "\n",
    "# Input data files are available in the read-only \"../input/\" directory\n",
    "# For example, running this (by clicking run or pressing Shift+Enter) will list all files under the input directory\n",
    "\n",
    "import os\n",
    "for dirname, _, filenames in os.walk('/kaggle/input'):\n",
    "    for filename in filenames:\n",
    "        print(os.path.join(dirname, filename))\n",
    "\n",
    "# You can write up to 20GB to the current directory (/kaggle/working/) that gets preserved as output when you create a version using \"Save & Run All\" \n",
    "# You can also write temporary files to /kaggle/temp/, but they won't be saved outside of the current session"
   ]
  },
  {
   "cell_type": "code",
<<<<<<< HEAD
   "execution_count": 2,
   "id": "f59d5274",
   "metadata": {
    "execution": {
     "iopub.execute_input": "2025-05-27T08:57:44.840433Z",
     "iopub.status.busy": "2025-05-27T08:57:44.840141Z",
     "iopub.status.idle": "2025-05-27T08:57:49.874941Z",
     "shell.execute_reply": "2025-05-27T08:57:49.874056Z"
    },
    "papermill": {
     "duration": 5.041166,
     "end_time": "2025-05-27T08:57:49.876186",
     "exception": false,
     "start_time": "2025-05-27T08:57:44.835020",
     "status": "completed"
    },
    "tags": []
=======
   "execution_count": 44,
   "metadata": {
    "execution": {
     "iopub.execute_input": "2025-05-27T08:40:42.251718Z",
     "iopub.status.busy": "2025-05-27T08:40:42.251534Z",
     "iopub.status.idle": "2025-05-27T08:40:42.259960Z",
     "shell.execute_reply": "2025-05-27T08:40:42.259337Z",
     "shell.execute_reply.started": "2025-05-27T08:40:42.251703Z"
    },
    "trusted": true
>>>>>>> 56492df (Initial commit)
   },
   "outputs": [
    {
     "name": "stdout",
     "output_type": "stream",
     "text": [
      "cuda\n"
     ]
    }
   ],
   "source": [
    "import torch\n",
    "\n",
    "device = torch.device(\"cuda\" if torch.cuda.is_available() else \"cpu\")\n",
    "print(device)"
   ]
  },
  {
   "cell_type": "code",
<<<<<<< HEAD
   "execution_count": 3,
   "id": "ec526b03",
   "metadata": {
    "execution": {
     "iopub.execute_input": "2025-05-27T08:57:49.886573Z",
     "iopub.status.busy": "2025-05-27T08:57:49.886209Z",
     "iopub.status.idle": "2025-05-27T08:58:05.427921Z",
     "shell.execute_reply": "2025-05-27T08:58:05.427128Z"
    },
    "papermill": {
     "duration": 15.547982,
     "end_time": "2025-05-27T08:58:05.429049",
     "exception": false,
     "start_time": "2025-05-27T08:57:49.881067",
     "status": "completed"
    },
    "tags": []
   },
   "outputs": [
    {
     "name": "stderr",
     "output_type": "stream",
     "text": [
      "2025-05-27 08:57:51.676217: E external/local_xla/xla/stream_executor/cuda/cuda_fft.cc:477] Unable to register cuFFT factory: Attempting to register factory for plugin cuFFT when one has already been registered\n",
      "WARNING: All log messages before absl::InitializeLog() is called are written to STDERR\n",
      "E0000 00:00:1748336271.963253      19 cuda_dnn.cc:8310] Unable to register cuDNN factory: Attempting to register factory for plugin cuDNN when one has already been registered\n",
      "E0000 00:00:1748336272.029916      19 cuda_blas.cc:1418] Unable to register cuBLAS factory: Attempting to register factory for plugin cuBLAS when one has already been registered\n"
     ]
    },
    {
=======
   "execution_count": 45,
   "metadata": {
    "execution": {
     "iopub.execute_input": "2025-05-27T08:40:42.260795Z",
     "iopub.status.busy": "2025-05-27T08:40:42.260635Z",
     "iopub.status.idle": "2025-05-27T08:40:42.278174Z",
     "shell.execute_reply": "2025-05-27T08:40:42.277660Z",
     "shell.execute_reply.started": "2025-05-27T08:40:42.260782Z"
    },
    "trusted": true
   },
   "outputs": [
    {
>>>>>>> 56492df (Initial commit)
     "name": "stdout",
     "output_type": "stream",
     "text": [
      "['/device:GPU:0', '/device:GPU:1']\n"
     ]
    },
    {
     "name": "stderr",
     "output_type": "stream",
     "text": [
<<<<<<< HEAD
      "I0000 00:00:1748336285.423294      19 gpu_device.cc:2022] Created device /device:GPU:0 with 13942 MB memory:  -> device: 0, name: Tesla T4, pci bus id: 0000:00:04.0, compute capability: 7.5\n",
      "I0000 00:00:1748336285.424074      19 gpu_device.cc:2022] Created device /device:GPU:1 with 13942 MB memory:  -> device: 1, name: Tesla T4, pci bus id: 0000:00:05.0, compute capability: 7.5\n"
=======
      "I0000 00:00:1748335242.274494      35 gpu_device.cc:2022] Created device /device:GPU:0 with 13942 MB memory:  -> device: 0, name: Tesla T4, pci bus id: 0000:00:04.0, compute capability: 7.5\n",
      "I0000 00:00:1748335242.274725      35 gpu_device.cc:2022] Created device /device:GPU:1 with 13942 MB memory:  -> device: 1, name: Tesla T4, pci bus id: 0000:00:05.0, compute capability: 7.5\n"
>>>>>>> 56492df (Initial commit)
     ]
    }
   ],
   "source": [
    "from tensorflow.python.client import device_lib\n",
    "\n",
    "def get_available_gpus():\n",
    "    local_device_protos = device_lib.list_local_devices()\n",
    "    return [x.name for x in local_device_protos if x.device_type == \"GPU\"]\n",
    "\n",
    "print(get_available_gpus())"
   ]
  },
  {
   "cell_type": "markdown",
<<<<<<< HEAD
   "id": "a7cb374e",
   "metadata": {
    "papermill": {
     "duration": 0.004418,
     "end_time": "2025-05-27T08:58:05.438422",
     "exception": false,
     "start_time": "2025-05-27T08:58:05.434004",
     "status": "completed"
    },
    "tags": []
   },
=======
   "metadata": {},
>>>>>>> 56492df (Initial commit)
   "source": [
    "## 1. Load Data"
   ]
  },
  {
   "cell_type": "code",
<<<<<<< HEAD
   "execution_count": 4,
   "id": "4cf7c729",
   "metadata": {
    "execution": {
     "iopub.execute_input": "2025-05-27T08:58:05.449264Z",
     "iopub.status.busy": "2025-05-27T08:58:05.448333Z",
     "iopub.status.idle": "2025-05-27T08:58:06.197472Z",
     "shell.execute_reply": "2025-05-27T08:58:06.196667Z"
    },
    "papermill": {
     "duration": 0.755874,
     "end_time": "2025-05-27T08:58:06.198960",
     "exception": false,
     "start_time": "2025-05-27T08:58:05.443086",
     "status": "completed"
    },
    "tags": []
=======
   "execution_count": 46,
   "metadata": {
    "execution": {
     "iopub.execute_input": "2025-05-27T08:40:42.279210Z",
     "iopub.status.busy": "2025-05-27T08:40:42.278966Z",
     "iopub.status.idle": "2025-05-27T08:40:43.089929Z",
     "shell.execute_reply": "2025-05-27T08:40:43.089365Z",
     "shell.execute_reply.started": "2025-05-27T08:40:42.279188Z"
    },
    "trusted": true
>>>>>>> 56492df (Initial commit)
   },
   "outputs": [],
   "source": [
    "import json\n",
    "\n",
    "\n",
    "with open(\"/kaggle/input/keyphareextract/NerData.json\",\"r\",encoding=\"utf-8\") as f:\n",
    "    data = json.load(f)"
   ]
  },
  {
   "cell_type": "markdown",
<<<<<<< HEAD
   "id": "d8250e4c",
   "metadata": {
    "papermill": {
     "duration": 0.004394,
     "end_time": "2025-05-27T08:58:06.208221",
     "exception": false,
     "start_time": "2025-05-27T08:58:06.203827",
     "status": "completed"
    },
    "tags": []
   },
=======
   "metadata": {},
>>>>>>> 56492df (Initial commit)
   "source": [
    "## 2. Gán Nhãn\n",
    "\n",
    "### 2.1 Gán nhãn thử 1 câu"
   ]
  },
  {
   "cell_type": "code",
<<<<<<< HEAD
   "execution_count": 5,
   "id": "0ac48533",
   "metadata": {
    "execution": {
     "iopub.execute_input": "2025-05-27T08:58:06.218422Z",
     "iopub.status.busy": "2025-05-27T08:58:06.217834Z",
     "iopub.status.idle": "2025-05-27T08:58:15.902776Z",
     "shell.execute_reply": "2025-05-27T08:58:15.901943Z"
    },
    "papermill": {
     "duration": 9.691222,
     "end_time": "2025-05-27T08:58:15.903965",
     "exception": false,
     "start_time": "2025-05-27T08:58:06.212743",
     "status": "completed"
    },
    "tags": []
   },
   "outputs": [
    {
     "data": {
      "application/vnd.jupyter.widget-view+json": {
       "model_id": "44ec37fd6a7f4bd6984c3343946cabce",
       "version_major": 2,
       "version_minor": 0
      },
      "text/plain": [
       "config.json:   0%|          | 0.00/557 [00:00<?, ?B/s]"
      ]
     },
     "metadata": {},
     "output_type": "display_data"
    },
    {
     "data": {
      "application/vnd.jupyter.widget-view+json": {
       "model_id": "963f2af0788445baaf7a614e15a229f0",
       "version_major": 2,
       "version_minor": 0
      },
      "text/plain": [
       "vocab.txt:   0%|          | 0.00/895k [00:00<?, ?B/s]"
      ]
     },
     "metadata": {},
     "output_type": "display_data"
    },
    {
     "data": {
      "application/vnd.jupyter.widget-view+json": {
       "model_id": "255437f71f0b49938b5e4e718fd668db",
       "version_major": 2,
       "version_minor": 0
      },
      "text/plain": [
       "bpe.codes:   0%|          | 0.00/1.14M [00:00<?, ?B/s]"
      ]
     },
     "metadata": {},
     "output_type": "display_data"
    },
    {
     "data": {
      "application/vnd.jupyter.widget-view+json": {
       "model_id": "e25f987de52949c7853161d5edf81000",
       "version_major": 2,
       "version_minor": 0
      },
      "text/plain": [
       "tokenizer.json:   0%|          | 0.00/3.13M [00:00<?, ?B/s]"
      ]
     },
     "metadata": {},
     "output_type": "display_data"
    },
    {
=======
   "execution_count": 47,
   "metadata": {
    "execution": {
     "iopub.execute_input": "2025-05-27T08:40:43.092064Z",
     "iopub.status.busy": "2025-05-27T08:40:43.091809Z",
     "iopub.status.idle": "2025-05-27T08:40:43.844424Z",
     "shell.execute_reply": "2025-05-27T08:40:43.843651Z",
     "shell.execute_reply.started": "2025-05-27T08:40:43.092048Z"
    },
    "trusted": true
   },
   "outputs": [
    {
>>>>>>> 56492df (Initial commit)
     "name": "stdout",
     "output_type": "stream",
     "text": [
      "['<s>', '<unk>', 'xe', 'Minh', 'Ohio', 'Mới', 'mua', 'bị', 'đập', 'Tan', 'nát', 'ở', 'Hous', 'ton', '<unk>', '!', 'Nên', 'đổi', 'xe', 'Vin', 'f', 'ast', '?', '</s>']\n",
      "[(0, 0), (0, 0), (2, 4), (5, 9), (10, 14), (15, 18), (19, 22), (23, 25), (26, 29), (30, 33), (34, 37), (38, 39), (40, 44), (44, 47), (0, 0), (47, 48), (50, 53), (54, 57), (58, 60), (61, 64), (64, 65), (65, 68), (68, 69), (0, 0)]\n",
      "[-100, -100, 'B-ENTITY', 'I-ENTITY', 'I-ENTITY', 'I-ENTITY', 'I-ENTITY', 'I-ENTITY', 'I-ENTITY', 'I-ENTITY', 'I-ENTITY', 'I-ENTITY', 'I-ENTITY', 'I-ENTITY', -100, 'O', 'O', 'O', 'O', 'O', 'O', 'O', 'O', -100]\n"
     ]
    }
   ],
   "source": [
    "from transformers import AutoTokenizer\n",
    "\n",
    "\n",
    "tokenizer = AutoTokenizer.from_pretrained(\"vinai/phobert-base\")\n",
    "\n",
    "text = data[2][\"text\"]\n",
    "label = data[2][\"label\"]\n",
    "\n",
    "\n",
    "tokens = tokenizer(text, truncation=True, return_tensors=\"pt\", padding=True, max_length=256)\n",
    "tokens_list = tokenizer.convert_ids_to_tokens(tokens[\"input_ids\"][0])\n",
    "# print(len(tokens_list))\n",
    "\n",
    "tokens_list = [token.replace(\"@@\", \"\") for token in tokens_list]\n",
    "tokens_label = [\"O\"] * len(tokens_list)\n",
    "\n",
    "print(tokens_list)\n",
    "\n",
    "special_tokens = [\"<s>\", \"</s>\", \"<pad>\", \"<unk>\", \"<mask>\"]\n",
    "\n",
    "offsets = []\n",
    "current_pos = 0\n",
    "\n",
    "\n",
    "# Tìm vị trí của các token trong văn bản gốc\n",
    "for token in tokens_list:\n",
    "    if token in special_tokens:\n",
    "        offsets.append((0, 0))\n",
    "        continue\n",
    "    start_pos = text.find(token, current_pos)\n",
    "    end_pos = start_pos + len(token)\n",
    "    \n",
    "    current_pos = end_pos\n",
    "    \n",
    "    offsets.append((start_pos, end_pos))\n",
    "\n",
    "print(offsets)\n",
    "# Đánh nhãn các token với nhãn tương ứng\n",
    "for i,token in enumerate(tokens_list):\n",
    "    if token in special_tokens:\n",
    "        tokens_label[i] = -100\n",
    "        continue\n",
    "    \n",
    "    for item in label:\n",
    "        if offsets[i][0] >=item[\"start\"] and offsets[i][0] < item[\"end\"]:\n",
    "            tokens_label[i] = item[\"labels\"][0]\n",
    "print(tokens_label)\n",
    "        "
   ]
  },
  {
   "cell_type": "markdown",
<<<<<<< HEAD
   "id": "24a0e63c",
   "metadata": {
    "papermill": {
     "duration": 0.004752,
     "end_time": "2025-05-27T08:58:15.914196",
     "exception": false,
     "start_time": "2025-05-27T08:58:15.909444",
     "status": "completed"
    },
    "tags": []
   },
=======
   "metadata": {},
>>>>>>> 56492df (Initial commit)
   "source": [
    "### 2.2 Tạo hàm tokenize_and_algn_labels để gán nhãn cho bộ data"
   ]
  },
  {
   "cell_type": "code",
<<<<<<< HEAD
   "execution_count": 6,
   "id": "cbd5fb0b",
   "metadata": {
    "execution": {
     "iopub.execute_input": "2025-05-27T08:58:15.925129Z",
     "iopub.status.busy": "2025-05-27T08:58:15.924710Z",
     "iopub.status.idle": "2025-05-27T08:58:15.933071Z",
     "shell.execute_reply": "2025-05-27T08:58:15.932588Z"
    },
    "papermill": {
     "duration": 0.014855,
     "end_time": "2025-05-27T08:58:15.934102",
     "exception": false,
     "start_time": "2025-05-27T08:58:15.919247",
     "status": "completed"
    },
    "tags": []
=======
   "execution_count": 48,
   "metadata": {
    "execution": {
     "iopub.execute_input": "2025-05-27T08:40:43.845370Z",
     "iopub.status.busy": "2025-05-27T08:40:43.845175Z",
     "iopub.status.idle": "2025-05-27T08:40:43.853552Z",
     "shell.execute_reply": "2025-05-27T08:40:43.852793Z",
     "shell.execute_reply.started": "2025-05-27T08:40:43.845354Z"
    },
    "trusted": true
>>>>>>> 56492df (Initial commit)
   },
   "outputs": [],
   "source": [
    "def tokenize_and_align_labels(data, tokenizer):\n",
    "    # for data in data:\n",
    "    special_tokens = [\"<s>\", \"</s>\", \"<pad>\", \"<unk>\", \"<mask>\"]\n",
    "    text = data[\"text\"]\n",
    "    label = data[\"label\"]\n",
    "\n",
    "    tokens = tokenizer(text, truncation=True, return_tensors=\"pt\", padding=True,max_length=256)\n",
    "    tokens_list = tokenizer.convert_ids_to_tokens(tokens[\"input_ids\"][0])\n",
    "    tokens_list = [token.replace(\"@@\", \"\") for token in tokens_list]\n",
    "    tokens_label = [\"O\"] * len(tokens_list)\n",
    "\n",
    "    Input_ids = []\n",
    "    Tokens_label = []\n",
    "    offsets = []\n",
    "    current_pos = 0\n",
    "\n",
    "    # Tìm vị trí của các token trong văn bản gốc\n",
    "    for token in tokens_list:\n",
    "        if token in special_tokens:\n",
    "            offsets.append((0, 0))\n",
    "            continue\n",
    "        start_pos = text.find(token, current_pos)\n",
    "        end_pos = start_pos + len(token)\n",
    "        current_pos = end_pos\n",
    "        offsets.append((start_pos, end_pos))\n",
    "\n",
    "    # Đánh nhãn các token với nhãn tương ứng\n",
    "    for i, token in enumerate(tokens_list):\n",
    "        if token in special_tokens:\n",
    "            tokens_label[i] = -100\n",
    "            continue\n",
    "        for item in label:\n",
    "            if offsets[i][0] >= item[\"start\"] and offsets[i][0] < item[\"end\"]:\n",
    "                tokens_label[i] = item[\"labels\"][0]\n",
    "\n",
    "        # Input_ids.append(tokens[\"input_ids\"][0])\n",
    "        # Tokens_label.append(tokens_label)\n",
    "    return tokens[\"input_ids\"][0], tokens_label"
   ]
  },
  {
   "cell_type": "markdown",
<<<<<<< HEAD
   "id": "f1aa95a4",
   "metadata": {
    "papermill": {
     "duration": 0.004634,
     "end_time": "2025-05-27T08:58:15.943986",
     "exception": false,
     "start_time": "2025-05-27T08:58:15.939352",
     "status": "completed"
    },
    "tags": []
   },
=======
   "metadata": {},
>>>>>>> 56492df (Initial commit)
   "source": [
    "### 2.3 Thực hiện gán cho toàn bộ data"
   ]
  },
  {
   "cell_type": "code",
<<<<<<< HEAD
   "execution_count": 7,
   "id": "951d2669",
   "metadata": {
    "execution": {
     "iopub.execute_input": "2025-05-27T08:58:15.954194Z",
     "iopub.status.busy": "2025-05-27T08:58:15.953987Z",
     "iopub.status.idle": "2025-05-27T08:58:21.718751Z",
     "shell.execute_reply": "2025-05-27T08:58:21.718003Z"
    },
    "papermill": {
     "duration": 5.771179,
     "end_time": "2025-05-27T08:58:21.719940",
     "exception": false,
     "start_time": "2025-05-27T08:58:15.948761",
     "status": "completed"
    },
    "tags": []
=======
   "execution_count": 49,
   "metadata": {
    "execution": {
     "iopub.execute_input": "2025-05-27T08:40:43.854545Z",
     "iopub.status.busy": "2025-05-27T08:40:43.854265Z",
     "iopub.status.idle": "2025-05-27T08:40:49.862771Z",
     "shell.execute_reply": "2025-05-27T08:40:49.862014Z",
     "shell.execute_reply.started": "2025-05-27T08:40:43.854523Z"
    },
    "trusted": true
>>>>>>> 56492df (Initial commit)
   },
   "outputs": [
    {
     "name": "stdout",
     "output_type": "stream",
     "text": [
      "4899\n"
     ]
    }
   ],
   "source": [
    "Input_ids = []\n",
    "Tokens_label = []\n",
    "\n",
    "\n",
    "\n",
    "for item in data[:4900]:\n",
    "    input_ids, tokens_label= tokenize_and_align_labels(item, tokenizer)\n",
    "    Input_ids.append(input_ids)\n",
    "    Tokens_label.append(tokens_label)\n",
    "\n",
    "print(len(Input_ids))"
   ]
  },
  {
   "cell_type": "markdown",
<<<<<<< HEAD
   "id": "7486732b",
   "metadata": {
    "papermill": {
     "duration": 0.004762,
     "end_time": "2025-05-27T08:58:21.729928",
     "exception": false,
     "start_time": "2025-05-27T08:58:21.725166",
     "status": "completed"
    },
    "tags": []
   },
=======
   "metadata": {},
>>>>>>> 56492df (Initial commit)
   "source": [
    "### 2.4 Chuyển nhãn thành số tương ứng trước khi đưa vào dataset"
   ]
  },
  {
   "cell_type": "code",
<<<<<<< HEAD
   "execution_count": 8,
   "id": "ab628477",
   "metadata": {
    "execution": {
     "iopub.execute_input": "2025-05-27T08:58:21.740983Z",
     "iopub.status.busy": "2025-05-27T08:58:21.740768Z",
     "iopub.status.idle": "2025-05-27T08:58:21.779723Z",
     "shell.execute_reply": "2025-05-27T08:58:21.779019Z"
    },
    "papermill": {
     "duration": 0.045604,
     "end_time": "2025-05-27T08:58:21.780874",
     "exception": false,
     "start_time": "2025-05-27T08:58:21.735270",
     "status": "completed"
    },
    "tags": []
=======
   "execution_count": 50,
   "metadata": {
    "execution": {
     "iopub.execute_input": "2025-05-27T08:40:49.863929Z",
     "iopub.status.busy": "2025-05-27T08:40:49.863671Z",
     "iopub.status.idle": "2025-05-27T08:40:49.914154Z",
     "shell.execute_reply": "2025-05-27T08:40:49.913506Z",
     "shell.execute_reply.started": "2025-05-27T08:40:49.863906Z"
    },
    "trusted": true
>>>>>>> 56492df (Initial commit)
   },
   "outputs": [
    {
     "name": "stdout",
     "output_type": "stream",
     "text": [
      "[-100, 0, 0, 0, 0, 0, 0, 0, 0, 0, 0, 0, 0, 0, 1, 2, 2, 2, 2, 2, 2, 2, 2, 2, 2, 2, 2, 2, 2, 0, 0, 0, 0, 0, 0, 0, 0, 0, 0, 0, 0, 0, 0, 0, 0, 0, 0, 0, 0, 0, 0, 0, 0, 0, 0, 0, 0, 0, 0, 0, 0, 0, 0, 0, 0, 0, 0, 0, 0, 0, 0, 0, 0, 0, 0, 0, 0, 0, 0, 0, -100]\n"
     ]
    }
   ],
   "source": [
    "unique_labels = [\"O\", \"B-ENTITY\", \"I-ENTITY\"]\n",
    "id2label = {i: label for i, label in enumerate(unique_labels)}\n",
    "label2id = {label: i for i, label in enumerate(unique_labels)}\n",
    "\n",
    "\n",
    "def convert_labels_to_id(Tokens_label, label2id):\n",
    "    for item in Tokens_label:\n",
    "        for i, label in enumerate(item):\n",
    "            if label in unique_labels:\n",
    "                item[i] = label2id[label]\n",
    "            else:\n",
    "                item[i] = -100\n",
    "    return Tokens_label\n",
    "\n",
    "\n",
    "Tokens_label_id = convert_labels_to_id(Tokens_label, label2id)\n",
    "print(Tokens_label_id[0])"
   ]
  },
  {
   "cell_type": "code",
<<<<<<< HEAD
   "execution_count": 9,
   "id": "571a5881",
   "metadata": {
    "execution": {
     "iopub.execute_input": "2025-05-27T08:58:21.791887Z",
     "iopub.status.busy": "2025-05-27T08:58:21.791332Z",
     "iopub.status.idle": "2025-05-27T08:58:22.586629Z",
     "shell.execute_reply": "2025-05-27T08:58:22.585790Z"
    },
    "papermill": {
     "duration": 0.801981,
     "end_time": "2025-05-27T08:58:22.587975",
     "exception": false,
     "start_time": "2025-05-27T08:58:21.785994",
     "status": "completed"
    },
    "tags": []
=======
   "execution_count": 51,
   "metadata": {
    "execution": {
     "iopub.execute_input": "2025-05-27T08:40:49.915377Z",
     "iopub.status.busy": "2025-05-27T08:40:49.914938Z",
     "iopub.status.idle": "2025-05-27T08:40:50.074652Z",
     "shell.execute_reply": "2025-05-27T08:40:50.074076Z",
     "shell.execute_reply.started": "2025-05-27T08:40:49.915355Z"
    },
    "trusted": true
>>>>>>> 56492df (Initial commit)
   },
   "outputs": [],
   "source": [
    "from sklearn.model_selection import train_test_split\n",
    "from datasets import Dataset\n",
    "# Chuyển sang Dataset\n",
    "\n",
    "dataset = Dataset.from_dict({\"input_ids\": Input_ids, \"labels\": Tokens_label_id})\n",
    "# Chia tập dữ liệu thành train và test\n",
    "split_dataset = dataset.train_test_split(test_size=0.2, seed=42)\n",
    "train_dataset = split_dataset[\"train\"]\n",
    "test_dataset = split_dataset[\"test\"]"
   ]
  },
  {
   "cell_type": "code",
<<<<<<< HEAD
   "execution_count": 10,
   "id": "07dea524",
   "metadata": {
    "execution": {
     "iopub.execute_input": "2025-05-27T08:58:22.599410Z",
     "iopub.status.busy": "2025-05-27T08:58:22.598951Z",
     "iopub.status.idle": "2025-05-27T08:58:22.602937Z",
     "shell.execute_reply": "2025-05-27T08:58:22.602327Z"
    },
    "papermill": {
     "duration": 0.01057,
     "end_time": "2025-05-27T08:58:22.603892",
     "exception": false,
     "start_time": "2025-05-27T08:58:22.593322",
     "status": "completed"
    },
    "tags": []
=======
   "execution_count": 52,
   "metadata": {
    "execution": {
     "iopub.execute_input": "2025-05-27T08:40:50.075519Z",
     "iopub.status.busy": "2025-05-27T08:40:50.075302Z",
     "iopub.status.idle": "2025-05-27T08:40:50.079669Z",
     "shell.execute_reply": "2025-05-27T08:40:50.078994Z",
     "shell.execute_reply.started": "2025-05-27T08:40:50.075502Z"
    },
    "trusted": true
>>>>>>> 56492df (Initial commit)
   },
   "outputs": [
    {
     "name": "stdout",
     "output_type": "stream",
     "text": [
      "Dataset({\n",
      "    features: ['input_ids', 'labels'],\n",
      "    num_rows: 3919\n",
      "})\n",
      "Dataset({\n",
      "    features: ['input_ids', 'labels'],\n",
      "    num_rows: 980\n",
      "})\n"
     ]
    }
   ],
   "source": [
    "print(train_dataset)\n",
    "print(test_dataset)"
   ]
  },
  {
   "cell_type": "code",
<<<<<<< HEAD
   "execution_count": 11,
   "id": "b38a9b6a",
   "metadata": {
    "execution": {
     "iopub.execute_input": "2025-05-27T08:58:22.614506Z",
     "iopub.status.busy": "2025-05-27T08:58:22.614293Z",
     "iopub.status.idle": "2025-05-27T08:58:22.619438Z",
     "shell.execute_reply": "2025-05-27T08:58:22.618775Z"
    },
    "papermill": {
     "duration": 0.011648,
     "end_time": "2025-05-27T08:58:22.620524",
     "exception": false,
     "start_time": "2025-05-27T08:58:22.608876",
     "status": "completed"
    },
    "tags": []
=======
   "execution_count": 53,
   "metadata": {
    "execution": {
     "iopub.execute_input": "2025-05-27T08:40:50.080967Z",
     "iopub.status.busy": "2025-05-27T08:40:50.080691Z",
     "iopub.status.idle": "2025-05-27T08:40:50.095935Z",
     "shell.execute_reply": "2025-05-27T08:40:50.095246Z",
     "shell.execute_reply.started": "2025-05-27T08:40:50.080942Z"
    },
    "trusted": true
>>>>>>> 56492df (Initial commit)
   },
   "outputs": [
    {
     "name": "stdout",
     "output_type": "stream",
     "text": [
      "{'input_ids': [0, 3, 3, 3, 870, 43263, 768, 44007, 968, 1042, 9179, 1345, 43410, 13386, 31811, 2275, 2576, 1493, 1529, 3, 3, 3, 3, 30439, 1600, 14786, 27, 1396, 3, 3, 6993, 193, 28, 5321, 22592, 1031, 3365, 26839, 236, 21091, 1387, 1677, 3322, 381, 2073, 40, 119, 1396, 64, 133, 1611, 9244, 119, 1096, 182, 64, 567, 525, 54, 11685, 48, 1456, 2008, 1883, 5, 3, 1584, 60268, 12495, 1493, 95, 24350, 20330, 3, 3, 9990, 6169, 6454, 6302, 36314, 8, 16, 61, 13884, 437, 3518, 1659, 16907, 1384, 4, 47, 13, 2908, 653, 458, 1157, 10, 1602, 626, 2023, 1325, 5516, 4241, 33, 602, 11, 381, 3960, 11, 13, 207, 3153, 57246, 1384, 4, 10, 4623, 47, 1087, 8109, 2008, 12584, 3, 13834, 3884, 543, 2288, 5747, 27, 3, 3, 7852, 3056, 23228, 11083, 55992, 1850, 4, 418, 3139, 3, 7852, 58, 1995, 38, 10, 249, 2492, 1169, 2023, 1325, 3, 2590, 1157, 37194, 4, 1169, 5344, 3, 31743, 1157, 4650, 203, 3, 2590, 1157, 1852, 1565, 515, 1339, 348, 1169, 28, 1565, 574, 1228, 2008, 12584, 2], 'labels': [-100, -100, -100, -100, 1, 1, 1, 2, 2, 2, 2, 2, 2, 0, 0, 0, 0, 0, 0, -100, -100, -100, -100, 1, 2, 2, 2, 2, -100, -100, 0, 0, 0, 0, 0, 0, 0, 0, 0, 0, 0, 0, 0, 0, 0, 0, 1, 2, 2, 2, 2, 2, 2, 2, 0, 0, 0, 0, 0, 0, 0, 0, 0, 0, 0, -100, 0, 0, 0, 0, 0, 0, 0, -100, -100, 0, 0, 0, 0, 0, 0, 0, 0, 0, 0, 0, 0, 0, 0, 0, 0, 0, 0, 0, 0, 0, 0, 0, 0, 0, 0, 0, 0, 0, 0, 0, 0, 0, 0, 0, 0, 0, 0, 0, 0, 0, 0, 0, 0, 0, 0, 0, -100, 0, 0, 0, 0, 0, 0, -100, -100, 0, 0, 0, 0, 0, 0, 0, 0, 0, -100, 0, 0, 0, 0, 0, 0, 0, 0, 0, 0, -100, 0, 0, 0, 0, 0, 0, -100, 0, 0, 0, 0, -100, 0, 0, 0, 0, 0, 0, 0, 0, 0, 0, 0, 0, 0, 0, -100]}\n"
     ]
    }
   ],
   "source": [
    "print(test_dataset[0])"
   ]
  },
  {
   "cell_type": "markdown",
<<<<<<< HEAD
   "id": "17556ce8",
   "metadata": {
    "papermill": {
     "duration": 0.004754,
     "end_time": "2025-05-27T08:58:22.630383",
     "exception": false,
     "start_time": "2025-05-27T08:58:22.625629",
     "status": "completed"
    },
    "tags": []
   },
=======
   "metadata": {},
>>>>>>> 56492df (Initial commit)
   "source": [
    "## 3. Tạo Model"
   ]
  },
  {
   "cell_type": "code",
<<<<<<< HEAD
   "execution_count": 12,
   "id": "2855cdfa",
   "metadata": {
    "execution": {
     "iopub.execute_input": "2025-05-27T08:58:22.640962Z",
     "iopub.status.busy": "2025-05-27T08:58:22.640786Z",
     "iopub.status.idle": "2025-05-27T08:58:26.941170Z",
     "shell.execute_reply": "2025-05-27T08:58:26.940336Z"
    },
    "papermill": {
     "duration": 4.306966,
     "end_time": "2025-05-27T08:58:26.942323",
     "exception": false,
     "start_time": "2025-05-27T08:58:22.635357",
     "status": "completed"
    },
    "tags": []
   },
   "outputs": [
    {
     "data": {
      "application/vnd.jupyter.widget-view+json": {
       "model_id": "53f89ac8fefd411a90c6665cc040b8bf",
       "version_major": 2,
       "version_minor": 0
      },
      "text/plain": [
       "pytorch_model.bin:   0%|          | 0.00/543M [00:00<?, ?B/s]"
      ]
     },
     "metadata": {},
     "output_type": "display_data"
    },
    {
=======
   "execution_count": 54,
   "metadata": {
    "execution": {
     "iopub.execute_input": "2025-05-27T08:40:50.098249Z",
     "iopub.status.busy": "2025-05-27T08:40:50.098051Z",
     "iopub.status.idle": "2025-05-27T08:40:51.162578Z",
     "shell.execute_reply": "2025-05-27T08:40:51.161946Z",
     "shell.execute_reply.started": "2025-05-27T08:40:50.098233Z"
    },
    "trusted": true
   },
   "outputs": [
    {
>>>>>>> 56492df (Initial commit)
     "name": "stderr",
     "output_type": "stream",
     "text": [
      "Some weights of RobertaForTokenClassification were not initialized from the model checkpoint at vinai/phobert-base and are newly initialized: ['classifier.bias', 'classifier.weight']\n",
      "You should probably TRAIN this model on a down-stream task to be able to use it for predictions and inference.\n"
     ]
    }
   ],
   "source": [
    "from transformers import AutoModelForTokenClassification\n",
    "\n",
    "unique_labels = [\"O\",\"B-ENTITY\",\"I-ENTITY\"]\n",
    "label_to_id = {label: i for i, label in enumerate(unique_labels)}\n",
    "id_to_label = {i: label for label, i in label_to_id.items()}\n",
    "\n",
    "model = AutoModelForTokenClassification.from_pretrained(\n",
    "    \"vinai/phobert-base\",\n",
    "    num_labels=len(unique_labels),\n",
    "    label2id=label_to_id,\n",
    "    id2label=id_to_label,\n",
    "    ignore_mismatched_sizes=True\n",
    ")"
   ]
  },
  {
   "cell_type": "markdown",
<<<<<<< HEAD
   "id": "efece2c4",
   "metadata": {
    "papermill": {
     "duration": 0.006542,
     "end_time": "2025-05-27T08:58:26.954825",
     "exception": false,
     "start_time": "2025-05-27T08:58:26.948283",
     "status": "completed"
    },
    "tags": []
   },
   "source": [
    "## Thiết lập cấu hình Lora"
=======
   "metadata": {},
   "source": [
    "## Thiết lập cấu hình LoRA"
>>>>>>> 56492df (Initial commit)
   ]
  },
  {
   "cell_type": "code",
<<<<<<< HEAD
   "execution_count": 13,
   "id": "6fdb7ff1",
   "metadata": {
    "execution": {
     "iopub.execute_input": "2025-05-27T08:58:26.971722Z",
     "iopub.status.busy": "2025-05-27T08:58:26.971500Z",
     "iopub.status.idle": "2025-05-27T08:58:27.350509Z",
     "shell.execute_reply": "2025-05-27T08:58:27.349578Z"
    },
    "papermill": {
     "duration": 0.391736,
     "end_time": "2025-05-27T08:58:27.351820",
     "exception": false,
     "start_time": "2025-05-27T08:58:26.960084",
     "status": "completed"
    },
    "tags": []
   },
   "outputs": [
    {
     "data": {
      "application/vnd.jupyter.widget-view+json": {
       "model_id": "cdd0492b159945edaca21817cc757920",
       "version_major": 2,
       "version_minor": 0
      },
      "text/plain": [
       "model.safetensors:   0%|          | 0.00/543M [00:00<?, ?B/s]"
      ]
     },
     "metadata": {},
     "output_type": "display_data"
    },
    {
=======
   "execution_count": 55,
   "metadata": {
    "execution": {
     "iopub.execute_input": "2025-05-27T08:40:51.163514Z",
     "iopub.status.busy": "2025-05-27T08:40:51.163261Z",
     "iopub.status.idle": "2025-05-27T08:40:51.168188Z",
     "shell.execute_reply": "2025-05-27T08:40:51.167510Z",
     "shell.execute_reply.started": "2025-05-27T08:40:51.163496Z"
    },
    "trusted": true
   },
   "outputs": [
    {
>>>>>>> 56492df (Initial commit)
     "name": "stdout",
     "output_type": "stream",
     "text": [
      "Cấu hình LoRA...\n"
     ]
    }
   ],
   "source": [
    "from peft import get_peft_model, LoraConfig, TaskType\n",
    "\n",
    "print(\"Cấu hình LoRA...\")\n",
    "peft_config = LoraConfig(\n",
    "    task_type=TaskType.TOKEN_CLS,\n",
    "    inference_mode=False,\n",
    "    r=32,                          # Rank của ma trận thích ứng\n",
    "    lora_alpha=64,                 # Hệ số ảnh hưởng của LoRA\n",
    "    lora_dropout=0.1,              # Tỷ lệ dropout\n",
    "    target_modules=[\"query\", \"key\", \"value\"],  # Các module cần áp dụng LoRA\n",
    "    bias=\"none\",\n",
    ")"
   ]
  },
  {
   "cell_type": "markdown",
<<<<<<< HEAD
   "id": "dc0319b3",
   "metadata": {
    "papermill": {
     "duration": 0.006475,
     "end_time": "2025-05-27T08:58:27.364199",
     "exception": false,
     "start_time": "2025-05-27T08:58:27.357724",
     "status": "completed"
    },
    "tags": []
   },
   "source": [
    "### Áp dụng Lora lên mô hình"
=======
   "metadata": {},
   "source": [
    "### Áp dụng LoRA lên mô hình"
>>>>>>> 56492df (Initial commit)
   ]
  },
  {
   "cell_type": "code",
<<<<<<< HEAD
   "execution_count": 14,
   "id": "c3d97582",
   "metadata": {
    "execution": {
     "iopub.execute_input": "2025-05-27T08:58:27.376639Z",
     "iopub.status.busy": "2025-05-27T08:58:27.375981Z",
     "iopub.status.idle": "2025-05-27T08:58:27.611740Z",
     "shell.execute_reply": "2025-05-27T08:58:27.610985Z"
    },
    "papermill": {
     "duration": 0.243745,
     "end_time": "2025-05-27T08:58:27.613456",
     "exception": false,
     "start_time": "2025-05-27T08:58:27.369711",
     "status": "completed"
    },
    "tags": []
=======
   "execution_count": 56,
   "metadata": {
    "execution": {
     "iopub.execute_input": "2025-05-27T08:40:51.169361Z",
     "iopub.status.busy": "2025-05-27T08:40:51.169049Z",
     "iopub.status.idle": "2025-05-27T08:40:51.426702Z",
     "shell.execute_reply": "2025-05-27T08:40:51.426168Z",
     "shell.execute_reply.started": "2025-05-27T08:40:51.169339Z"
    },
    "trusted": true
>>>>>>> 56492df (Initial commit)
   },
   "outputs": [
    {
     "name": "stdout",
     "output_type": "stream",
     "text": [
      "Áp dụng LoRA cho mô hình...\n",
      "trainable params: 1,771,779 || all params: 136,181,766 || trainable%: 1.3010\n"
     ]
    }
   ],
   "source": [
    "# 9. Áp dụng LoRA lên mô hình\n",
    "print(\"Áp dụng LoRA cho mô hình...\")\n",
    "model = get_peft_model(model, peft_config)\n",
    "model.print_trainable_parameters()  # In ra số lượng tham số cần huấn luyện\n",
    "model = model.to(device)"
   ]
  },
  {
   "cell_type": "code",
<<<<<<< HEAD
   "execution_count": 15,
   "id": "fa755d84",
   "metadata": {
    "execution": {
     "iopub.execute_input": "2025-05-27T08:58:27.629636Z",
     "iopub.status.busy": "2025-05-27T08:58:27.629051Z",
     "iopub.status.idle": "2025-05-27T09:05:59.135131Z",
     "shell.execute_reply": "2025-05-27T09:05:59.134346Z"
    },
    "papermill": {
     "duration": 451.513526,
     "end_time": "2025-05-27T09:05:59.136384",
     "exception": false,
     "start_time": "2025-05-27T08:58:27.622858",
     "status": "completed"
    },
    "tags": []
=======
   "execution_count": 57,
   "metadata": {
    "execution": {
     "iopub.execute_input": "2025-05-27T08:40:51.427658Z",
     "iopub.status.busy": "2025-05-27T08:40:51.427399Z",
     "iopub.status.idle": "2025-05-27T08:48:22.636426Z",
     "shell.execute_reply": "2025-05-27T08:48:22.635720Z",
     "shell.execute_reply.started": "2025-05-27T08:40:51.427627Z"
    },
    "trusted": true
>>>>>>> 56492df (Initial commit)
   },
   "outputs": [
    {
     "name": "stderr",
     "output_type": "stream",
     "text": [
<<<<<<< HEAD
      "/tmp/ipykernel_19/2290487994.py:27: FutureWarning: `tokenizer` is deprecated and will be removed in version 5.0.0 for `Trainer.__init__`. Use `processing_class` instead.\n",
=======
      "/tmp/ipykernel_35/2290487994.py:27: FutureWarning: `tokenizer` is deprecated and will be removed in version 5.0.0 for `Trainer.__init__`. Use `processing_class` instead.\n",
>>>>>>> 56492df (Initial commit)
      "  trainer = Trainer(\n",
      "No label_names provided for model class `PeftModelForTokenClassification`. Since `PeftModel` hides base models input arguments, if label_names is not given, label_names can't be set automatically within `Trainer`. Note that empty label_names list will be used instead.\n",
      "/usr/local/lib/python3.11/dist-packages/torch/nn/parallel/_functions.py:70: UserWarning: Was asked to gather along dimension 0, but all input tensors were scalars; will instead unsqueeze and return a vector.\n",
      "  warnings.warn(\n"
     ]
    },
    {
     "data": {
      "text/html": [
       "\n",
       "    <div>\n",
       "      \n",
       "      <progress value='615' max='615' style='width:300px; height:20px; vertical-align: middle;'></progress>\n",
<<<<<<< HEAD
       "      [615/615 07:27, Epoch 5/5]\n",
=======
       "      [615/615 07:29, Epoch 5/5]\n",
>>>>>>> 56492df (Initial commit)
       "    </div>\n",
       "    <table border=\"1\" class=\"dataframe\">\n",
       "  <thead>\n",
       " <tr style=\"text-align: left;\">\n",
       "      <th>Epoch</th>\n",
       "      <th>Training Loss</th>\n",
       "      <th>Validation Loss</th>\n",
       "    </tr>\n",
       "  </thead>\n",
       "  <tbody>\n",
       "    <tr>\n",
       "      <td>1</td>\n",
       "      <td>No log</td>\n",
<<<<<<< HEAD
       "      <td>0.576537</td>\n",
=======
       "      <td>0.560162</td>\n",
>>>>>>> 56492df (Initial commit)
       "    </tr>\n",
       "    <tr>\n",
       "      <td>2</td>\n",
       "      <td>No log</td>\n",
<<<<<<< HEAD
       "      <td>0.490156</td>\n",
=======
       "      <td>0.469820</td>\n",
>>>>>>> 56492df (Initial commit)
       "    </tr>\n",
       "    <tr>\n",
       "      <td>3</td>\n",
       "      <td>No log</td>\n",
<<<<<<< HEAD
       "      <td>0.454795</td>\n",
=======
       "      <td>0.439022</td>\n",
>>>>>>> 56492df (Initial commit)
       "    </tr>\n",
       "    <tr>\n",
       "      <td>4</td>\n",
       "      <td>No log</td>\n",
<<<<<<< HEAD
       "      <td>0.439285</td>\n",
       "    </tr>\n",
       "    <tr>\n",
       "      <td>5</td>\n",
       "      <td>0.546500</td>\n",
       "      <td>0.436535</td>\n",
=======
       "      <td>0.427727</td>\n",
       "    </tr>\n",
       "    <tr>\n",
       "      <td>5</td>\n",
       "      <td>0.536200</td>\n",
       "      <td>0.425634</td>\n",
>>>>>>> 56492df (Initial commit)
       "    </tr>\n",
       "  </tbody>\n",
       "</table><p>"
      ],
      "text/plain": [
       "<IPython.core.display.HTML object>"
      ]
     },
     "metadata": {},
     "output_type": "display_data"
    },
    {
     "name": "stderr",
     "output_type": "stream",
     "text": [
      "/usr/local/lib/python3.11/dist-packages/torch/nn/parallel/_functions.py:70: UserWarning: Was asked to gather along dimension 0, but all input tensors were scalars; will instead unsqueeze and return a vector.\n",
      "  warnings.warn(\n",
      "/usr/local/lib/python3.11/dist-packages/torch/nn/parallel/_functions.py:70: UserWarning: Was asked to gather along dimension 0, but all input tensors were scalars; will instead unsqueeze and return a vector.\n",
      "  warnings.warn(\n",
      "/usr/local/lib/python3.11/dist-packages/torch/nn/parallel/_functions.py:70: UserWarning: Was asked to gather along dimension 0, but all input tensors were scalars; will instead unsqueeze and return a vector.\n",
      "  warnings.warn(\n",
      "/usr/local/lib/python3.11/dist-packages/torch/nn/parallel/_functions.py:70: UserWarning: Was asked to gather along dimension 0, but all input tensors were scalars; will instead unsqueeze and return a vector.\n",
      "  warnings.warn(\n"
     ]
    },
    {
     "data": {
      "text/plain": [
<<<<<<< HEAD
       "TrainOutput(global_step=615, training_loss=0.525416626969004, metrics={'train_runtime': 449.4844, 'train_samples_per_second': 43.594, 'train_steps_per_second': 1.368, 'total_flos': 2575742258558448.0, 'train_loss': 0.525416626969004, 'epoch': 5.0})"
      ]
     },
     "execution_count": 15,
=======
       "TrainOutput(global_step=615, training_loss=0.5149983723958333, metrics={'train_runtime': 450.4859, 'train_samples_per_second': 43.497, 'train_steps_per_second': 1.365, 'total_flos': 2575742258558448.0, 'train_loss': 0.5149983723958333, 'epoch': 5.0})"
      ]
     },
     "execution_count": 57,
>>>>>>> 56492df (Initial commit)
     "metadata": {},
     "output_type": "execute_result"
    }
   ],
   "source": [
    "from transformers import Trainer, TrainingArguments\n",
    "from transformers import DataCollatorForTokenClassification\n",
    "\n",
    "data_collator = DataCollatorForTokenClassification(\n",
    "    tokenizer=tokenizer,\n",
    "    padding=True,\n",
    ")\n",
    "\n",
    "# Cấu hình tham số huấn luyện\n",
    "training_args = TrainingArguments(\n",
    "    output_dir=\"./results_lora\",\n",
    "    learning_rate=1e-4,           # Tăng nhẹ learning rate so với fine-tuning thông thường\n",
    "    per_device_train_batch_size=16,\n",
    "    per_device_eval_batch_size=16,\n",
    "    num_train_epochs=5,           # Tăng số epoch khi dùng LoRA\n",
    "    weight_decay=0.01,\n",
    "    eval_strategy=\"epoch\",        # Đã sửa từ evaluation_strategy thành eval_strategy\n",
    "    save_strategy=\"epoch\",\n",
    "    load_best_model_at_end=True,\n",
    "    metric_for_best_model=\"eval_loss\",\n",
    "    push_to_hub=False,\n",
    "    report_to=\"none\",             # Không báo cáo metrics ra ngoài\n",
    "\n",
    ")\n",
    "\n",
    "# Tạo trainer\n",
    "trainer = Trainer(\n",
    "    model=model, \n",
    "    args=training_args, \n",
    "    train_dataset=train_dataset,\n",
    "    eval_dataset=test_dataset,\n",
    "    tokenizer=tokenizer,\n",
    "    data_collator = data_collator\n",
    ")\n",
    "\n",
    "# Huấn luyện\n",
    "trainer.train()"
   ]
  },
  {
   "cell_type": "code",
<<<<<<< HEAD
   "execution_count": 16,
   "id": "3151149b",
   "metadata": {
    "execution": {
     "iopub.execute_input": "2025-05-27T09:05:59.149572Z",
     "iopub.status.busy": "2025-05-27T09:05:59.149323Z",
     "iopub.status.idle": "2025-05-27T09:05:59.155748Z",
     "shell.execute_reply": "2025-05-27T09:05:59.154804Z"
    },
    "papermill": {
     "duration": 0.014602,
     "end_time": "2025-05-27T09:05:59.157233",
     "exception": false,
     "start_time": "2025-05-27T09:05:59.142631",
     "status": "completed"
    },
    "tags": []
=======
   "execution_count": 58,
   "metadata": {
    "execution": {
     "iopub.execute_input": "2025-05-27T08:48:22.637513Z",
     "iopub.status.busy": "2025-05-27T08:48:22.637225Z",
     "iopub.status.idle": "2025-05-27T08:48:22.643646Z",
     "shell.execute_reply": "2025-05-27T08:48:22.643053Z",
     "shell.execute_reply.started": "2025-05-27T08:48:22.637490Z"
    },
    "trusted": true
>>>>>>> 56492df (Initial commit)
   },
   "outputs": [
    {
     "name": "stdout",
     "output_type": "stream",
     "text": [
      "PeftModelForTokenClassification(\n",
      "  (base_model): LoraModel(\n",
      "    (model): RobertaForTokenClassification(\n",
      "      (roberta): RobertaModel(\n",
      "        (embeddings): RobertaEmbeddings(\n",
      "          (word_embeddings): Embedding(64001, 768, padding_idx=1)\n",
      "          (position_embeddings): Embedding(258, 768, padding_idx=1)\n",
      "          (token_type_embeddings): Embedding(1, 768)\n",
      "          (LayerNorm): LayerNorm((768,), eps=1e-05, elementwise_affine=True)\n",
      "          (dropout): Dropout(p=0.1, inplace=False)\n",
      "        )\n",
      "        (encoder): RobertaEncoder(\n",
      "          (layer): ModuleList(\n",
      "            (0-11): 12 x RobertaLayer(\n",
      "              (attention): RobertaAttention(\n",
      "                (self): RobertaSdpaSelfAttention(\n",
      "                  (query): lora.Linear(\n",
      "                    (base_layer): Linear(in_features=768, out_features=768, bias=True)\n",
      "                    (lora_dropout): ModuleDict(\n",
      "                      (default): Dropout(p=0.1, inplace=False)\n",
      "                    )\n",
      "                    (lora_A): ModuleDict(\n",
      "                      (default): Linear(in_features=768, out_features=32, bias=False)\n",
      "                    )\n",
      "                    (lora_B): ModuleDict(\n",
      "                      (default): Linear(in_features=32, out_features=768, bias=False)\n",
      "                    )\n",
      "                    (lora_embedding_A): ParameterDict()\n",
      "                    (lora_embedding_B): ParameterDict()\n",
      "                    (lora_magnitude_vector): ModuleDict()\n",
      "                  )\n",
      "                  (key): lora.Linear(\n",
      "                    (base_layer): Linear(in_features=768, out_features=768, bias=True)\n",
      "                    (lora_dropout): ModuleDict(\n",
      "                      (default): Dropout(p=0.1, inplace=False)\n",
      "                    )\n",
      "                    (lora_A): ModuleDict(\n",
      "                      (default): Linear(in_features=768, out_features=32, bias=False)\n",
      "                    )\n",
      "                    (lora_B): ModuleDict(\n",
      "                      (default): Linear(in_features=32, out_features=768, bias=False)\n",
      "                    )\n",
      "                    (lora_embedding_A): ParameterDict()\n",
      "                    (lora_embedding_B): ParameterDict()\n",
      "                    (lora_magnitude_vector): ModuleDict()\n",
      "                  )\n",
      "                  (value): lora.Linear(\n",
      "                    (base_layer): Linear(in_features=768, out_features=768, bias=True)\n",
      "                    (lora_dropout): ModuleDict(\n",
      "                      (default): Dropout(p=0.1, inplace=False)\n",
      "                    )\n",
      "                    (lora_A): ModuleDict(\n",
      "                      (default): Linear(in_features=768, out_features=32, bias=False)\n",
      "                    )\n",
      "                    (lora_B): ModuleDict(\n",
      "                      (default): Linear(in_features=32, out_features=768, bias=False)\n",
      "                    )\n",
      "                    (lora_embedding_A): ParameterDict()\n",
      "                    (lora_embedding_B): ParameterDict()\n",
      "                    (lora_magnitude_vector): ModuleDict()\n",
      "                  )\n",
      "                  (dropout): Dropout(p=0.1, inplace=False)\n",
      "                )\n",
      "                (output): RobertaSelfOutput(\n",
      "                  (dense): Linear(in_features=768, out_features=768, bias=True)\n",
      "                  (LayerNorm): LayerNorm((768,), eps=1e-05, elementwise_affine=True)\n",
      "                  (dropout): Dropout(p=0.1, inplace=False)\n",
      "                )\n",
      "              )\n",
      "              (intermediate): RobertaIntermediate(\n",
      "                (dense): Linear(in_features=768, out_features=3072, bias=True)\n",
      "                (intermediate_act_fn): GELUActivation()\n",
      "              )\n",
      "              (output): RobertaOutput(\n",
      "                (dense): Linear(in_features=3072, out_features=768, bias=True)\n",
      "                (LayerNorm): LayerNorm((768,), eps=1e-05, elementwise_affine=True)\n",
      "                (dropout): Dropout(p=0.1, inplace=False)\n",
      "              )\n",
      "            )\n",
      "          )\n",
      "        )\n",
      "      )\n",
      "      (dropout): Dropout(p=0.1, inplace=False)\n",
      "      (classifier): ModulesToSaveWrapper(\n",
      "        (original_module): Linear(in_features=768, out_features=3, bias=True)\n",
      "        (modules_to_save): ModuleDict(\n",
      "          (default): Linear(in_features=768, out_features=3, bias=True)\n",
      "        )\n",
      "      )\n",
      "    )\n",
      "  )\n",
      ")\n"
     ]
    }
   ],
   "source": [
    "print(model)"
   ]
  },
  {
   "cell_type": "code",
<<<<<<< HEAD
   "execution_count": 17,
   "id": "57b935b1",
   "metadata": {
    "execution": {
     "iopub.execute_input": "2025-05-27T09:05:59.170861Z",
     "iopub.status.busy": "2025-05-27T09:05:59.170308Z",
     "iopub.status.idle": "2025-05-27T09:05:59.173520Z",
     "shell.execute_reply": "2025-05-27T09:05:59.172912Z"
    },
    "papermill": {
     "duration": 0.010998,
     "end_time": "2025-05-27T09:05:59.174731",
     "exception": false,
     "start_time": "2025-05-27T09:05:59.163733",
     "status": "completed"
    },
    "tags": []
=======
   "execution_count": 59,
   "metadata": {
    "execution": {
     "iopub.execute_input": "2025-05-27T08:48:22.644501Z",
     "iopub.status.busy": "2025-05-27T08:48:22.644249Z",
     "iopub.status.idle": "2025-05-27T08:48:22.658680Z",
     "shell.execute_reply": "2025-05-27T08:48:22.658062Z",
     "shell.execute_reply.started": "2025-05-27T08:48:22.644485Z"
    },
    "trusted": true
>>>>>>> 56492df (Initial commit)
   },
   "outputs": [],
   "source": [
    "import os\n",
    "os.environ['CUDA_LAUNCH_BLOCKING'] = \"1\""
   ]
  },
  {
   "cell_type": "markdown",
<<<<<<< HEAD
   "id": "ca4896c2",
   "metadata": {
    "papermill": {
     "duration": 0.006025,
     "end_time": "2025-05-27T09:05:59.186864",
     "exception": false,
     "start_time": "2025-05-27T09:05:59.180839",
     "status": "completed"
    },
    "tags": []
   },
=======
   "metadata": {},
>>>>>>> 56492df (Initial commit)
   "source": [
    "## 4. Tạo hàm dự đoán nhãn trên 1 câu"
   ]
  },
  {
   "cell_type": "code",
<<<<<<< HEAD
   "execution_count": 18,
   "id": "318b624d",
   "metadata": {
    "execution": {
     "iopub.execute_input": "2025-05-27T09:05:59.199306Z",
     "iopub.status.busy": "2025-05-27T09:05:59.199105Z",
     "iopub.status.idle": "2025-05-27T09:05:59.203837Z",
     "shell.execute_reply": "2025-05-27T09:05:59.203284Z"
    },
    "papermill": {
     "duration": 0.012241,
     "end_time": "2025-05-27T09:05:59.204943",
     "exception": false,
     "start_time": "2025-05-27T09:05:59.192702",
     "status": "completed"
    },
    "tags": []
=======
   "execution_count": 60,
   "metadata": {
    "execution": {
     "iopub.execute_input": "2025-05-27T08:48:22.659606Z",
     "iopub.status.busy": "2025-05-27T08:48:22.659321Z",
     "iopub.status.idle": "2025-05-27T08:48:22.677446Z",
     "shell.execute_reply": "2025-05-27T08:48:22.676799Z",
     "shell.execute_reply.started": "2025-05-27T08:48:22.659591Z"
    },
    "trusted": true
>>>>>>> 56492df (Initial commit)
   },
   "outputs": [],
   "source": [
    "# Lặp qua từng văn bản trong cột 'text' của DataFrame\n",
    "def predict_ner(text):\n",
    "\n",
    "    # Tokenize văn bản\n",
    "    new_tokens = tokenizer(text, truncation=True, padding=True, return_tensors=\"pt\")\n",
    "\n",
    "    # Di chuyển dữ liệu vào thiết bị (GPU nếu có)\n",
    "    new_tokens = {key: value.to(device) for key, value in new_tokens.items()}\n",
    "\n",
    "    # Dự đoán\n",
    "    outputs = model(**new_tokens)\n",
    "    predictions = outputs.logits.argmax(dim=-1)\n",
    "\n",
    "    # Chuyển đổi id của nhãn thành nhãn tương ứng\n",
    "    id_to_label = model.config.id2label  # lấy từ mô hình (phải đảm bảo model có cấu hình này)\n",
    "    predicted_labels = [id_to_label[label_id] for label_id in predictions[0].tolist()]\n",
    "\n",
    "    # Chuyển đổi input_ids thành tokens\n",
    "    tokens = tokenizer.convert_ids_to_tokens(new_tokens[\"input_ids\"][0])\n",
    "    tokens = [token.replace(\"@@\", \"\") for token in tokens]\n",
    "    return tokens, predicted_labels"
   ]
  },
  {
   "cell_type": "markdown",
<<<<<<< HEAD
   "id": "6c14c5f0",
   "metadata": {
    "papermill": {
     "duration": 0.005826,
     "end_time": "2025-05-27T09:05:59.216817",
     "exception": false,
     "start_time": "2025-05-27T09:05:59.210991",
     "status": "completed"
    },
    "tags": []
   },
=======
   "metadata": {},
>>>>>>> 56492df (Initial commit)
   "source": [
    "## 5. Thực hiện ghép các token"
   ]
  },
  {
   "cell_type": "code",
<<<<<<< HEAD
   "execution_count": 19,
   "id": "ce2f84c7",
   "metadata": {
    "execution": {
     "iopub.execute_input": "2025-05-27T09:05:59.230328Z",
     "iopub.status.busy": "2025-05-27T09:05:59.229764Z",
     "iopub.status.idle": "2025-05-27T09:05:59.234793Z",
     "shell.execute_reply": "2025-05-27T09:05:59.234088Z"
    },
    "papermill": {
     "duration": 0.012512,
     "end_time": "2025-05-27T09:05:59.235793",
     "exception": false,
     "start_time": "2025-05-27T09:05:59.223281",
     "status": "completed"
    },
    "tags": []
=======
   "execution_count": 61,
   "metadata": {
    "execution": {
     "iopub.execute_input": "2025-05-27T08:48:22.678774Z",
     "iopub.status.busy": "2025-05-27T08:48:22.678228Z",
     "iopub.status.idle": "2025-05-27T08:48:22.702708Z",
     "shell.execute_reply": "2025-05-27T08:48:22.702038Z",
     "shell.execute_reply.started": "2025-05-27T08:48:22.678758Z"
    },
    "trusted": true
>>>>>>> 56492df (Initial commit)
   },
   "outputs": [],
   "source": [
    "def extract_entities(tokens, labels):\n",
    "    entities = []\n",
    "    curent_entity = []\n",
    "\n",
    "    for token, label in zip(tokens, labels):\n",
    "        if label == \"B-ENTITY\":\n",
    "            # Nếu gặp B-ENTITY, bắt đầu một thực thể mới\n",
    "            if curent_entity:\n",
    "                entities.append(\" \".join(curent_entity).replace(\"\\u2581\", \" \").strip())\n",
    "            curent_entity = [token]\n",
    "        elif label == \"I-ENTITY\":\n",
    "            # Nếu gặp I-ENTITY, thêm vào thực thể hiện tại\n",
    "            if curent_entity:\n",
    "                curent_entity.append(token)\n",
    "        else:\n",
    "            # Nếu gặp nhãn O, kết thúc thực thể hiện tại (nếu có)\n",
    "            if curent_entity:\n",
    "                entities.append(\" \".join(curent_entity).replace(\"\\u2581\", \" \").strip())\n",
    "                curent_entity = []\n",
    "    # Lưu thực thể cuối cùng (nếu có)\n",
    "    if curent_entity:\n",
    "        entities.append(\" \".join(curent_entity).replace(\"\\u2581\", \" \").strip())\n",
    "    return set(entities)"
   ]
  },
  {
   "cell_type": "code",
<<<<<<< HEAD
   "execution_count": 20,
   "id": "bca99e7b",
   "metadata": {
    "execution": {
     "iopub.execute_input": "2025-05-27T09:05:59.248590Z",
     "iopub.status.busy": "2025-05-27T09:05:59.248375Z",
     "iopub.status.idle": "2025-05-27T09:05:59.293945Z",
     "shell.execute_reply": "2025-05-27T09:05:59.293200Z"
    },
    "papermill": {
     "duration": 0.05312,
     "end_time": "2025-05-27T09:05:59.295063",
     "exception": false,
     "start_time": "2025-05-27T09:05:59.241943",
     "status": "completed"
    },
    "tags": []
=======
   "execution_count": 62,
   "metadata": {
    "execution": {
     "iopub.execute_input": "2025-05-27T08:48:22.703681Z",
     "iopub.status.busy": "2025-05-27T08:48:22.703410Z",
     "iopub.status.idle": "2025-05-27T08:48:22.750109Z",
     "shell.execute_reply": "2025-05-27T08:48:22.749583Z",
     "shell.execute_reply.started": "2025-05-27T08:48:22.703664Z"
    },
    "trusted": true
>>>>>>> 56492df (Initial commit)
   },
   "outputs": [
    {
     "name": "stderr",
     "output_type": "stream",
     "text": [
      "Asking to truncate to max_length but no maximum length is provided and the model has no predefined maximum length. Default to no truncation.\n"
     ]
    },
    {
     "name": "stdout",
     "output_type": "stream",
     "text": [
<<<<<<< HEAD
      "Extracted Entities: set()\n"
=======
      "Extracted Entities: {'dự án trọng điểm quốc gia', 'Vành đai 3 TP. HCM - sẽ chính thức được khởi cô'}\n"
>>>>>>> 56492df (Initial commit)
     ]
    }
   ],
   "source": [
    "# Thực thi\n",
    "text =\" Ngày 18/6 tới, dự án trọng điểm quốc gia: Vành đai 3 TP.HCM - sẽ chính thức được khởi công. Đây được xem là dự án đạt kỷ lục, hình mẫu về tiến độ giải phóng ... youtube.com\"\n",
    "tokens, predicted_labels = predict_ner(text)\n",
    "\n",
    "entities = extract_entities(tokens,predicted_labels)\n",
    "print(\"Extracted Entities:\",entities)"
   ]
  },
  {
   "cell_type": "markdown",
<<<<<<< HEAD
   "id": "08a23bb4",
   "metadata": {
    "papermill": {
     "duration": 0.00606,
     "end_time": "2025-05-27T09:05:59.307262",
     "exception": false,
     "start_time": "2025-05-27T09:05:59.301202",
     "status": "completed"
    },
    "tags": []
   },
=======
   "metadata": {},
>>>>>>> 56492df (Initial commit)
   "source": [
    "## 6. Tạo lại text từ tập test_dataset"
   ]
  },
  {
   "cell_type": "code",
<<<<<<< HEAD
   "execution_count": 21,
   "id": "655ca08c",
   "metadata": {
    "execution": {
     "iopub.execute_input": "2025-05-27T09:05:59.320455Z",
     "iopub.status.busy": "2025-05-27T09:05:59.319859Z",
     "iopub.status.idle": "2025-05-27T09:05:59.627237Z",
     "shell.execute_reply": "2025-05-27T09:05:59.626723Z"
    },
    "papermill": {
     "duration": 0.31497,
     "end_time": "2025-05-27T09:05:59.628356",
     "exception": false,
     "start_time": "2025-05-27T09:05:59.313386",
     "status": "completed"
    },
    "tags": []
=======
   "execution_count": 63,
   "metadata": {
    "execution": {
     "iopub.execute_input": "2025-05-27T08:48:22.750920Z",
     "iopub.status.busy": "2025-05-27T08:48:22.750725Z",
     "iopub.status.idle": "2025-05-27T08:48:23.069336Z",
     "shell.execute_reply": "2025-05-27T08:48:23.068890Z",
     "shell.execute_reply.started": "2025-05-27T08:48:22.750897Z"
    },
    "trusted": true
>>>>>>> 56492df (Initial commit)
   },
   "outputs": [],
   "source": [
    "Tokens_test = []\n",
    "for item in test_dataset:\n",
    "    Tokens_test.append(tokenizer.convert_ids_to_tokens(item[\"input_ids\"]))\n",
    "\n",
    "def reconstruct_bpe_sentence(tokens):\n",
    "    sentence = \"\"\n",
    "    skip_tokens = {\"<s>\", \"</s>\", \"<unk>\", \"<pad>\"}\n",
    "\n",
    "    for token in tokens:\n",
    "        if token in skip_tokens:\n",
    "            continue\n",
    "\n",
    "        if token.endswith(\"@@\"):\n",
    "            sentence += token[:-2]  # bỏ @@ và không thêm khoảng trắng\n",
    "        else:\n",
    "            sentence += token + \" \"  # token hoàn chỉnh → thêm khoảng trắng\n",
    "\n",
    "    # Làm sạch dư thừa\n",
    "    return sentence.strip()\n",
    "\n",
    "texts = [reconstruct_bpe_sentence(tokens) for tokens in Tokens_test]"
   ]
  },
  {
   "cell_type": "markdown",
<<<<<<< HEAD
   "id": "0910ff8e",
   "metadata": {
    "papermill": {
     "duration": 0.00581,
     "end_time": "2025-05-27T09:05:59.640691",
     "exception": false,
     "start_time": "2025-05-27T09:05:59.634881",
     "status": "completed"
    },
    "tags": []
   },
=======
   "metadata": {},
>>>>>>> 56492df (Initial commit)
   "source": [
    "### Kết quả dự đoán 980 câu trong tập test"
   ]
  },
  {
   "cell_type": "code",
<<<<<<< HEAD
   "execution_count": 22,
   "id": "df7df463",
   "metadata": {
    "execution": {
     "iopub.execute_input": "2025-05-27T09:05:59.653564Z",
     "iopub.status.busy": "2025-05-27T09:05:59.653001Z",
     "iopub.status.idle": "2025-05-27T09:06:17.503742Z",
     "shell.execute_reply": "2025-05-27T09:06:17.502864Z"
    },
    "papermill": {
     "duration": 17.85838,
     "end_time": "2025-05-27T09:06:17.504972",
     "exception": false,
     "start_time": "2025-05-27T09:05:59.646592",
     "status": "completed"
    },
    "tags": []
=======
   "execution_count": 64,
   "metadata": {
    "execution": {
     "iopub.execute_input": "2025-05-27T08:48:23.070220Z",
     "iopub.status.busy": "2025-05-27T08:48:23.069972Z",
     "iopub.status.idle": "2025-05-27T08:48:40.752949Z",
     "shell.execute_reply": "2025-05-27T08:48:40.752109Z",
     "shell.execute_reply.started": "2025-05-27T08:48:23.070194Z"
    },
    "trusted": true
>>>>>>> 56492df (Initial commit)
   },
   "outputs": [
    {
     "name": "stdout",
     "output_type": "stream",
     "text": [
<<<<<<< HEAD
      "{'bánh Flan', 'Pha chế', 'Sữa đặc La Ros ée', 'Làm', 'sữa chua', 'Cà phê sữ a'}\n"
=======
      "{'sinh tố', 'bánh', 'A ĐẶ C L AR O SEE LO ẠI hộp 1', 'Ữ', 'Pha chế', 'S', 'Sữa đặc La Ros ée', 'sữa chua', 'Cà phê sữ a'}\n"
>>>>>>> 56492df (Initial commit)
     ]
    }
   ],
   "source": [
    "results = []\n",
    "\n",
    "for text in texts:\n",
    "    tokens, predicted_labels = predict_ner(text)\n",
    "    entities = extract_entities(tokens,predicted_labels)\n",
    "    results.append(entities)\n",
    "print(results[0])"
   ]
  },
  {
   "cell_type": "markdown",
<<<<<<< HEAD
   "id": "c1b3cfe5",
   "metadata": {
    "papermill": {
     "duration": 0.006006,
     "end_time": "2025-05-27T09:06:17.517620",
     "exception": false,
     "start_time": "2025-05-27T09:06:17.511614",
     "status": "completed"
    },
    "tags": []
   },
=======
   "metadata": {},
>>>>>>> 56492df (Initial commit)
   "source": [
    "## Đánh giá model trên tập test"
   ]
  },
  {
   "cell_type": "code",
<<<<<<< HEAD
   "execution_count": 23,
   "id": "37fe084b",
   "metadata": {
    "execution": {
     "iopub.execute_input": "2025-05-27T09:06:17.530968Z",
     "iopub.status.busy": "2025-05-27T09:06:17.530456Z",
     "iopub.status.idle": "2025-05-27T09:06:31.769084Z",
     "shell.execute_reply": "2025-05-27T09:06:31.768208Z"
    },
    "papermill": {
     "duration": 14.24643,
     "end_time": "2025-05-27T09:06:31.770175",
     "exception": false,
     "start_time": "2025-05-27T09:06:17.523745",
     "status": "completed"
    },
    "tags": []
=======
   "execution_count": 65,
   "metadata": {
    "execution": {
     "iopub.execute_input": "2025-05-27T08:48:40.754182Z",
     "iopub.status.busy": "2025-05-27T08:48:40.753823Z",
     "iopub.status.idle": "2025-05-27T08:48:55.074720Z",
     "shell.execute_reply": "2025-05-27T08:48:55.073958Z",
     "shell.execute_reply.started": "2025-05-27T08:48:40.754156Z"
    },
    "trusted": true
>>>>>>> 56492df (Initial commit)
   },
   "outputs": [
    {
     "name": "stdout",
     "output_type": "stream",
     "text": [
      "Đánh giá mô hình trên tập test...\n",
      "              precision    recall  f1-score   support\n",
      "\n",
<<<<<<< HEAD
      "    B-ENTITY       0.69      0.60      0.64      5737\n",
      "    I-ENTITY       0.71      0.73      0.72     18880\n",
      "           O       0.88      0.88      0.88     48880\n",
      "\n",
      "    accuracy                           0.82     73497\n",
      "   macro avg       0.76      0.74      0.75     73497\n",
      "weighted avg       0.82      0.82      0.82     73497\n",
=======
      "    B-ENTITY       0.70      0.63      0.67      5737\n",
      "    I-ENTITY       0.72      0.73      0.73     18880\n",
      "           O       0.88      0.89      0.89     48880\n",
      "\n",
      "    accuracy                           0.83     73497\n",
      "   macro avg       0.77      0.75      0.76     73497\n",
      "weighted avg       0.83      0.83      0.83     73497\n",
>>>>>>> 56492df (Initial commit)
      "\n"
     ]
    }
   ],
   "source": [
    "def evaluate_model(model, test_dataset, tokenizer, device):\n",
    "    from sklearn.metrics import classification_report\n",
    "    \n",
    "    model.eval()\n",
    "    all_true_labels = []\n",
    "    all_predicted_labels = []\n",
    "    \n",
    "    # Chuyển test_dataset thành dạng dễ xử lý\n",
    "    test_input_ids = [torch.tensor(x) for x in test_dataset[\"input_ids\"]]\n",
    "    test_labels = test_dataset[\"labels\"]\n",
    "    \n",
    "    for i, input_ids in enumerate(test_input_ids):\n",
    "        # Chuyển thành batch\n",
    "        input_ids = input_ids.unsqueeze(0).to(device)\n",
    "        \n",
    "        # Dự đoán\n",
    "        with torch.no_grad():\n",
    "            outputs = model(input_ids=input_ids)\n",
    "        \n",
    "        predictions = outputs.logits.argmax(dim=-1)[0].cpu().numpy()\n",
    "        true_labels = test_labels[i]\n",
    "        \n",
    "        # Lọc bỏ các nhãn là -100 (padding tokens)\n",
    "        valid_indices = [j for j, label in enumerate(true_labels) if label != -100]\n",
    "        true_labels = [true_labels[j] for j in valid_indices]\n",
    "        predictions = [predictions[j] for j in valid_indices]\n",
    "        \n",
    "        all_true_labels.extend(true_labels)\n",
    "        all_predicted_labels.extend(predictions)\n",
    "    \n",
    "    # Chuyển các nhãn dạng số thành dạng chữ để dễ đọc trong báo cáo\n",
    "    true_labels_str = [id2label[label] for label in all_true_labels]\n",
    "    pred_labels_str = [id2label[label] for label in all_predicted_labels]\n",
    "    \n",
    "    # In báo cáo đánh giá\n",
    "    print(classification_report(true_labels_str, pred_labels_str))\n",
    "\n",
    "print(\"Đánh giá mô hình trên tập test...\")\n",
    "evaluate_model(model, test_dataset, tokenizer, device)"
   ]
  }
 ],
 "metadata": {
  "kaggle": {
   "accelerator": "nvidiaTeslaT4",
   "dataSources": [
    {
     "datasetId": 7517015,
     "sourceId": 11955894,
     "sourceType": "datasetVersion"
    }
   ],
   "dockerImageVersionId": 31041,
   "isGpuEnabled": true,
   "isInternetEnabled": true,
   "language": "python",
   "sourceType": "notebook"
  },
  "kernelspec": {
   "display_name": "Python 3",
   "language": "python",
   "name": "python3"
  },
  "language_info": {
   "codemirror_mode": {
    "name": "ipython",
    "version": 3
   },
   "file_extension": ".py",
   "mimetype": "text/x-python",
   "name": "python",
   "nbconvert_exporter": "python",
   "pygments_lexer": "ipython3",
   "version": "3.11.11"
<<<<<<< HEAD
  },
  "papermill": {
   "default_parameters": {},
   "duration": 536.623962,
   "end_time": "2025-05-27T09:06:35.421275",
   "environment_variables": {},
   "exception": null,
   "input_path": "__notebook__.ipynb",
   "output_path": "__notebook__.ipynb",
   "parameters": {},
   "start_time": "2025-05-27T08:57:38.797313",
   "version": "2.6.0"
  },
  "widgets": {
   "application/vnd.jupyter.widget-state+json": {
    "state": {
     "0a4d9654904241a1ab8509cf25d1d845": {
      "model_module": "@jupyter-widgets/base",
      "model_module_version": "2.0.0",
      "model_name": "LayoutModel",
      "state": {
       "_model_module": "@jupyter-widgets/base",
       "_model_module_version": "2.0.0",
       "_model_name": "LayoutModel",
       "_view_count": null,
       "_view_module": "@jupyter-widgets/base",
       "_view_module_version": "2.0.0",
       "_view_name": "LayoutView",
       "align_content": null,
       "align_items": null,
       "align_self": null,
       "border_bottom": null,
       "border_left": null,
       "border_right": null,
       "border_top": null,
       "bottom": null,
       "display": null,
       "flex": null,
       "flex_flow": null,
       "grid_area": null,
       "grid_auto_columns": null,
       "grid_auto_flow": null,
       "grid_auto_rows": null,
       "grid_column": null,
       "grid_gap": null,
       "grid_row": null,
       "grid_template_areas": null,
       "grid_template_columns": null,
       "grid_template_rows": null,
       "height": null,
       "justify_content": null,
       "justify_items": null,
       "left": null,
       "margin": null,
       "max_height": null,
       "max_width": null,
       "min_height": null,
       "min_width": null,
       "object_fit": null,
       "object_position": null,
       "order": null,
       "overflow": null,
       "padding": null,
       "right": null,
       "top": null,
       "visibility": null,
       "width": null
      }
     },
     "13c0661ae1b84ed7a1e583c838bf3228": {
      "model_module": "@jupyter-widgets/controls",
      "model_module_version": "2.0.0",
      "model_name": "HTMLStyleModel",
      "state": {
       "_model_module": "@jupyter-widgets/controls",
       "_model_module_version": "2.0.0",
       "_model_name": "HTMLStyleModel",
       "_view_count": null,
       "_view_module": "@jupyter-widgets/base",
       "_view_module_version": "2.0.0",
       "_view_name": "StyleView",
       "background": null,
       "description_width": "",
       "font_size": null,
       "text_color": null
      }
     },
     "174778c038104ecf8903fdbb729fedf8": {
      "model_module": "@jupyter-widgets/controls",
      "model_module_version": "2.0.0",
      "model_name": "FloatProgressModel",
      "state": {
       "_dom_classes": [],
       "_model_module": "@jupyter-widgets/controls",
       "_model_module_version": "2.0.0",
       "_model_name": "FloatProgressModel",
       "_view_count": null,
       "_view_module": "@jupyter-widgets/controls",
       "_view_module_version": "2.0.0",
       "_view_name": "ProgressView",
       "bar_style": "success",
       "description": "",
       "description_allow_html": false,
       "layout": "IPY_MODEL_b2de8cb182bf46a489c60b0c903f428c",
       "max": 542923308.0,
       "min": 0.0,
       "orientation": "horizontal",
       "style": "IPY_MODEL_7e0b1dd643524b94803e5131c9aff8c4",
       "tabbable": null,
       "tooltip": null,
       "value": 542923308.0
      }
     },
     "1f577e43d73c48dba4e8936588e8208f": {
      "model_module": "@jupyter-widgets/controls",
      "model_module_version": "2.0.0",
      "model_name": "HTMLModel",
      "state": {
       "_dom_classes": [],
       "_model_module": "@jupyter-widgets/controls",
       "_model_module_version": "2.0.0",
       "_model_name": "HTMLModel",
       "_view_count": null,
       "_view_module": "@jupyter-widgets/controls",
       "_view_module_version": "2.0.0",
       "_view_name": "HTMLView",
       "description": "",
       "description_allow_html": false,
       "layout": "IPY_MODEL_603df8d0d4e64b788eb94fbdae261fd0",
       "placeholder": "​",
       "style": "IPY_MODEL_bb91429b612945f18bb420e218fb7a79",
       "tabbable": null,
       "tooltip": null,
       "value": "pytorch_model.bin: 100%"
      }
     },
     "22c405a6659d47e9814f7a108d785b6f": {
      "model_module": "@jupyter-widgets/base",
      "model_module_version": "2.0.0",
      "model_name": "LayoutModel",
      "state": {
       "_model_module": "@jupyter-widgets/base",
       "_model_module_version": "2.0.0",
       "_model_name": "LayoutModel",
       "_view_count": null,
       "_view_module": "@jupyter-widgets/base",
       "_view_module_version": "2.0.0",
       "_view_name": "LayoutView",
       "align_content": null,
       "align_items": null,
       "align_self": null,
       "border_bottom": null,
       "border_left": null,
       "border_right": null,
       "border_top": null,
       "bottom": null,
       "display": null,
       "flex": null,
       "flex_flow": null,
       "grid_area": null,
       "grid_auto_columns": null,
       "grid_auto_flow": null,
       "grid_auto_rows": null,
       "grid_column": null,
       "grid_gap": null,
       "grid_row": null,
       "grid_template_areas": null,
       "grid_template_columns": null,
       "grid_template_rows": null,
       "height": null,
       "justify_content": null,
       "justify_items": null,
       "left": null,
       "margin": null,
       "max_height": null,
       "max_width": null,
       "min_height": null,
       "min_width": null,
       "object_fit": null,
       "object_position": null,
       "order": null,
       "overflow": null,
       "padding": null,
       "right": null,
       "top": null,
       "visibility": null,
       "width": null
      }
     },
     "255437f71f0b49938b5e4e718fd668db": {
      "model_module": "@jupyter-widgets/controls",
      "model_module_version": "2.0.0",
      "model_name": "HBoxModel",
      "state": {
       "_dom_classes": [],
       "_model_module": "@jupyter-widgets/controls",
       "_model_module_version": "2.0.0",
       "_model_name": "HBoxModel",
       "_view_count": null,
       "_view_module": "@jupyter-widgets/controls",
       "_view_module_version": "2.0.0",
       "_view_name": "HBoxView",
       "box_style": "",
       "children": [
        "IPY_MODEL_959bb83f45474dcb915bb59cefd6e901",
        "IPY_MODEL_f13d121148304003acabfe8b8eb5293c",
        "IPY_MODEL_5325cd01d02c44d69b297f4a99dd8191"
       ],
       "layout": "IPY_MODEL_f8f517637af441a1862974203467a234",
       "tabbable": null,
       "tooltip": null
      }
     },
     "271a74dfff2445acbb2e39ec74b1ccd5": {
      "model_module": "@jupyter-widgets/base",
      "model_module_version": "2.0.0",
      "model_name": "LayoutModel",
      "state": {
       "_model_module": "@jupyter-widgets/base",
       "_model_module_version": "2.0.0",
       "_model_name": "LayoutModel",
       "_view_count": null,
       "_view_module": "@jupyter-widgets/base",
       "_view_module_version": "2.0.0",
       "_view_name": "LayoutView",
       "align_content": null,
       "align_items": null,
       "align_self": null,
       "border_bottom": null,
       "border_left": null,
       "border_right": null,
       "border_top": null,
       "bottom": null,
       "display": null,
       "flex": null,
       "flex_flow": null,
       "grid_area": null,
       "grid_auto_columns": null,
       "grid_auto_flow": null,
       "grid_auto_rows": null,
       "grid_column": null,
       "grid_gap": null,
       "grid_row": null,
       "grid_template_areas": null,
       "grid_template_columns": null,
       "grid_template_rows": null,
       "height": null,
       "justify_content": null,
       "justify_items": null,
       "left": null,
       "margin": null,
       "max_height": null,
       "max_width": null,
       "min_height": null,
       "min_width": null,
       "object_fit": null,
       "object_position": null,
       "order": null,
       "overflow": null,
       "padding": null,
       "right": null,
       "top": null,
       "visibility": null,
       "width": null
      }
     },
     "28946765bdde48688c129c4ba713839d": {
      "model_module": "@jupyter-widgets/controls",
      "model_module_version": "2.0.0",
      "model_name": "FloatProgressModel",
      "state": {
       "_dom_classes": [],
       "_model_module": "@jupyter-widgets/controls",
       "_model_module_version": "2.0.0",
       "_model_name": "FloatProgressModel",
       "_view_count": null,
       "_view_module": "@jupyter-widgets/controls",
       "_view_module_version": "2.0.0",
       "_view_name": "ProgressView",
       "bar_style": "success",
       "description": "",
       "description_allow_html": false,
       "layout": "IPY_MODEL_fc332ee88afc4acc9dba8a231305489e",
       "max": 557.0,
       "min": 0.0,
       "orientation": "horizontal",
       "style": "IPY_MODEL_84c7a88ba2f84a66b214da6cc39635f1",
       "tabbable": null,
       "tooltip": null,
       "value": 557.0
      }
     },
     "35af756c81a54851b9b44667e93f321d": {
      "model_module": "@jupyter-widgets/controls",
      "model_module_version": "2.0.0",
      "model_name": "HTMLModel",
      "state": {
       "_dom_classes": [],
       "_model_module": "@jupyter-widgets/controls",
       "_model_module_version": "2.0.0",
       "_model_name": "HTMLModel",
       "_view_count": null,
       "_view_module": "@jupyter-widgets/controls",
       "_view_module_version": "2.0.0",
       "_view_name": "HTMLView",
       "description": "",
       "description_allow_html": false,
       "layout": "IPY_MODEL_3bbdf87e90824de1a1d6066df00f30fb",
       "placeholder": "​",
       "style": "IPY_MODEL_879db47dbbbc47e0a92c087b0ccf1306",
       "tabbable": null,
       "tooltip": null,
       "value": " 557/557 [00:00&lt;00:00, 61.7kB/s]"
      }
     },
     "379005f26bf049199e18e28966ab9350": {
      "model_module": "@jupyter-widgets/base",
      "model_module_version": "2.0.0",
      "model_name": "LayoutModel",
      "state": {
       "_model_module": "@jupyter-widgets/base",
       "_model_module_version": "2.0.0",
       "_model_name": "LayoutModel",
       "_view_count": null,
       "_view_module": "@jupyter-widgets/base",
       "_view_module_version": "2.0.0",
       "_view_name": "LayoutView",
       "align_content": null,
       "align_items": null,
       "align_self": null,
       "border_bottom": null,
       "border_left": null,
       "border_right": null,
       "border_top": null,
       "bottom": null,
       "display": null,
       "flex": null,
       "flex_flow": null,
       "grid_area": null,
       "grid_auto_columns": null,
       "grid_auto_flow": null,
       "grid_auto_rows": null,
       "grid_column": null,
       "grid_gap": null,
       "grid_row": null,
       "grid_template_areas": null,
       "grid_template_columns": null,
       "grid_template_rows": null,
       "height": null,
       "justify_content": null,
       "justify_items": null,
       "left": null,
       "margin": null,
       "max_height": null,
       "max_width": null,
       "min_height": null,
       "min_width": null,
       "object_fit": null,
       "object_position": null,
       "order": null,
       "overflow": null,
       "padding": null,
       "right": null,
       "top": null,
       "visibility": null,
       "width": null
      }
     },
     "391f18baa74245eea2fd34d4e5843e7a": {
      "model_module": "@jupyter-widgets/controls",
      "model_module_version": "2.0.0",
      "model_name": "HTMLStyleModel",
      "state": {
       "_model_module": "@jupyter-widgets/controls",
       "_model_module_version": "2.0.0",
       "_model_name": "HTMLStyleModel",
       "_view_count": null,
       "_view_module": "@jupyter-widgets/base",
       "_view_module_version": "2.0.0",
       "_view_name": "StyleView",
       "background": null,
       "description_width": "",
       "font_size": null,
       "text_color": null
      }
     },
     "3bbdf87e90824de1a1d6066df00f30fb": {
      "model_module": "@jupyter-widgets/base",
      "model_module_version": "2.0.0",
      "model_name": "LayoutModel",
      "state": {
       "_model_module": "@jupyter-widgets/base",
       "_model_module_version": "2.0.0",
       "_model_name": "LayoutModel",
       "_view_count": null,
       "_view_module": "@jupyter-widgets/base",
       "_view_module_version": "2.0.0",
       "_view_name": "LayoutView",
       "align_content": null,
       "align_items": null,
       "align_self": null,
       "border_bottom": null,
       "border_left": null,
       "border_right": null,
       "border_top": null,
       "bottom": null,
       "display": null,
       "flex": null,
       "flex_flow": null,
       "grid_area": null,
       "grid_auto_columns": null,
       "grid_auto_flow": null,
       "grid_auto_rows": null,
       "grid_column": null,
       "grid_gap": null,
       "grid_row": null,
       "grid_template_areas": null,
       "grid_template_columns": null,
       "grid_template_rows": null,
       "height": null,
       "justify_content": null,
       "justify_items": null,
       "left": null,
       "margin": null,
       "max_height": null,
       "max_width": null,
       "min_height": null,
       "min_width": null,
       "object_fit": null,
       "object_position": null,
       "order": null,
       "overflow": null,
       "padding": null,
       "right": null,
       "top": null,
       "visibility": null,
       "width": null
      }
     },
     "3e3626286051460e96cf4667b8f21c99": {
      "model_module": "@jupyter-widgets/base",
      "model_module_version": "2.0.0",
      "model_name": "LayoutModel",
      "state": {
       "_model_module": "@jupyter-widgets/base",
       "_model_module_version": "2.0.0",
       "_model_name": "LayoutModel",
       "_view_count": null,
       "_view_module": "@jupyter-widgets/base",
       "_view_module_version": "2.0.0",
       "_view_name": "LayoutView",
       "align_content": null,
       "align_items": null,
       "align_self": null,
       "border_bottom": null,
       "border_left": null,
       "border_right": null,
       "border_top": null,
       "bottom": null,
       "display": null,
       "flex": null,
       "flex_flow": null,
       "grid_area": null,
       "grid_auto_columns": null,
       "grid_auto_flow": null,
       "grid_auto_rows": null,
       "grid_column": null,
       "grid_gap": null,
       "grid_row": null,
       "grid_template_areas": null,
       "grid_template_columns": null,
       "grid_template_rows": null,
       "height": null,
       "justify_content": null,
       "justify_items": null,
       "left": null,
       "margin": null,
       "max_height": null,
       "max_width": null,
       "min_height": null,
       "min_width": null,
       "object_fit": null,
       "object_position": null,
       "order": null,
       "overflow": null,
       "padding": null,
       "right": null,
       "top": null,
       "visibility": null,
       "width": null
      }
     },
     "40cdca44fe2c4d85822059afa176f779": {
      "model_module": "@jupyter-widgets/controls",
      "model_module_version": "2.0.0",
      "model_name": "FloatProgressModel",
      "state": {
       "_dom_classes": [],
       "_model_module": "@jupyter-widgets/controls",
       "_model_module_version": "2.0.0",
       "_model_name": "FloatProgressModel",
       "_view_count": null,
       "_view_module": "@jupyter-widgets/controls",
       "_view_module_version": "2.0.0",
       "_view_name": "ProgressView",
       "bar_style": "success",
       "description": "",
       "description_allow_html": false,
       "layout": "IPY_MODEL_5821c963f16e4d109cce4e3dcbd49de4",
       "max": 3132320.0,
       "min": 0.0,
       "orientation": "horizontal",
       "style": "IPY_MODEL_41da106fcde743fb9a8a3f2a65a3e2c4",
       "tabbable": null,
       "tooltip": null,
       "value": 3132320.0
      }
     },
     "419b45c5438a4782b99766137fef4498": {
      "model_module": "@jupyter-widgets/controls",
      "model_module_version": "2.0.0",
      "model_name": "ProgressStyleModel",
      "state": {
       "_model_module": "@jupyter-widgets/controls",
       "_model_module_version": "2.0.0",
       "_model_name": "ProgressStyleModel",
       "_view_count": null,
       "_view_module": "@jupyter-widgets/base",
       "_view_module_version": "2.0.0",
       "_view_name": "StyleView",
       "bar_color": null,
       "description_width": ""
      }
     },
     "41da106fcde743fb9a8a3f2a65a3e2c4": {
      "model_module": "@jupyter-widgets/controls",
      "model_module_version": "2.0.0",
      "model_name": "ProgressStyleModel",
      "state": {
       "_model_module": "@jupyter-widgets/controls",
       "_model_module_version": "2.0.0",
       "_model_name": "ProgressStyleModel",
       "_view_count": null,
       "_view_module": "@jupyter-widgets/base",
       "_view_module_version": "2.0.0",
       "_view_name": "StyleView",
       "bar_color": null,
       "description_width": ""
      }
     },
     "447840e041a9443a83ac4e13a82cde04": {
      "model_module": "@jupyter-widgets/controls",
      "model_module_version": "2.0.0",
      "model_name": "HTMLModel",
      "state": {
       "_dom_classes": [],
       "_model_module": "@jupyter-widgets/controls",
       "_model_module_version": "2.0.0",
       "_model_name": "HTMLModel",
       "_view_count": null,
       "_view_module": "@jupyter-widgets/controls",
       "_view_module_version": "2.0.0",
       "_view_name": "HTMLView",
       "description": "",
       "description_allow_html": false,
       "layout": "IPY_MODEL_a5bd943cafc04b539595819249cf98f9",
       "placeholder": "​",
       "style": "IPY_MODEL_91344ad1253844d0b94564e48102e316",
       "tabbable": null,
       "tooltip": null,
       "value": "vocab.txt: 100%"
      }
     },
     "44ec37fd6a7f4bd6984c3343946cabce": {
      "model_module": "@jupyter-widgets/controls",
      "model_module_version": "2.0.0",
      "model_name": "HBoxModel",
      "state": {
       "_dom_classes": [],
       "_model_module": "@jupyter-widgets/controls",
       "_model_module_version": "2.0.0",
       "_model_name": "HBoxModel",
       "_view_count": null,
       "_view_module": "@jupyter-widgets/controls",
       "_view_module_version": "2.0.0",
       "_view_name": "HBoxView",
       "box_style": "",
       "children": [
        "IPY_MODEL_8bae5a97910a4523993bfa77ecee06e5",
        "IPY_MODEL_28946765bdde48688c129c4ba713839d",
        "IPY_MODEL_35af756c81a54851b9b44667e93f321d"
       ],
       "layout": "IPY_MODEL_22c405a6659d47e9814f7a108d785b6f",
       "tabbable": null,
       "tooltip": null
      }
     },
     "47bf2abca30e4055a5467b03927b42c2": {
      "model_module": "@jupyter-widgets/controls",
      "model_module_version": "2.0.0",
      "model_name": "HTMLModel",
      "state": {
       "_dom_classes": [],
       "_model_module": "@jupyter-widgets/controls",
       "_model_module_version": "2.0.0",
       "_model_name": "HTMLModel",
       "_view_count": null,
       "_view_module": "@jupyter-widgets/controls",
       "_view_module_version": "2.0.0",
       "_view_name": "HTMLView",
       "description": "",
       "description_allow_html": false,
       "layout": "IPY_MODEL_bb40d761bf8a4bc091ec869b953ffeff",
       "placeholder": "​",
       "style": "IPY_MODEL_e3024223e69b4bb0b6463abdb56fc44c",
       "tabbable": null,
       "tooltip": null,
       "value": " 3.13M/3.13M [00:00&lt;00:00, 33.6MB/s]"
      }
     },
     "503292a0d8fe49f6b87d551dd743bf84": {
      "model_module": "@jupyter-widgets/controls",
      "model_module_version": "2.0.0",
      "model_name": "HTMLStyleModel",
      "state": {
       "_model_module": "@jupyter-widgets/controls",
       "_model_module_version": "2.0.0",
       "_model_name": "HTMLStyleModel",
       "_view_count": null,
       "_view_module": "@jupyter-widgets/base",
       "_view_module_version": "2.0.0",
       "_view_name": "StyleView",
       "background": null,
       "description_width": "",
       "font_size": null,
       "text_color": null
      }
     },
     "5325cd01d02c44d69b297f4a99dd8191": {
      "model_module": "@jupyter-widgets/controls",
      "model_module_version": "2.0.0",
      "model_name": "HTMLModel",
      "state": {
       "_dom_classes": [],
       "_model_module": "@jupyter-widgets/controls",
       "_model_module_version": "2.0.0",
       "_model_name": "HTMLModel",
       "_view_count": null,
       "_view_module": "@jupyter-widgets/controls",
       "_view_module_version": "2.0.0",
       "_view_name": "HTMLView",
       "description": "",
       "description_allow_html": false,
       "layout": "IPY_MODEL_db4858d04dc54e99b6084a4a8136184f",
       "placeholder": "​",
       "style": "IPY_MODEL_503292a0d8fe49f6b87d551dd743bf84",
       "tabbable": null,
       "tooltip": null,
       "value": " 1.14M/1.14M [00:00&lt;00:00, 16.7MB/s]"
      }
     },
     "53f89ac8fefd411a90c6665cc040b8bf": {
      "model_module": "@jupyter-widgets/controls",
      "model_module_version": "2.0.0",
      "model_name": "HBoxModel",
      "state": {
       "_dom_classes": [],
       "_model_module": "@jupyter-widgets/controls",
       "_model_module_version": "2.0.0",
       "_model_name": "HBoxModel",
       "_view_count": null,
       "_view_module": "@jupyter-widgets/controls",
       "_view_module_version": "2.0.0",
       "_view_name": "HBoxView",
       "box_style": "",
       "children": [
        "IPY_MODEL_1f577e43d73c48dba4e8936588e8208f",
        "IPY_MODEL_174778c038104ecf8903fdbb729fedf8",
        "IPY_MODEL_cd5c05714bfe406ba137162e91acc365"
       ],
       "layout": "IPY_MODEL_379005f26bf049199e18e28966ab9350",
       "tabbable": null,
       "tooltip": null
      }
     },
     "5821c963f16e4d109cce4e3dcbd49de4": {
      "model_module": "@jupyter-widgets/base",
      "model_module_version": "2.0.0",
      "model_name": "LayoutModel",
      "state": {
       "_model_module": "@jupyter-widgets/base",
       "_model_module_version": "2.0.0",
       "_model_name": "LayoutModel",
       "_view_count": null,
       "_view_module": "@jupyter-widgets/base",
       "_view_module_version": "2.0.0",
       "_view_name": "LayoutView",
       "align_content": null,
       "align_items": null,
       "align_self": null,
       "border_bottom": null,
       "border_left": null,
       "border_right": null,
       "border_top": null,
       "bottom": null,
       "display": null,
       "flex": null,
       "flex_flow": null,
       "grid_area": null,
       "grid_auto_columns": null,
       "grid_auto_flow": null,
       "grid_auto_rows": null,
       "grid_column": null,
       "grid_gap": null,
       "grid_row": null,
       "grid_template_areas": null,
       "grid_template_columns": null,
       "grid_template_rows": null,
       "height": null,
       "justify_content": null,
       "justify_items": null,
       "left": null,
       "margin": null,
       "max_height": null,
       "max_width": null,
       "min_height": null,
       "min_width": null,
       "object_fit": null,
       "object_position": null,
       "order": null,
       "overflow": null,
       "padding": null,
       "right": null,
       "top": null,
       "visibility": null,
       "width": null
      }
     },
     "603df8d0d4e64b788eb94fbdae261fd0": {
      "model_module": "@jupyter-widgets/base",
      "model_module_version": "2.0.0",
      "model_name": "LayoutModel",
      "state": {
       "_model_module": "@jupyter-widgets/base",
       "_model_module_version": "2.0.0",
       "_model_name": "LayoutModel",
       "_view_count": null,
       "_view_module": "@jupyter-widgets/base",
       "_view_module_version": "2.0.0",
       "_view_name": "LayoutView",
       "align_content": null,
       "align_items": null,
       "align_self": null,
       "border_bottom": null,
       "border_left": null,
       "border_right": null,
       "border_top": null,
       "bottom": null,
       "display": null,
       "flex": null,
       "flex_flow": null,
       "grid_area": null,
       "grid_auto_columns": null,
       "grid_auto_flow": null,
       "grid_auto_rows": null,
       "grid_column": null,
       "grid_gap": null,
       "grid_row": null,
       "grid_template_areas": null,
       "grid_template_columns": null,
       "grid_template_rows": null,
       "height": null,
       "justify_content": null,
       "justify_items": null,
       "left": null,
       "margin": null,
       "max_height": null,
       "max_width": null,
       "min_height": null,
       "min_width": null,
       "object_fit": null,
       "object_position": null,
       "order": null,
       "overflow": null,
       "padding": null,
       "right": null,
       "top": null,
       "visibility": null,
       "width": null
      }
     },
     "65836e5657a74988b69d1d69c74aed42": {
      "model_module": "@jupyter-widgets/base",
      "model_module_version": "2.0.0",
      "model_name": "LayoutModel",
      "state": {
       "_model_module": "@jupyter-widgets/base",
       "_model_module_version": "2.0.0",
       "_model_name": "LayoutModel",
       "_view_count": null,
       "_view_module": "@jupyter-widgets/base",
       "_view_module_version": "2.0.0",
       "_view_name": "LayoutView",
       "align_content": null,
       "align_items": null,
       "align_self": null,
       "border_bottom": null,
       "border_left": null,
       "border_right": null,
       "border_top": null,
       "bottom": null,
       "display": null,
       "flex": null,
       "flex_flow": null,
       "grid_area": null,
       "grid_auto_columns": null,
       "grid_auto_flow": null,
       "grid_auto_rows": null,
       "grid_column": null,
       "grid_gap": null,
       "grid_row": null,
       "grid_template_areas": null,
       "grid_template_columns": null,
       "grid_template_rows": null,
       "height": null,
       "justify_content": null,
       "justify_items": null,
       "left": null,
       "margin": null,
       "max_height": null,
       "max_width": null,
       "min_height": null,
       "min_width": null,
       "object_fit": null,
       "object_position": null,
       "order": null,
       "overflow": null,
       "padding": null,
       "right": null,
       "top": null,
       "visibility": null,
       "width": null
      }
     },
     "6eca307a48204fafbdb376bba23bf769": {
      "model_module": "@jupyter-widgets/controls",
      "model_module_version": "2.0.0",
      "model_name": "HTMLStyleModel",
      "state": {
       "_model_module": "@jupyter-widgets/controls",
       "_model_module_version": "2.0.0",
       "_model_name": "HTMLStyleModel",
       "_view_count": null,
       "_view_module": "@jupyter-widgets/base",
       "_view_module_version": "2.0.0",
       "_view_name": "StyleView",
       "background": null,
       "description_width": "",
       "font_size": null,
       "text_color": null
      }
     },
     "7e0b1dd643524b94803e5131c9aff8c4": {
      "model_module": "@jupyter-widgets/controls",
      "model_module_version": "2.0.0",
      "model_name": "ProgressStyleModel",
      "state": {
       "_model_module": "@jupyter-widgets/controls",
       "_model_module_version": "2.0.0",
       "_model_name": "ProgressStyleModel",
       "_view_count": null,
       "_view_module": "@jupyter-widgets/base",
       "_view_module_version": "2.0.0",
       "_view_name": "StyleView",
       "bar_color": null,
       "description_width": ""
      }
     },
     "84c7a88ba2f84a66b214da6cc39635f1": {
      "model_module": "@jupyter-widgets/controls",
      "model_module_version": "2.0.0",
      "model_name": "ProgressStyleModel",
      "state": {
       "_model_module": "@jupyter-widgets/controls",
       "_model_module_version": "2.0.0",
       "_model_name": "ProgressStyleModel",
       "_view_count": null,
       "_view_module": "@jupyter-widgets/base",
       "_view_module_version": "2.0.0",
       "_view_name": "StyleView",
       "bar_color": null,
       "description_width": ""
      }
     },
     "879db47dbbbc47e0a92c087b0ccf1306": {
      "model_module": "@jupyter-widgets/controls",
      "model_module_version": "2.0.0",
      "model_name": "HTMLStyleModel",
      "state": {
       "_model_module": "@jupyter-widgets/controls",
       "_model_module_version": "2.0.0",
       "_model_name": "HTMLStyleModel",
       "_view_count": null,
       "_view_module": "@jupyter-widgets/base",
       "_view_module_version": "2.0.0",
       "_view_name": "StyleView",
       "background": null,
       "description_width": "",
       "font_size": null,
       "text_color": null
      }
     },
     "8bae5a97910a4523993bfa77ecee06e5": {
      "model_module": "@jupyter-widgets/controls",
      "model_module_version": "2.0.0",
      "model_name": "HTMLModel",
      "state": {
       "_dom_classes": [],
       "_model_module": "@jupyter-widgets/controls",
       "_model_module_version": "2.0.0",
       "_model_name": "HTMLModel",
       "_view_count": null,
       "_view_module": "@jupyter-widgets/controls",
       "_view_module_version": "2.0.0",
       "_view_name": "HTMLView",
       "description": "",
       "description_allow_html": false,
       "layout": "IPY_MODEL_d7a64960db374265bba75f779ef6c762",
       "placeholder": "​",
       "style": "IPY_MODEL_6eca307a48204fafbdb376bba23bf769",
       "tabbable": null,
       "tooltip": null,
       "value": "config.json: 100%"
      }
     },
     "8cbcd8271fc540a3bdfe0507d1760f41": {
      "model_module": "@jupyter-widgets/base",
      "model_module_version": "2.0.0",
      "model_name": "LayoutModel",
      "state": {
       "_model_module": "@jupyter-widgets/base",
       "_model_module_version": "2.0.0",
       "_model_name": "LayoutModel",
       "_view_count": null,
       "_view_module": "@jupyter-widgets/base",
       "_view_module_version": "2.0.0",
       "_view_name": "LayoutView",
       "align_content": null,
       "align_items": null,
       "align_self": null,
       "border_bottom": null,
       "border_left": null,
       "border_right": null,
       "border_top": null,
       "bottom": null,
       "display": null,
       "flex": null,
       "flex_flow": null,
       "grid_area": null,
       "grid_auto_columns": null,
       "grid_auto_flow": null,
       "grid_auto_rows": null,
       "grid_column": null,
       "grid_gap": null,
       "grid_row": null,
       "grid_template_areas": null,
       "grid_template_columns": null,
       "grid_template_rows": null,
       "height": null,
       "justify_content": null,
       "justify_items": null,
       "left": null,
       "margin": null,
       "max_height": null,
       "max_width": null,
       "min_height": null,
       "min_width": null,
       "object_fit": null,
       "object_position": null,
       "order": null,
       "overflow": null,
       "padding": null,
       "right": null,
       "top": null,
       "visibility": null,
       "width": null
      }
     },
     "91344ad1253844d0b94564e48102e316": {
      "model_module": "@jupyter-widgets/controls",
      "model_module_version": "2.0.0",
      "model_name": "HTMLStyleModel",
      "state": {
       "_model_module": "@jupyter-widgets/controls",
       "_model_module_version": "2.0.0",
       "_model_name": "HTMLStyleModel",
       "_view_count": null,
       "_view_module": "@jupyter-widgets/base",
       "_view_module_version": "2.0.0",
       "_view_name": "StyleView",
       "background": null,
       "description_width": "",
       "font_size": null,
       "text_color": null
      }
     },
     "9229a444544b426d87bb3a00d07bada6": {
      "model_module": "@jupyter-widgets/controls",
      "model_module_version": "2.0.0",
      "model_name": "HTMLStyleModel",
      "state": {
       "_model_module": "@jupyter-widgets/controls",
       "_model_module_version": "2.0.0",
       "_model_name": "HTMLStyleModel",
       "_view_count": null,
       "_view_module": "@jupyter-widgets/base",
       "_view_module_version": "2.0.0",
       "_view_name": "StyleView",
       "background": null,
       "description_width": "",
       "font_size": null,
       "text_color": null
      }
     },
     "959bb83f45474dcb915bb59cefd6e901": {
      "model_module": "@jupyter-widgets/controls",
      "model_module_version": "2.0.0",
      "model_name": "HTMLModel",
      "state": {
       "_dom_classes": [],
       "_model_module": "@jupyter-widgets/controls",
       "_model_module_version": "2.0.0",
       "_model_name": "HTMLModel",
       "_view_count": null,
       "_view_module": "@jupyter-widgets/controls",
       "_view_module_version": "2.0.0",
       "_view_name": "HTMLView",
       "description": "",
       "description_allow_html": false,
       "layout": "IPY_MODEL_8cbcd8271fc540a3bdfe0507d1760f41",
       "placeholder": "​",
       "style": "IPY_MODEL_b2fcb3f0d1734f2ab3a4a2be072e5652",
       "tabbable": null,
       "tooltip": null,
       "value": "bpe.codes: 100%"
      }
     },
     "963f2af0788445baaf7a614e15a229f0": {
      "model_module": "@jupyter-widgets/controls",
      "model_module_version": "2.0.0",
      "model_name": "HBoxModel",
      "state": {
       "_dom_classes": [],
       "_model_module": "@jupyter-widgets/controls",
       "_model_module_version": "2.0.0",
       "_model_name": "HBoxModel",
       "_view_count": null,
       "_view_module": "@jupyter-widgets/controls",
       "_view_module_version": "2.0.0",
       "_view_name": "HBoxView",
       "box_style": "",
       "children": [
        "IPY_MODEL_447840e041a9443a83ac4e13a82cde04",
        "IPY_MODEL_96d5c48f654b405c83718d552e80edd6",
        "IPY_MODEL_d5b2e114681d42e383c9f187c1281542"
       ],
       "layout": "IPY_MODEL_271a74dfff2445acbb2e39ec74b1ccd5",
       "tabbable": null,
       "tooltip": null
      }
     },
     "96d5c48f654b405c83718d552e80edd6": {
      "model_module": "@jupyter-widgets/controls",
      "model_module_version": "2.0.0",
      "model_name": "FloatProgressModel",
      "state": {
       "_dom_classes": [],
       "_model_module": "@jupyter-widgets/controls",
       "_model_module_version": "2.0.0",
       "_model_name": "FloatProgressModel",
       "_view_count": null,
       "_view_module": "@jupyter-widgets/controls",
       "_view_module_version": "2.0.0",
       "_view_name": "ProgressView",
       "bar_style": "success",
       "description": "",
       "description_allow_html": false,
       "layout": "IPY_MODEL_9acf3f94d2fd483fbc014ec27e860260",
       "max": 895321.0,
       "min": 0.0,
       "orientation": "horizontal",
       "style": "IPY_MODEL_979c59afd8524b63b25a7176161fc62c",
       "tabbable": null,
       "tooltip": null,
       "value": 895321.0
      }
     },
     "979c59afd8524b63b25a7176161fc62c": {
      "model_module": "@jupyter-widgets/controls",
      "model_module_version": "2.0.0",
      "model_name": "ProgressStyleModel",
      "state": {
       "_model_module": "@jupyter-widgets/controls",
       "_model_module_version": "2.0.0",
       "_model_name": "ProgressStyleModel",
       "_view_count": null,
       "_view_module": "@jupyter-widgets/base",
       "_view_module_version": "2.0.0",
       "_view_name": "StyleView",
       "bar_color": null,
       "description_width": ""
      }
     },
     "9acf3f94d2fd483fbc014ec27e860260": {
      "model_module": "@jupyter-widgets/base",
      "model_module_version": "2.0.0",
      "model_name": "LayoutModel",
      "state": {
       "_model_module": "@jupyter-widgets/base",
       "_model_module_version": "2.0.0",
       "_model_name": "LayoutModel",
       "_view_count": null,
       "_view_module": "@jupyter-widgets/base",
       "_view_module_version": "2.0.0",
       "_view_name": "LayoutView",
       "align_content": null,
       "align_items": null,
       "align_self": null,
       "border_bottom": null,
       "border_left": null,
       "border_right": null,
       "border_top": null,
       "bottom": null,
       "display": null,
       "flex": null,
       "flex_flow": null,
       "grid_area": null,
       "grid_auto_columns": null,
       "grid_auto_flow": null,
       "grid_auto_rows": null,
       "grid_column": null,
       "grid_gap": null,
       "grid_row": null,
       "grid_template_areas": null,
       "grid_template_columns": null,
       "grid_template_rows": null,
       "height": null,
       "justify_content": null,
       "justify_items": null,
       "left": null,
       "margin": null,
       "max_height": null,
       "max_width": null,
       "min_height": null,
       "min_width": null,
       "object_fit": null,
       "object_position": null,
       "order": null,
       "overflow": null,
       "padding": null,
       "right": null,
       "top": null,
       "visibility": null,
       "width": null
      }
     },
     "a205ff90ea72412b84076f6f772e5c5c": {
      "model_module": "@jupyter-widgets/base",
      "model_module_version": "2.0.0",
      "model_name": "LayoutModel",
      "state": {
       "_model_module": "@jupyter-widgets/base",
       "_model_module_version": "2.0.0",
       "_model_name": "LayoutModel",
       "_view_count": null,
       "_view_module": "@jupyter-widgets/base",
       "_view_module_version": "2.0.0",
       "_view_name": "LayoutView",
       "align_content": null,
       "align_items": null,
       "align_self": null,
       "border_bottom": null,
       "border_left": null,
       "border_right": null,
       "border_top": null,
       "bottom": null,
       "display": null,
       "flex": null,
       "flex_flow": null,
       "grid_area": null,
       "grid_auto_columns": null,
       "grid_auto_flow": null,
       "grid_auto_rows": null,
       "grid_column": null,
       "grid_gap": null,
       "grid_row": null,
       "grid_template_areas": null,
       "grid_template_columns": null,
       "grid_template_rows": null,
       "height": null,
       "justify_content": null,
       "justify_items": null,
       "left": null,
       "margin": null,
       "max_height": null,
       "max_width": null,
       "min_height": null,
       "min_width": null,
       "object_fit": null,
       "object_position": null,
       "order": null,
       "overflow": null,
       "padding": null,
       "right": null,
       "top": null,
       "visibility": null,
       "width": null
      }
     },
     "a5bd943cafc04b539595819249cf98f9": {
      "model_module": "@jupyter-widgets/base",
      "model_module_version": "2.0.0",
      "model_name": "LayoutModel",
      "state": {
       "_model_module": "@jupyter-widgets/base",
       "_model_module_version": "2.0.0",
       "_model_name": "LayoutModel",
       "_view_count": null,
       "_view_module": "@jupyter-widgets/base",
       "_view_module_version": "2.0.0",
       "_view_name": "LayoutView",
       "align_content": null,
       "align_items": null,
       "align_self": null,
       "border_bottom": null,
       "border_left": null,
       "border_right": null,
       "border_top": null,
       "bottom": null,
       "display": null,
       "flex": null,
       "flex_flow": null,
       "grid_area": null,
       "grid_auto_columns": null,
       "grid_auto_flow": null,
       "grid_auto_rows": null,
       "grid_column": null,
       "grid_gap": null,
       "grid_row": null,
       "grid_template_areas": null,
       "grid_template_columns": null,
       "grid_template_rows": null,
       "height": null,
       "justify_content": null,
       "justify_items": null,
       "left": null,
       "margin": null,
       "max_height": null,
       "max_width": null,
       "min_height": null,
       "min_width": null,
       "object_fit": null,
       "object_position": null,
       "order": null,
       "overflow": null,
       "padding": null,
       "right": null,
       "top": null,
       "visibility": null,
       "width": null
      }
     },
     "b2de8cb182bf46a489c60b0c903f428c": {
      "model_module": "@jupyter-widgets/base",
      "model_module_version": "2.0.0",
      "model_name": "LayoutModel",
      "state": {
       "_model_module": "@jupyter-widgets/base",
       "_model_module_version": "2.0.0",
       "_model_name": "LayoutModel",
       "_view_count": null,
       "_view_module": "@jupyter-widgets/base",
       "_view_module_version": "2.0.0",
       "_view_name": "LayoutView",
       "align_content": null,
       "align_items": null,
       "align_self": null,
       "border_bottom": null,
       "border_left": null,
       "border_right": null,
       "border_top": null,
       "bottom": null,
       "display": null,
       "flex": null,
       "flex_flow": null,
       "grid_area": null,
       "grid_auto_columns": null,
       "grid_auto_flow": null,
       "grid_auto_rows": null,
       "grid_column": null,
       "grid_gap": null,
       "grid_row": null,
       "grid_template_areas": null,
       "grid_template_columns": null,
       "grid_template_rows": null,
       "height": null,
       "justify_content": null,
       "justify_items": null,
       "left": null,
       "margin": null,
       "max_height": null,
       "max_width": null,
       "min_height": null,
       "min_width": null,
       "object_fit": null,
       "object_position": null,
       "order": null,
       "overflow": null,
       "padding": null,
       "right": null,
       "top": null,
       "visibility": null,
       "width": null
      }
     },
     "b2fcb3f0d1734f2ab3a4a2be072e5652": {
      "model_module": "@jupyter-widgets/controls",
      "model_module_version": "2.0.0",
      "model_name": "HTMLStyleModel",
      "state": {
       "_model_module": "@jupyter-widgets/controls",
       "_model_module_version": "2.0.0",
       "_model_name": "HTMLStyleModel",
       "_view_count": null,
       "_view_module": "@jupyter-widgets/base",
       "_view_module_version": "2.0.0",
       "_view_name": "StyleView",
       "background": null,
       "description_width": "",
       "font_size": null,
       "text_color": null
      }
     },
     "bb40d761bf8a4bc091ec869b953ffeff": {
      "model_module": "@jupyter-widgets/base",
      "model_module_version": "2.0.0",
      "model_name": "LayoutModel",
      "state": {
       "_model_module": "@jupyter-widgets/base",
       "_model_module_version": "2.0.0",
       "_model_name": "LayoutModel",
       "_view_count": null,
       "_view_module": "@jupyter-widgets/base",
       "_view_module_version": "2.0.0",
       "_view_name": "LayoutView",
       "align_content": null,
       "align_items": null,
       "align_self": null,
       "border_bottom": null,
       "border_left": null,
       "border_right": null,
       "border_top": null,
       "bottom": null,
       "display": null,
       "flex": null,
       "flex_flow": null,
       "grid_area": null,
       "grid_auto_columns": null,
       "grid_auto_flow": null,
       "grid_auto_rows": null,
       "grid_column": null,
       "grid_gap": null,
       "grid_row": null,
       "grid_template_areas": null,
       "grid_template_columns": null,
       "grid_template_rows": null,
       "height": null,
       "justify_content": null,
       "justify_items": null,
       "left": null,
       "margin": null,
       "max_height": null,
       "max_width": null,
       "min_height": null,
       "min_width": null,
       "object_fit": null,
       "object_position": null,
       "order": null,
       "overflow": null,
       "padding": null,
       "right": null,
       "top": null,
       "visibility": null,
       "width": null
      }
     },
     "bb91429b612945f18bb420e218fb7a79": {
      "model_module": "@jupyter-widgets/controls",
      "model_module_version": "2.0.0",
      "model_name": "HTMLStyleModel",
      "state": {
       "_model_module": "@jupyter-widgets/controls",
       "_model_module_version": "2.0.0",
       "_model_name": "HTMLStyleModel",
       "_view_count": null,
       "_view_module": "@jupyter-widgets/base",
       "_view_module_version": "2.0.0",
       "_view_name": "StyleView",
       "background": null,
       "description_width": "",
       "font_size": null,
       "text_color": null
      }
     },
     "cd5c05714bfe406ba137162e91acc365": {
      "model_module": "@jupyter-widgets/controls",
      "model_module_version": "2.0.0",
      "model_name": "HTMLModel",
      "state": {
       "_dom_classes": [],
       "_model_module": "@jupyter-widgets/controls",
       "_model_module_version": "2.0.0",
       "_model_name": "HTMLModel",
       "_view_count": null,
       "_view_module": "@jupyter-widgets/controls",
       "_view_module_version": "2.0.0",
       "_view_name": "HTMLView",
       "description": "",
       "description_allow_html": false,
       "layout": "IPY_MODEL_3e3626286051460e96cf4667b8f21c99",
       "placeholder": "​",
       "style": "IPY_MODEL_13c0661ae1b84ed7a1e583c838bf3228",
       "tabbable": null,
       "tooltip": null,
       "value": " 543M/543M [00:02&lt;00:00, 282MB/s]"
      }
     },
     "d5b2e114681d42e383c9f187c1281542": {
      "model_module": "@jupyter-widgets/controls",
      "model_module_version": "2.0.0",
      "model_name": "HTMLModel",
      "state": {
       "_dom_classes": [],
       "_model_module": "@jupyter-widgets/controls",
       "_model_module_version": "2.0.0",
       "_model_name": "HTMLModel",
       "_view_count": null,
       "_view_module": "@jupyter-widgets/controls",
       "_view_module_version": "2.0.0",
       "_view_name": "HTMLView",
       "description": "",
       "description_allow_html": false,
       "layout": "IPY_MODEL_0a4d9654904241a1ab8509cf25d1d845",
       "placeholder": "​",
       "style": "IPY_MODEL_391f18baa74245eea2fd34d4e5843e7a",
       "tabbable": null,
       "tooltip": null,
       "value": " 895k/895k [00:00&lt;00:00, 14.0MB/s]"
      }
     },
     "d7a64960db374265bba75f779ef6c762": {
      "model_module": "@jupyter-widgets/base",
      "model_module_version": "2.0.0",
      "model_name": "LayoutModel",
      "state": {
       "_model_module": "@jupyter-widgets/base",
       "_model_module_version": "2.0.0",
       "_model_name": "LayoutModel",
       "_view_count": null,
       "_view_module": "@jupyter-widgets/base",
       "_view_module_version": "2.0.0",
       "_view_name": "LayoutView",
       "align_content": null,
       "align_items": null,
       "align_self": null,
       "border_bottom": null,
       "border_left": null,
       "border_right": null,
       "border_top": null,
       "bottom": null,
       "display": null,
       "flex": null,
       "flex_flow": null,
       "grid_area": null,
       "grid_auto_columns": null,
       "grid_auto_flow": null,
       "grid_auto_rows": null,
       "grid_column": null,
       "grid_gap": null,
       "grid_row": null,
       "grid_template_areas": null,
       "grid_template_columns": null,
       "grid_template_rows": null,
       "height": null,
       "justify_content": null,
       "justify_items": null,
       "left": null,
       "margin": null,
       "max_height": null,
       "max_width": null,
       "min_height": null,
       "min_width": null,
       "object_fit": null,
       "object_position": null,
       "order": null,
       "overflow": null,
       "padding": null,
       "right": null,
       "top": null,
       "visibility": null,
       "width": null
      }
     },
     "db2b44b958ff47bca95859658397d66d": {
      "model_module": "@jupyter-widgets/controls",
      "model_module_version": "2.0.0",
      "model_name": "HTMLModel",
      "state": {
       "_dom_classes": [],
       "_model_module": "@jupyter-widgets/controls",
       "_model_module_version": "2.0.0",
       "_model_name": "HTMLModel",
       "_view_count": null,
       "_view_module": "@jupyter-widgets/controls",
       "_view_module_version": "2.0.0",
       "_view_name": "HTMLView",
       "description": "",
       "description_allow_html": false,
       "layout": "IPY_MODEL_65836e5657a74988b69d1d69c74aed42",
       "placeholder": "​",
       "style": "IPY_MODEL_9229a444544b426d87bb3a00d07bada6",
       "tabbable": null,
       "tooltip": null,
       "value": "tokenizer.json: 100%"
      }
     },
     "db4858d04dc54e99b6084a4a8136184f": {
      "model_module": "@jupyter-widgets/base",
      "model_module_version": "2.0.0",
      "model_name": "LayoutModel",
      "state": {
       "_model_module": "@jupyter-widgets/base",
       "_model_module_version": "2.0.0",
       "_model_name": "LayoutModel",
       "_view_count": null,
       "_view_module": "@jupyter-widgets/base",
       "_view_module_version": "2.0.0",
       "_view_name": "LayoutView",
       "align_content": null,
       "align_items": null,
       "align_self": null,
       "border_bottom": null,
       "border_left": null,
       "border_right": null,
       "border_top": null,
       "bottom": null,
       "display": null,
       "flex": null,
       "flex_flow": null,
       "grid_area": null,
       "grid_auto_columns": null,
       "grid_auto_flow": null,
       "grid_auto_rows": null,
       "grid_column": null,
       "grid_gap": null,
       "grid_row": null,
       "grid_template_areas": null,
       "grid_template_columns": null,
       "grid_template_rows": null,
       "height": null,
       "justify_content": null,
       "justify_items": null,
       "left": null,
       "margin": null,
       "max_height": null,
       "max_width": null,
       "min_height": null,
       "min_width": null,
       "object_fit": null,
       "object_position": null,
       "order": null,
       "overflow": null,
       "padding": null,
       "right": null,
       "top": null,
       "visibility": null,
       "width": null
      }
     },
     "e25f987de52949c7853161d5edf81000": {
      "model_module": "@jupyter-widgets/controls",
      "model_module_version": "2.0.0",
      "model_name": "HBoxModel",
      "state": {
       "_dom_classes": [],
       "_model_module": "@jupyter-widgets/controls",
       "_model_module_version": "2.0.0",
       "_model_name": "HBoxModel",
       "_view_count": null,
       "_view_module": "@jupyter-widgets/controls",
       "_view_module_version": "2.0.0",
       "_view_name": "HBoxView",
       "box_style": "",
       "children": [
        "IPY_MODEL_db2b44b958ff47bca95859658397d66d",
        "IPY_MODEL_40cdca44fe2c4d85822059afa176f779",
        "IPY_MODEL_47bf2abca30e4055a5467b03927b42c2"
       ],
       "layout": "IPY_MODEL_f2cb4c54a26740b3a2c6fd67644c5d49",
       "tabbable": null,
       "tooltip": null
      }
     },
     "e3024223e69b4bb0b6463abdb56fc44c": {
      "model_module": "@jupyter-widgets/controls",
      "model_module_version": "2.0.0",
      "model_name": "HTMLStyleModel",
      "state": {
       "_model_module": "@jupyter-widgets/controls",
       "_model_module_version": "2.0.0",
       "_model_name": "HTMLStyleModel",
       "_view_count": null,
       "_view_module": "@jupyter-widgets/base",
       "_view_module_version": "2.0.0",
       "_view_name": "StyleView",
       "background": null,
       "description_width": "",
       "font_size": null,
       "text_color": null
      }
     },
     "f13d121148304003acabfe8b8eb5293c": {
      "model_module": "@jupyter-widgets/controls",
      "model_module_version": "2.0.0",
      "model_name": "FloatProgressModel",
      "state": {
       "_dom_classes": [],
       "_model_module": "@jupyter-widgets/controls",
       "_model_module_version": "2.0.0",
       "_model_name": "FloatProgressModel",
       "_view_count": null,
       "_view_module": "@jupyter-widgets/controls",
       "_view_module_version": "2.0.0",
       "_view_name": "ProgressView",
       "bar_style": "success",
       "description": "",
       "description_allow_html": false,
       "layout": "IPY_MODEL_a205ff90ea72412b84076f6f772e5c5c",
       "max": 1135173.0,
       "min": 0.0,
       "orientation": "horizontal",
       "style": "IPY_MODEL_419b45c5438a4782b99766137fef4498",
       "tabbable": null,
       "tooltip": null,
       "value": 1135173.0
      }
     },
     "f2cb4c54a26740b3a2c6fd67644c5d49": {
      "model_module": "@jupyter-widgets/base",
      "model_module_version": "2.0.0",
      "model_name": "LayoutModel",
      "state": {
       "_model_module": "@jupyter-widgets/base",
       "_model_module_version": "2.0.0",
       "_model_name": "LayoutModel",
       "_view_count": null,
       "_view_module": "@jupyter-widgets/base",
       "_view_module_version": "2.0.0",
       "_view_name": "LayoutView",
       "align_content": null,
       "align_items": null,
       "align_self": null,
       "border_bottom": null,
       "border_left": null,
       "border_right": null,
       "border_top": null,
       "bottom": null,
       "display": null,
       "flex": null,
       "flex_flow": null,
       "grid_area": null,
       "grid_auto_columns": null,
       "grid_auto_flow": null,
       "grid_auto_rows": null,
       "grid_column": null,
       "grid_gap": null,
       "grid_row": null,
       "grid_template_areas": null,
       "grid_template_columns": null,
       "grid_template_rows": null,
       "height": null,
       "justify_content": null,
       "justify_items": null,
       "left": null,
       "margin": null,
       "max_height": null,
       "max_width": null,
       "min_height": null,
       "min_width": null,
       "object_fit": null,
       "object_position": null,
       "order": null,
       "overflow": null,
       "padding": null,
       "right": null,
       "top": null,
       "visibility": null,
       "width": null
      }
     },
     "f8f517637af441a1862974203467a234": {
      "model_module": "@jupyter-widgets/base",
      "model_module_version": "2.0.0",
      "model_name": "LayoutModel",
      "state": {
       "_model_module": "@jupyter-widgets/base",
       "_model_module_version": "2.0.0",
       "_model_name": "LayoutModel",
       "_view_count": null,
       "_view_module": "@jupyter-widgets/base",
       "_view_module_version": "2.0.0",
       "_view_name": "LayoutView",
       "align_content": null,
       "align_items": null,
       "align_self": null,
       "border_bottom": null,
       "border_left": null,
       "border_right": null,
       "border_top": null,
       "bottom": null,
       "display": null,
       "flex": null,
       "flex_flow": null,
       "grid_area": null,
       "grid_auto_columns": null,
       "grid_auto_flow": null,
       "grid_auto_rows": null,
       "grid_column": null,
       "grid_gap": null,
       "grid_row": null,
       "grid_template_areas": null,
       "grid_template_columns": null,
       "grid_template_rows": null,
       "height": null,
       "justify_content": null,
       "justify_items": null,
       "left": null,
       "margin": null,
       "max_height": null,
       "max_width": null,
       "min_height": null,
       "min_width": null,
       "object_fit": null,
       "object_position": null,
       "order": null,
       "overflow": null,
       "padding": null,
       "right": null,
       "top": null,
       "visibility": null,
       "width": null
      }
     },
     "fc332ee88afc4acc9dba8a231305489e": {
      "model_module": "@jupyter-widgets/base",
      "model_module_version": "2.0.0",
      "model_name": "LayoutModel",
      "state": {
       "_model_module": "@jupyter-widgets/base",
       "_model_module_version": "2.0.0",
       "_model_name": "LayoutModel",
       "_view_count": null,
       "_view_module": "@jupyter-widgets/base",
       "_view_module_version": "2.0.0",
       "_view_name": "LayoutView",
       "align_content": null,
       "align_items": null,
       "align_self": null,
       "border_bottom": null,
       "border_left": null,
       "border_right": null,
       "border_top": null,
       "bottom": null,
       "display": null,
       "flex": null,
       "flex_flow": null,
       "grid_area": null,
       "grid_auto_columns": null,
       "grid_auto_flow": null,
       "grid_auto_rows": null,
       "grid_column": null,
       "grid_gap": null,
       "grid_row": null,
       "grid_template_areas": null,
       "grid_template_columns": null,
       "grid_template_rows": null,
       "height": null,
       "justify_content": null,
       "justify_items": null,
       "left": null,
       "margin": null,
       "max_height": null,
       "max_width": null,
       "min_height": null,
       "min_width": null,
       "object_fit": null,
       "object_position": null,
       "order": null,
       "overflow": null,
       "padding": null,
       "right": null,
       "top": null,
       "visibility": null,
       "width": null
      }
     }
    },
    "version_major": 2,
    "version_minor": 0
   }
  }
 },
 "nbformat": 4,
 "nbformat_minor": 5
=======
  }
 },
 "nbformat": 4,
 "nbformat_minor": 4
>>>>>>> 56492df (Initial commit)
}
