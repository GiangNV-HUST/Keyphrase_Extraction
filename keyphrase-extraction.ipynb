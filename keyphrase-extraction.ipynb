{
 "cells": [
  {
   "cell_type": "code",
   "execution_count": 1,
   "id": "df2905ff",
   "metadata": {
    "_cell_guid": "b1076dfc-b9ad-4769-8c92-a6c4dae69d19",
    "_uuid": "8f2839f25d086af736a60e9eeb907d3b93b6e0e5",
    "execution": {
     "iopub.execute_input": "2025-05-27T09:38:28.426199Z",
     "iopub.status.busy": "2025-05-27T09:38:28.425514Z",
     "iopub.status.idle": "2025-05-27T09:38:30.771038Z",
     "shell.execute_reply": "2025-05-27T09:38:30.770179Z"
    },
    "papermill": {
     "duration": 2.353729,
     "end_time": "2025-05-27T09:38:30.772385",
     "exception": false,
     "start_time": "2025-05-27T09:38:28.418656",
     "status": "completed"
    },
    "tags": []
   },
   "outputs": [
    {
     "name": "stdout",
     "output_type": "stream",
     "text": [
      "/kaggle/input/keyphareextract/NerData.json\n"
     ]
    }
   ],
   "source": [
    "# This Python 3 environment comes with many helpful analytics libraries installed\n",
    "# It is defined by the kaggle/python Docker image: https://github.com/kaggle/docker-python\n",
    "# For example, here's several helpful packages to load\n",
    "\n",
    "import numpy as np # linear algebra\n",
    "import pandas as pd # data processing, CSV file I/O (e.g. pd.read_csv)\n",
    "\n",
    "# Input data files are available in the read-only \"../input/\" directory\n",
    "# For example, running this (by clicking run or pressing Shift+Enter) will list all files under the input directory\n",
    "\n",
    "import os\n",
    "for dirname, _, filenames in os.walk('/kaggle/input'):\n",
    "    for filename in filenames:\n",
    "        print(os.path.join(dirname, filename))\n",
    "\n",
    "# You can write up to 20GB to the current directory (/kaggle/working/) that gets preserved as output when you create a version using \"Save & Run All\" \n",
    "# You can also write temporary files to /kaggle/temp/, but they won't be saved outside of the current session"
   ]
  },
  {
   "cell_type": "code",
   "execution_count": 2,
   "id": "684dd509",
   "metadata": {
    "execution": {
     "iopub.execute_input": "2025-05-27T09:38:30.783325Z",
     "iopub.status.busy": "2025-05-27T09:38:30.782583Z",
     "iopub.status.idle": "2025-05-27T09:38:39.678454Z",
     "shell.execute_reply": "2025-05-27T09:38:39.677564Z"
    },
    "papermill": {
     "duration": 8.902406,
     "end_time": "2025-05-27T09:38:39.679764",
     "exception": false,
     "start_time": "2025-05-27T09:38:30.777358",
     "status": "completed"
    },
    "tags": []
   },
   "outputs": [
    {
     "name": "stdout",
     "output_type": "stream",
     "text": [
      "cuda\n"
     ]
    }
   ],
   "source": [
    "import torch\n",
    "\n",
    "device = torch.device(\"cuda\" if torch.cuda.is_available() else \"cpu\")\n",
    "print(device)"
   ]
  },
  {
   "cell_type": "code",
   "execution_count": 3,
   "id": "491bc2ec",
   "metadata": {
    "execution": {
     "iopub.execute_input": "2025-05-27T09:38:39.690166Z",
     "iopub.status.busy": "2025-05-27T09:38:39.689822Z",
     "iopub.status.idle": "2025-05-27T09:39:03.401279Z",
     "shell.execute_reply": "2025-05-27T09:39:03.400090Z"
    },
    "papermill": {
     "duration": 23.718659,
     "end_time": "2025-05-27T09:39:03.403266",
     "exception": false,
     "start_time": "2025-05-27T09:38:39.684607",
     "status": "completed"
    },
    "tags": []
   },
   "outputs": [
    {
     "name": "stderr",
     "output_type": "stream",
     "text": [
      "2025-05-27 09:38:43.423968: E external/local_xla/xla/stream_executor/cuda/cuda_fft.cc:477] Unable to register cuFFT factory: Attempting to register factory for plugin cuFFT when one has already been registered\n",
      "WARNING: All log messages before absl::InitializeLog() is called are written to STDERR\n",
      "E0000 00:00:1748338723.918418      19 cuda_dnn.cc:8310] Unable to register cuDNN factory: Attempting to register factory for plugin cuDNN when one has already been registered\n",
      "E0000 00:00:1748338724.049245      19 cuda_blas.cc:1418] Unable to register cuBLAS factory: Attempting to register factory for plugin cuBLAS when one has already been registered\n"
     ]
    },
    {
     "name": "stdout",
     "output_type": "stream",
     "text": [
      "['/device:GPU:0', '/device:GPU:1']\n"
     ]
    },
    {
     "name": "stderr",
     "output_type": "stream",
     "text": [
      "I0000 00:00:1748338743.396010      19 gpu_device.cc:2022] Created device /device:GPU:0 with 13942 MB memory:  -> device: 0, name: Tesla T4, pci bus id: 0000:00:04.0, compute capability: 7.5\n",
      "I0000 00:00:1748338743.396820      19 gpu_device.cc:2022] Created device /device:GPU:1 with 13942 MB memory:  -> device: 1, name: Tesla T4, pci bus id: 0000:00:05.0, compute capability: 7.5\n"
     ]
    }
   ],
   "source": [
    "from tensorflow.python.client import device_lib\n",
    "\n",
    "def get_available_gpus():\n",
    "    local_device_protos = device_lib.list_local_devices()\n",
    "    return [x.name for x in local_device_protos if x.device_type == \"GPU\"]\n",
    "\n",
    "print(get_available_gpus())"
   ]
  },
  {
   "cell_type": "markdown",
   "id": "1ec4386b",
   "metadata": {
    "papermill": {
     "duration": 0.004945,
     "end_time": "2025-05-27T09:39:03.413784",
     "exception": false,
     "start_time": "2025-05-27T09:39:03.408839",
     "status": "completed"
    },
    "tags": []
   },
   "source": [
    "## 1. Load Data"
   ]
  },
  {
   "cell_type": "code",
   "execution_count": 4,
   "id": "f2a98b85",
   "metadata": {
    "execution": {
     "iopub.execute_input": "2025-05-27T09:39:03.425036Z",
     "iopub.status.busy": "2025-05-27T09:39:03.424584Z",
     "iopub.status.idle": "2025-05-27T09:39:04.182255Z",
     "shell.execute_reply": "2025-05-27T09:39:04.181416Z"
    },
    "papermill": {
     "duration": 0.764982,
     "end_time": "2025-05-27T09:39:04.183813",
     "exception": false,
     "start_time": "2025-05-27T09:39:03.418831",
     "status": "completed"
    },
    "tags": []
   },
   "outputs": [],
   "source": [
    "import json\n",
    "\n",
    "\n",
    "with open(\"/kaggle/input/keyphareextract/NerData.json\",\"r\",encoding=\"utf-8\") as f:\n",
    "    data = json.load(f)"
   ]
  },
  {
   "cell_type": "markdown",
   "id": "a9addb8b",
   "metadata": {
    "papermill": {
     "duration": 0.004795,
     "end_time": "2025-05-27T09:39:04.193898",
     "exception": false,
     "start_time": "2025-05-27T09:39:04.189103",
     "status": "completed"
    },
    "tags": []
   },
   "source": [
    "## 2. Gán Nhãn\n",
    "\n",
    "### 2.1 Gán nhãn thử 1 câu"
   ]
  },
  {
   "cell_type": "code",
   "execution_count": 5,
   "id": "89f45595",
   "metadata": {
    "execution": {
     "iopub.execute_input": "2025-05-27T09:39:04.204720Z",
     "iopub.status.busy": "2025-05-27T09:39:04.204452Z",
     "iopub.status.idle": "2025-05-27T09:39:17.660637Z",
     "shell.execute_reply": "2025-05-27T09:39:17.659634Z"
    },
    "papermill": {
     "duration": 13.463009,
     "end_time": "2025-05-27T09:39:17.661912",
     "exception": false,
     "start_time": "2025-05-27T09:39:04.198903",
     "status": "completed"
    },
    "tags": []
   },
   "outputs": [
    {
     "data": {
      "application/vnd.jupyter.widget-view+json": {
       "model_id": "e9a3f0f79e274350bad80d7e01e14b23",
       "version_major": 2,
       "version_minor": 0
      },
      "text/plain": [
       "config.json:   0%|          | 0.00/557 [00:00<?, ?B/s]"
      ]
     },
     "metadata": {},
     "output_type": "display_data"
    },
    {
     "data": {
      "application/vnd.jupyter.widget-view+json": {
       "model_id": "ed54eb017c0c429fa8efda4b02dbbfc0",
       "version_major": 2,
       "version_minor": 0
      },
      "text/plain": [
       "vocab.txt:   0%|          | 0.00/895k [00:00<?, ?B/s]"
      ]
     },
     "metadata": {},
     "output_type": "display_data"
    },
    {
     "data": {
      "application/vnd.jupyter.widget-view+json": {
       "model_id": "2d71f4ac6e2440e6835f5741c901d540",
       "version_major": 2,
       "version_minor": 0
      },
      "text/plain": [
       "bpe.codes:   0%|          | 0.00/1.14M [00:00<?, ?B/s]"
      ]
     },
     "metadata": {},
     "output_type": "display_data"
    },
    {
     "data": {
      "application/vnd.jupyter.widget-view+json": {
       "model_id": "f5209ec163f74522a9b1d1df9a41b854",
       "version_major": 2,
       "version_minor": 0
      },
      "text/plain": [
       "tokenizer.json:   0%|          | 0.00/3.13M [00:00<?, ?B/s]"
      ]
     },
     "metadata": {},
     "output_type": "display_data"
    },
    {
     "name": "stdout",
     "output_type": "stream",
     "text": [
      "['<s>', '<unk>', 'xe', 'Minh', 'Ohio', 'Mới', 'mua', 'bị', 'đập', 'Tan', 'nát', 'ở', 'Hous', 'ton', '<unk>', '!', 'Nên', 'đổi', 'xe', 'Vin', 'f', 'ast', '?', '</s>']\n",
      "[(0, 0), (0, 0), (2, 4), (5, 9), (10, 14), (15, 18), (19, 22), (23, 25), (26, 29), (30, 33), (34, 37), (38, 39), (40, 44), (44, 47), (0, 0), (47, 48), (50, 53), (54, 57), (58, 60), (61, 64), (64, 65), (65, 68), (68, 69), (0, 0)]\n",
      "[-100, -100, 'B-ENTITY', 'I-ENTITY', 'I-ENTITY', 'I-ENTITY', 'I-ENTITY', 'I-ENTITY', 'I-ENTITY', 'I-ENTITY', 'I-ENTITY', 'I-ENTITY', 'I-ENTITY', 'I-ENTITY', -100, 'O', 'O', 'O', 'O', 'O', 'O', 'O', 'O', -100]\n"
     ]
    }
   ],
   "source": [
    "from transformers import AutoTokenizer\n",
    "\n",
    "\n",
    "tokenizer = AutoTokenizer.from_pretrained(\"vinai/phobert-base\")\n",
    "\n",
    "text = data[2][\"text\"]\n",
    "label = data[2][\"label\"]\n",
    "\n",
    "\n",
    "tokens = tokenizer(text, truncation=True, return_tensors=\"pt\", padding=True, max_length=256)\n",
    "tokens_list = tokenizer.convert_ids_to_tokens(tokens[\"input_ids\"][0])\n",
    "# print(len(tokens_list))\n",
    "\n",
    "tokens_list = [token.replace(\"@@\", \"\") for token in tokens_list]\n",
    "tokens_label = [\"O\"] * len(tokens_list)\n",
    "\n",
    "print(tokens_list)\n",
    "\n",
    "special_tokens = [\"<s>\", \"</s>\", \"<pad>\", \"<unk>\", \"<mask>\"]\n",
    "\n",
    "offsets = []\n",
    "current_pos = 0\n",
    "\n",
    "\n",
    "# Tìm vị trí của các token trong văn bản gốc\n",
    "for token in tokens_list:\n",
    "    if token in special_tokens:\n",
    "        offsets.append((0, 0))\n",
    "        continue\n",
    "    start_pos = text.find(token, current_pos)\n",
    "    end_pos = start_pos + len(token)\n",
    "    \n",
    "    current_pos = end_pos\n",
    "    \n",
    "    offsets.append((start_pos, end_pos))\n",
    "\n",
    "print(offsets)\n",
    "# Đánh nhãn các token với nhãn tương ứng\n",
    "for i,token in enumerate(tokens_list):\n",
    "    if token in special_tokens:\n",
    "        tokens_label[i] = -100\n",
    "        continue\n",
    "    \n",
    "    for item in label:\n",
    "        if offsets[i][0] >=item[\"start\"] and offsets[i][0] < item[\"end\"]:\n",
    "            tokens_label[i] = item[\"labels\"][0]\n",
    "print(tokens_label)\n",
    "        "
   ]
  },
  {
   "cell_type": "markdown",
   "id": "9ff53c9e",
   "metadata": {
    "papermill": {
     "duration": 0.005005,
     "end_time": "2025-05-27T09:39:17.672960",
     "exception": false,
     "start_time": "2025-05-27T09:39:17.667955",
     "status": "completed"
    },
    "tags": []
   },
   "source": [
    "### 2.2 Tạo hàm tokenize_and_algn_labels để gán nhãn cho bộ data"
   ]
  },
  {
   "cell_type": "code",
   "execution_count": 6,
   "id": "6bfda346",
   "metadata": {
    "execution": {
     "iopub.execute_input": "2025-05-27T09:39:17.685580Z",
     "iopub.status.busy": "2025-05-27T09:39:17.684787Z",
     "iopub.status.idle": "2025-05-27T09:39:17.699072Z",
     "shell.execute_reply": "2025-05-27T09:39:17.698324Z"
    },
    "papermill": {
     "duration": 0.022396,
     "end_time": "2025-05-27T09:39:17.700744",
     "exception": false,
     "start_time": "2025-05-27T09:39:17.678348",
     "status": "completed"
    },
    "tags": []
   },
   "outputs": [],
   "source": [
    "def tokenize_and_align_labels(data, tokenizer):\n",
    "    # for data in data:\n",
    "    special_tokens = [\"<s>\", \"</s>\", \"<pad>\", \"<unk>\", \"<mask>\"]\n",
    "    text = data[\"text\"]\n",
    "    label = data[\"label\"]\n",
    "\n",
    "    tokens = tokenizer(text, truncation=True, return_tensors=\"pt\", padding=True,max_length=256)\n",
    "    tokens_list = tokenizer.convert_ids_to_tokens(tokens[\"input_ids\"][0])\n",
    "    tokens_list = [token.replace(\"@@\", \"\") for token in tokens_list]\n",
    "    tokens_label = [\"O\"] * len(tokens_list)\n",
    "\n",
    "    Input_ids = []\n",
    "    Tokens_label = []\n",
    "    offsets = []\n",
    "    current_pos = 0\n",
    "\n",
    "    # Tìm vị trí của các token trong văn bản gốc\n",
    "    for token in tokens_list:\n",
    "        if token in special_tokens:\n",
    "            offsets.append((0, 0))\n",
    "            continue\n",
    "        start_pos = text.find(token, current_pos)\n",
    "        end_pos = start_pos + len(token)\n",
    "        current_pos = end_pos\n",
    "        offsets.append((start_pos, end_pos))\n",
    "\n",
    "    # Đánh nhãn các token với nhãn tương ứng\n",
    "    for i, token in enumerate(tokens_list):\n",
    "        if token in special_tokens:\n",
    "            tokens_label[i] = -100\n",
    "            continue\n",
    "        for item in label:\n",
    "            if offsets[i][0] >= item[\"start\"] and offsets[i][0] < item[\"end\"]:\n",
    "                tokens_label[i] = item[\"labels\"][0]\n",
    "\n",
    "        # Input_ids.append(tokens[\"input_ids\"][0])\n",
    "        # Tokens_label.append(tokens_label)\n",
    "    return tokens[\"input_ids\"][0], tokens_label"
   ]
  },
  {
   "cell_type": "markdown",
   "id": "f6c30ef8",
   "metadata": {
    "papermill": {
     "duration": 0.005388,
     "end_time": "2025-05-27T09:39:17.712459",
     "exception": false,
     "start_time": "2025-05-27T09:39:17.707071",
     "status": "completed"
    },
    "tags": []
   },
   "source": [
    "### 2.3 Thực hiện gán cho toàn bộ data"
   ]
  },
  {
   "cell_type": "code",
   "execution_count": 7,
   "id": "d040fe29",
   "metadata": {
    "execution": {
     "iopub.execute_input": "2025-05-27T09:39:17.724505Z",
     "iopub.status.busy": "2025-05-27T09:39:17.723818Z",
     "iopub.status.idle": "2025-05-27T09:39:23.956972Z",
     "shell.execute_reply": "2025-05-27T09:39:23.956328Z"
    },
    "papermill": {
     "duration": 6.240261,
     "end_time": "2025-05-27T09:39:23.958173",
     "exception": false,
     "start_time": "2025-05-27T09:39:17.717912",
     "status": "completed"
    },
    "tags": []
   },
   "outputs": [
    {
     "name": "stdout",
     "output_type": "stream",
     "text": [
      "4899\n"
     ]
    }
   ],
   "source": [
    "Input_ids = []\n",
    "Tokens_label = []\n",
    "\n",
    "\n",
    "\n",
    "for item in data[:4900]:\n",
    "    input_ids, tokens_label= tokenize_and_align_labels(item, tokenizer)\n",
    "    Input_ids.append(input_ids)\n",
    "    Tokens_label.append(tokens_label)\n",
    "\n",
    "print(len(Input_ids))"
   ]
  },
  {
   "cell_type": "markdown",
   "id": "a7e733ef",
   "metadata": {
    "papermill": {
     "duration": 0.005075,
     "end_time": "2025-05-27T09:39:23.968987",
     "exception": false,
     "start_time": "2025-05-27T09:39:23.963912",
     "status": "completed"
    },
    "tags": []
   },
   "source": [
    "### 2.4 Chuyển nhãn thành số tương ứng trước khi đưa vào dataset"
   ]
  },
  {
   "cell_type": "code",
   "execution_count": 8,
   "id": "88228743",
   "metadata": {
    "execution": {
     "iopub.execute_input": "2025-05-27T09:39:23.980181Z",
     "iopub.status.busy": "2025-05-27T09:39:23.979965Z",
     "iopub.status.idle": "2025-05-27T09:39:24.021589Z",
     "shell.execute_reply": "2025-05-27T09:39:24.020789Z"
    },
    "papermill": {
     "duration": 0.048603,
     "end_time": "2025-05-27T09:39:24.022837",
     "exception": false,
     "start_time": "2025-05-27T09:39:23.974234",
     "status": "completed"
    },
    "tags": []
   },
   "outputs": [
    {
     "name": "stdout",
     "output_type": "stream",
     "text": [
      "[-100, 0, 0, 0, 0, 0, 0, 0, 0, 0, 0, 0, 0, 0, 1, 2, 2, 2, 2, 2, 2, 2, 2, 2, 2, 2, 2, 2, 2, 0, 0, 0, 0, 0, 0, 0, 0, 0, 0, 0, 0, 0, 0, 0, 0, 0, 0, 0, 0, 0, 0, 0, 0, 0, 0, 0, 0, 0, 0, 0, 0, 0, 0, 0, 0, 0, 0, 0, 0, 0, 0, 0, 0, 0, 0, 0, 0, 0, 0, 0, -100]\n"
     ]
    }
   ],
   "source": [
    "unique_labels = [\"O\", \"B-ENTITY\", \"I-ENTITY\"]\n",
    "id2label = {i: label for i, label in enumerate(unique_labels)}\n",
    "label2id = {label: i for i, label in enumerate(unique_labels)}\n",
    "\n",
    "\n",
    "def convert_labels_to_id(Tokens_label, label2id):\n",
    "    for item in Tokens_label:\n",
    "        for i, label in enumerate(item):\n",
    "            if label in unique_labels:\n",
    "                item[i] = label2id[label]\n",
    "            else:\n",
    "                item[i] = -100\n",
    "    return Tokens_label\n",
    "\n",
    "\n",
    "Tokens_label_id = convert_labels_to_id(Tokens_label, label2id)\n",
    "print(Tokens_label_id[0])"
   ]
  },
  {
   "cell_type": "code",
   "execution_count": 9,
   "id": "a45cebf6",
   "metadata": {
    "execution": {
     "iopub.execute_input": "2025-05-27T09:39:24.034254Z",
     "iopub.status.busy": "2025-05-27T09:39:24.033879Z",
     "iopub.status.idle": "2025-05-27T09:39:25.038212Z",
     "shell.execute_reply": "2025-05-27T09:39:25.037416Z"
    },
    "papermill": {
     "duration": 1.011713,
     "end_time": "2025-05-27T09:39:25.039794",
     "exception": false,
     "start_time": "2025-05-27T09:39:24.028081",
     "status": "completed"
    },
    "tags": []
   },
   "outputs": [],
   "source": [
    "from sklearn.model_selection import train_test_split\n",
    "from datasets import Dataset\n",
    "# Chuyển sang Dataset\n",
    "\n",
    "dataset = Dataset.from_dict({\"input_ids\": Input_ids, \"labels\": Tokens_label_id})\n",
    "# Chia tập dữ liệu thành train và test\n",
    "split_dataset = dataset.train_test_split(test_size=0.2, seed=42)\n",
    "train_dataset = split_dataset[\"train\"]\n",
    "test_dataset = split_dataset[\"test\"]"
   ]
  },
  {
   "cell_type": "code",
   "execution_count": 10,
   "id": "be487ce5",
   "metadata": {
    "execution": {
     "iopub.execute_input": "2025-05-27T09:39:25.051976Z",
     "iopub.status.busy": "2025-05-27T09:39:25.051456Z",
     "iopub.status.idle": "2025-05-27T09:39:25.055810Z",
     "shell.execute_reply": "2025-05-27T09:39:25.055087Z"
    },
    "papermill": {
     "duration": 0.0115,
     "end_time": "2025-05-27T09:39:25.057003",
     "exception": false,
     "start_time": "2025-05-27T09:39:25.045503",
     "status": "completed"
    },
    "tags": []
   },
   "outputs": [
    {
     "name": "stdout",
     "output_type": "stream",
     "text": [
      "Dataset({\n",
      "    features: ['input_ids', 'labels'],\n",
      "    num_rows: 3919\n",
      "})\n",
      "Dataset({\n",
      "    features: ['input_ids', 'labels'],\n",
      "    num_rows: 980\n",
      "})\n"
     ]
    }
   ],
   "source": [
    "print(train_dataset)\n",
    "print(test_dataset)"
   ]
  },
  {
   "cell_type": "code",
   "execution_count": 11,
   "id": "b08a0f9d",
   "metadata": {
    "execution": {
     "iopub.execute_input": "2025-05-27T09:39:25.068480Z",
     "iopub.status.busy": "2025-05-27T09:39:25.068238Z",
     "iopub.status.idle": "2025-05-27T09:39:25.074458Z",
     "shell.execute_reply": "2025-05-27T09:39:25.073856Z"
    },
    "papermill": {
     "duration": 0.012857,
     "end_time": "2025-05-27T09:39:25.075454",
     "exception": false,
     "start_time": "2025-05-27T09:39:25.062597",
     "status": "completed"
    },
    "tags": []
   },
   "outputs": [
    {
     "name": "stdout",
     "output_type": "stream",
     "text": [
      "{'input_ids': [0, 3, 3, 3, 870, 43263, 768, 44007, 968, 1042, 9179, 1345, 43410, 13386, 31811, 2275, 2576, 1493, 1529, 3, 3, 3, 3, 30439, 1600, 14786, 27, 1396, 3, 3, 6993, 193, 28, 5321, 22592, 1031, 3365, 26839, 236, 21091, 1387, 1677, 3322, 381, 2073, 40, 119, 1396, 64, 133, 1611, 9244, 119, 1096, 182, 64, 567, 525, 54, 11685, 48, 1456, 2008, 1883, 5, 3, 1584, 60268, 12495, 1493, 95, 24350, 20330, 3, 3, 9990, 6169, 6454, 6302, 36314, 8, 16, 61, 13884, 437, 3518, 1659, 16907, 1384, 4, 47, 13, 2908, 653, 458, 1157, 10, 1602, 626, 2023, 1325, 5516, 4241, 33, 602, 11, 381, 3960, 11, 13, 207, 3153, 57246, 1384, 4, 10, 4623, 47, 1087, 8109, 2008, 12584, 3, 13834, 3884, 543, 2288, 5747, 27, 3, 3, 7852, 3056, 23228, 11083, 55992, 1850, 4, 418, 3139, 3, 7852, 58, 1995, 38, 10, 249, 2492, 1169, 2023, 1325, 3, 2590, 1157, 37194, 4, 1169, 5344, 3, 31743, 1157, 4650, 203, 3, 2590, 1157, 1852, 1565, 515, 1339, 348, 1169, 28, 1565, 574, 1228, 2008, 12584, 2], 'labels': [-100, -100, -100, -100, 1, 1, 1, 2, 2, 2, 2, 2, 2, 0, 0, 0, 0, 0, 0, -100, -100, -100, -100, 1, 2, 2, 2, 2, -100, -100, 0, 0, 0, 0, 0, 0, 0, 0, 0, 0, 0, 0, 0, 0, 0, 0, 1, 2, 2, 2, 2, 2, 2, 2, 0, 0, 0, 0, 0, 0, 0, 0, 0, 0, 0, -100, 0, 0, 0, 0, 0, 0, 0, -100, -100, 0, 0, 0, 0, 0, 0, 0, 0, 0, 0, 0, 0, 0, 0, 0, 0, 0, 0, 0, 0, 0, 0, 0, 0, 0, 0, 0, 0, 0, 0, 0, 0, 0, 0, 0, 0, 0, 0, 0, 0, 0, 0, 0, 0, 0, 0, 0, -100, 0, 0, 0, 0, 0, 0, -100, -100, 0, 0, 0, 0, 0, 0, 0, 0, 0, -100, 0, 0, 0, 0, 0, 0, 0, 0, 0, 0, -100, 0, 0, 0, 0, 0, 0, -100, 0, 0, 0, 0, -100, 0, 0, 0, 0, 0, 0, 0, 0, 0, 0, 0, 0, 0, 0, -100]}\n"
     ]
    }
   ],
   "source": [
    "print(test_dataset[0])"
   ]
  },
  {
   "cell_type": "markdown",
   "id": "df8da6cb",
   "metadata": {
    "papermill": {
     "duration": 0.005105,
     "end_time": "2025-05-27T09:39:25.085841",
     "exception": false,
     "start_time": "2025-05-27T09:39:25.080736",
     "status": "completed"
    },
    "tags": []
   },
   "source": [
    "## 3. Tạo Model"
   ]
  },
  {
   "cell_type": "code",
   "execution_count": 12,
   "id": "6703cc2c",
   "metadata": {
    "execution": {
     "iopub.execute_input": "2025-05-27T09:39:25.096890Z",
     "iopub.status.busy": "2025-05-27T09:39:25.096695Z",
     "iopub.status.idle": "2025-05-27T09:39:30.793822Z",
     "shell.execute_reply": "2025-05-27T09:39:30.793079Z"
    },
    "papermill": {
     "duration": 5.704006,
     "end_time": "2025-05-27T09:39:30.794987",
     "exception": false,
     "start_time": "2025-05-27T09:39:25.090981",
     "status": "completed"
    },
    "tags": []
   },
   "outputs": [
    {
     "data": {
      "application/vnd.jupyter.widget-view+json": {
       "model_id": "89dbe20ef20e498684e6caa3d85d9f41",
       "version_major": 2,
       "version_minor": 0
      },
      "text/plain": [
       "pytorch_model.bin:   0%|          | 0.00/543M [00:00<?, ?B/s]"
      ]
     },
     "metadata": {},
     "output_type": "display_data"
    },
    {
     "data": {
      "application/vnd.jupyter.widget-view+json": {
       "model_id": "291fa7a4079042468f0163078a602657",
       "version_major": 2,
       "version_minor": 0
      },
      "text/plain": [
       "model.safetensors:   0%|          | 0.00/543M [00:00<?, ?B/s]"
      ]
     },
     "metadata": {},
     "output_type": "display_data"
    },
    {
     "name": "stderr",
     "output_type": "stream",
     "text": [
      "Some weights of RobertaForTokenClassification were not initialized from the model checkpoint at vinai/phobert-base and are newly initialized: ['classifier.bias', 'classifier.weight']\n",
      "You should probably TRAIN this model on a down-stream task to be able to use it for predictions and inference.\n"
     ]
    }
   ],
   "source": [
    "from transformers import AutoModelForTokenClassification\n",
    "\n",
    "unique_labels = [\"O\",\"B-ENTITY\",\"I-ENTITY\"]\n",
    "label_to_id = {label: i for i, label in enumerate(unique_labels)}\n",
    "id_to_label = {i: label for label, i in label_to_id.items()}\n",
    "\n",
    "model = AutoModelForTokenClassification.from_pretrained(\n",
    "    \"vinai/phobert-base\",\n",
    "    num_labels=len(unique_labels),\n",
    "    label2id=label_to_id,\n",
    "    id2label=id_to_label,\n",
    "    ignore_mismatched_sizes=True\n",
    ")"
   ]
  },
  {
   "cell_type": "markdown",
   "id": "b10bb474",
   "metadata": {
    "papermill": {
     "duration": 0.005879,
     "end_time": "2025-05-27T09:39:30.807781",
     "exception": false,
     "start_time": "2025-05-27T09:39:30.801902",
     "status": "completed"
    },
    "tags": []
   },
   "source": [
    "## Thiết lập cấu hình Lora"
   ]
  },
  {
   "cell_type": "code",
   "execution_count": 13,
   "id": "45772ed0",
   "metadata": {
    "execution": {
     "iopub.execute_input": "2025-05-27T09:39:30.820117Z",
     "iopub.status.busy": "2025-05-27T09:39:30.819851Z",
     "iopub.status.idle": "2025-05-27T09:39:31.359388Z",
     "shell.execute_reply": "2025-05-27T09:39:31.358081Z"
    },
    "papermill": {
     "duration": 0.547578,
     "end_time": "2025-05-27T09:39:31.361077",
     "exception": false,
     "start_time": "2025-05-27T09:39:30.813499",
     "status": "completed"
    },
    "tags": []
   },
   "outputs": [
    {
     "name": "stdout",
     "output_type": "stream",
     "text": [
      "Cấu hình LoRA...\n"
     ]
    }
   ],
   "source": [
    "from peft import get_peft_model, LoraConfig, TaskType\n",
    "\n",
    "print(\"Cấu hình LoRA...\")\n",
    "peft_config = LoraConfig(\n",
    "    task_type=TaskType.TOKEN_CLS,\n",
    "    inference_mode=False,\n",
    "    r=32,                          # Rank của ma trận thích ứng\n",
    "    lora_alpha=64,                 # Hệ số ảnh hưởng của LoRA\n",
    "    lora_dropout=0.1,              # Tỷ lệ dropout\n",
    "    target_modules=[\"query\", \"key\", \"value\"],  # Các module cần áp dụng LoRA\n",
    "    bias=\"none\",\n",
    ")"
   ]
  },
  {
   "cell_type": "markdown",
   "id": "87627854",
   "metadata": {
    "papermill": {
     "duration": 0.005582,
     "end_time": "2025-05-27T09:39:31.372778",
     "exception": false,
     "start_time": "2025-05-27T09:39:31.367196",
     "status": "completed"
    },
    "tags": []
   },
   "source": [
    "### Áp dụng Lora lên mô hình"
   ]
  },
  {
   "cell_type": "code",
   "execution_count": 14,
   "id": "e50c9a52",
   "metadata": {
    "execution": {
     "iopub.execute_input": "2025-05-27T09:39:31.388957Z",
     "iopub.status.busy": "2025-05-27T09:39:31.387810Z",
     "iopub.status.idle": "2025-05-27T09:39:31.657227Z",
     "shell.execute_reply": "2025-05-27T09:39:31.656606Z"
    },
    "papermill": {
     "duration": 0.27984,
     "end_time": "2025-05-27T09:39:31.658639",
     "exception": false,
     "start_time": "2025-05-27T09:39:31.378799",
     "status": "completed"
    },
    "tags": []
   },
   "outputs": [
    {
     "name": "stdout",
     "output_type": "stream",
     "text": [
      "Áp dụng LoRA cho mô hình...\n",
      "trainable params: 1,771,779 || all params: 136,181,766 || trainable%: 1.3010\n"
     ]
    }
   ],
   "source": [
    "# 9. Áp dụng LoRA lên mô hình\n",
    "print(\"Áp dụng LoRA cho mô hình...\")\n",
    "model = get_peft_model(model, peft_config)\n",
    "model.print_trainable_parameters()  # In ra số lượng tham số cần huấn luyện\n",
    "model = model.to(device)"
   ]
  },
  {
   "cell_type": "code",
   "execution_count": 15,
   "id": "56570fcb",
   "metadata": {
    "execution": {
     "iopub.execute_input": "2025-05-27T09:39:31.671497Z",
     "iopub.status.busy": "2025-05-27T09:39:31.671218Z",
     "iopub.status.idle": "2025-05-27T09:46:44.899885Z",
     "shell.execute_reply": "2025-05-27T09:46:44.899320Z"
    },
    "papermill": {
     "duration": 433.235938,
     "end_time": "2025-05-27T09:46:44.900947",
     "exception": false,
     "start_time": "2025-05-27T09:39:31.665009",
     "status": "completed"
    },
    "tags": []
   },
   "outputs": [
    {
     "name": "stderr",
     "output_type": "stream",
     "text": [
      "/tmp/ipykernel_19/2290487994.py:27: FutureWarning: `tokenizer` is deprecated and will be removed in version 5.0.0 for `Trainer.__init__`. Use `processing_class` instead.\n",
      "  trainer = Trainer(\n",
      "No label_names provided for model class `PeftModelForTokenClassification`. Since `PeftModel` hides base models input arguments, if label_names is not given, label_names can't be set automatically within `Trainer`. Note that empty label_names list will be used instead.\n",
      "/usr/local/lib/python3.11/dist-packages/torch/nn/parallel/_functions.py:70: UserWarning: Was asked to gather along dimension 0, but all input tensors were scalars; will instead unsqueeze and return a vector.\n",
      "  warnings.warn(\n"
     ]
    },
    {
     "data": {
      "text/html": [
       "\n",
       "    <div>\n",
       "      \n",
       "      <progress value='615' max='615' style='width:300px; height:20px; vertical-align: middle;'></progress>\n",
       "      [615/615 07:07, Epoch 5/5]\n",
       "    </div>\n",
       "    <table border=\"1\" class=\"dataframe\">\n",
       "  <thead>\n",
       " <tr style=\"text-align: left;\">\n",
       "      <th>Epoch</th>\n",
       "      <th>Training Loss</th>\n",
       "      <th>Validation Loss</th>\n",
       "    </tr>\n",
       "  </thead>\n",
       "  <tbody>\n",
       "    <tr>\n",
       "      <td>1</td>\n",
       "      <td>No log</td>\n",
       "      <td>0.564181</td>\n",
       "    </tr>\n",
       "    <tr>\n",
       "      <td>2</td>\n",
       "      <td>No log</td>\n",
       "      <td>0.477615</td>\n",
       "    </tr>\n",
       "    <tr>\n",
       "      <td>3</td>\n",
       "      <td>No log</td>\n",
       "      <td>0.447606</td>\n",
       "    </tr>\n",
       "    <tr>\n",
       "      <td>4</td>\n",
       "      <td>No log</td>\n",
       "      <td>0.435037</td>\n",
       "    </tr>\n",
       "    <tr>\n",
       "      <td>5</td>\n",
       "      <td>0.539300</td>\n",
       "      <td>0.430904</td>\n",
       "    </tr>\n",
       "  </tbody>\n",
       "</table><p>"
      ],
      "text/plain": [
       "<IPython.core.display.HTML object>"
      ]
     },
     "metadata": {},
     "output_type": "display_data"
    },
    {
     "name": "stderr",
     "output_type": "stream",
     "text": [
      "/usr/local/lib/python3.11/dist-packages/torch/nn/parallel/_functions.py:70: UserWarning: Was asked to gather along dimension 0, but all input tensors were scalars; will instead unsqueeze and return a vector.\n",
      "  warnings.warn(\n",
      "/usr/local/lib/python3.11/dist-packages/torch/nn/parallel/_functions.py:70: UserWarning: Was asked to gather along dimension 0, but all input tensors were scalars; will instead unsqueeze and return a vector.\n",
      "  warnings.warn(\n",
      "/usr/local/lib/python3.11/dist-packages/torch/nn/parallel/_functions.py:70: UserWarning: Was asked to gather along dimension 0, but all input tensors were scalars; will instead unsqueeze and return a vector.\n",
      "  warnings.warn(\n",
      "/usr/local/lib/python3.11/dist-packages/torch/nn/parallel/_functions.py:70: UserWarning: Was asked to gather along dimension 0, but all input tensors were scalars; will instead unsqueeze and return a vector.\n",
      "  warnings.warn(\n"
     ]
    },
    {
     "data": {
      "text/plain": [
       "TrainOutput(global_step=615, training_loss=0.5184958915400312, metrics={'train_runtime': 430.5866, 'train_samples_per_second': 45.508, 'train_steps_per_second': 1.428, 'total_flos': 2575742258558448.0, 'train_loss': 0.5184958915400312, 'epoch': 5.0})"
      ]
     },
     "execution_count": 15,
     "metadata": {},
     "output_type": "execute_result"
    }
   ],
   "source": [
    "from transformers import Trainer, TrainingArguments\n",
    "from transformers import DataCollatorForTokenClassification\n",
    "\n",
    "data_collator = DataCollatorForTokenClassification(\n",
    "    tokenizer=tokenizer,\n",
    "    padding=True,\n",
    ")\n",
    "\n",
    "# Cấu hình tham số huấn luyện\n",
    "training_args = TrainingArguments(\n",
    "    output_dir=\"./results_lora\",\n",
    "    learning_rate=1e-4,           # Tăng nhẹ learning rate so với fine-tuning thông thường\n",
    "    per_device_train_batch_size=16,\n",
    "    per_device_eval_batch_size=16,\n",
    "    num_train_epochs=5,           # Tăng số epoch khi dùng LoRA\n",
    "    weight_decay=0.01,\n",
    "    eval_strategy=\"epoch\",        # Đã sửa từ evaluation_strategy thành eval_strategy\n",
    "    save_strategy=\"epoch\",\n",
    "    load_best_model_at_end=True,\n",
    "    metric_for_best_model=\"eval_loss\",\n",
    "    push_to_hub=False,\n",
    "    report_to=\"none\",             # Không báo cáo metrics ra ngoài\n",
    "\n",
    ")\n",
    "\n",
    "# Tạo trainer\n",
    "trainer = Trainer(\n",
    "    model=model, \n",
    "    args=training_args, \n",
    "    train_dataset=train_dataset,\n",
    "    eval_dataset=test_dataset,\n",
    "    tokenizer=tokenizer,\n",
    "    data_collator = data_collator\n",
    ")\n",
    "\n",
    "# Huấn luyện\n",
    "trainer.train()"
   ]
  },
  {
   "cell_type": "code",
   "execution_count": 16,
   "id": "ff31fa02",
   "metadata": {
    "execution": {
     "iopub.execute_input": "2025-05-27T09:46:44.914828Z",
     "iopub.status.busy": "2025-05-27T09:46:44.914333Z",
     "iopub.status.idle": "2025-05-27T09:46:44.921456Z",
     "shell.execute_reply": "2025-05-27T09:46:44.920457Z"
    },
    "papermill": {
     "duration": 0.015374,
     "end_time": "2025-05-27T09:46:44.922692",
     "exception": false,
     "start_time": "2025-05-27T09:46:44.907318",
     "status": "completed"
    },
    "tags": []
   },
   "outputs": [
    {
     "name": "stdout",
     "output_type": "stream",
     "text": [
      "PeftModelForTokenClassification(\n",
      "  (base_model): LoraModel(\n",
      "    (model): RobertaForTokenClassification(\n",
      "      (roberta): RobertaModel(\n",
      "        (embeddings): RobertaEmbeddings(\n",
      "          (word_embeddings): Embedding(64001, 768, padding_idx=1)\n",
      "          (position_embeddings): Embedding(258, 768, padding_idx=1)\n",
      "          (token_type_embeddings): Embedding(1, 768)\n",
      "          (LayerNorm): LayerNorm((768,), eps=1e-05, elementwise_affine=True)\n",
      "          (dropout): Dropout(p=0.1, inplace=False)\n",
      "        )\n",
      "        (encoder): RobertaEncoder(\n",
      "          (layer): ModuleList(\n",
      "            (0-11): 12 x RobertaLayer(\n",
      "              (attention): RobertaAttention(\n",
      "                (self): RobertaSdpaSelfAttention(\n",
      "                  (query): lora.Linear(\n",
      "                    (base_layer): Linear(in_features=768, out_features=768, bias=True)\n",
      "                    (lora_dropout): ModuleDict(\n",
      "                      (default): Dropout(p=0.1, inplace=False)\n",
      "                    )\n",
      "                    (lora_A): ModuleDict(\n",
      "                      (default): Linear(in_features=768, out_features=32, bias=False)\n",
      "                    )\n",
      "                    (lora_B): ModuleDict(\n",
      "                      (default): Linear(in_features=32, out_features=768, bias=False)\n",
      "                    )\n",
      "                    (lora_embedding_A): ParameterDict()\n",
      "                    (lora_embedding_B): ParameterDict()\n",
      "                    (lora_magnitude_vector): ModuleDict()\n",
      "                  )\n",
      "                  (key): lora.Linear(\n",
      "                    (base_layer): Linear(in_features=768, out_features=768, bias=True)\n",
      "                    (lora_dropout): ModuleDict(\n",
      "                      (default): Dropout(p=0.1, inplace=False)\n",
      "                    )\n",
      "                    (lora_A): ModuleDict(\n",
      "                      (default): Linear(in_features=768, out_features=32, bias=False)\n",
      "                    )\n",
      "                    (lora_B): ModuleDict(\n",
      "                      (default): Linear(in_features=32, out_features=768, bias=False)\n",
      "                    )\n",
      "                    (lora_embedding_A): ParameterDict()\n",
      "                    (lora_embedding_B): ParameterDict()\n",
      "                    (lora_magnitude_vector): ModuleDict()\n",
      "                  )\n",
      "                  (value): lora.Linear(\n",
      "                    (base_layer): Linear(in_features=768, out_features=768, bias=True)\n",
      "                    (lora_dropout): ModuleDict(\n",
      "                      (default): Dropout(p=0.1, inplace=False)\n",
      "                    )\n",
      "                    (lora_A): ModuleDict(\n",
      "                      (default): Linear(in_features=768, out_features=32, bias=False)\n",
      "                    )\n",
      "                    (lora_B): ModuleDict(\n",
      "                      (default): Linear(in_features=32, out_features=768, bias=False)\n",
      "                    )\n",
      "                    (lora_embedding_A): ParameterDict()\n",
      "                    (lora_embedding_B): ParameterDict()\n",
      "                    (lora_magnitude_vector): ModuleDict()\n",
      "                  )\n",
      "                  (dropout): Dropout(p=0.1, inplace=False)\n",
      "                )\n",
      "                (output): RobertaSelfOutput(\n",
      "                  (dense): Linear(in_features=768, out_features=768, bias=True)\n",
      "                  (LayerNorm): LayerNorm((768,), eps=1e-05, elementwise_affine=True)\n",
      "                  (dropout): Dropout(p=0.1, inplace=False)\n",
      "                )\n",
      "              )\n",
      "              (intermediate): RobertaIntermediate(\n",
      "                (dense): Linear(in_features=768, out_features=3072, bias=True)\n",
      "                (intermediate_act_fn): GELUActivation()\n",
      "              )\n",
      "              (output): RobertaOutput(\n",
      "                (dense): Linear(in_features=3072, out_features=768, bias=True)\n",
      "                (LayerNorm): LayerNorm((768,), eps=1e-05, elementwise_affine=True)\n",
      "                (dropout): Dropout(p=0.1, inplace=False)\n",
      "              )\n",
      "            )\n",
      "          )\n",
      "        )\n",
      "      )\n",
      "      (dropout): Dropout(p=0.1, inplace=False)\n",
      "      (classifier): ModulesToSaveWrapper(\n",
      "        (original_module): Linear(in_features=768, out_features=3, bias=True)\n",
      "        (modules_to_save): ModuleDict(\n",
      "          (default): Linear(in_features=768, out_features=3, bias=True)\n",
      "        )\n",
      "      )\n",
      "    )\n",
      "  )\n",
      ")\n"
     ]
    }
   ],
   "source": [
    "print(model)"
   ]
  },
  {
   "cell_type": "code",
   "execution_count": 17,
   "id": "6ff79c81",
   "metadata": {
    "execution": {
     "iopub.execute_input": "2025-05-27T09:46:44.936565Z",
     "iopub.status.busy": "2025-05-27T09:46:44.935976Z",
     "iopub.status.idle": "2025-05-27T09:46:44.939450Z",
     "shell.execute_reply": "2025-05-27T09:46:44.938870Z"
    },
    "papermill": {
     "duration": 0.011463,
     "end_time": "2025-05-27T09:46:44.940520",
     "exception": false,
     "start_time": "2025-05-27T09:46:44.929057",
     "status": "completed"
    },
    "tags": []
   },
   "outputs": [],
   "source": [
    "import os\n",
    "os.environ['CUDA_LAUNCH_BLOCKING'] = \"1\""
   ]
  },
  {
   "cell_type": "markdown",
   "id": "3fe0c30f",
   "metadata": {
    "papermill": {
     "duration": 0.005714,
     "end_time": "2025-05-27T09:46:44.953013",
     "exception": false,
     "start_time": "2025-05-27T09:46:44.947299",
     "status": "completed"
    },
    "tags": []
   },
   "source": [
    "## 4. Tạo hàm dự đoán nhãn trên 1 câu"
   ]
  },
  {
   "cell_type": "code",
   "execution_count": 18,
   "id": "73a817dc",
   "metadata": {
    "execution": {
     "iopub.execute_input": "2025-05-27T09:46:44.965989Z",
     "iopub.status.busy": "2025-05-27T09:46:44.965775Z",
     "iopub.status.idle": "2025-05-27T09:46:44.970864Z",
     "shell.execute_reply": "2025-05-27T09:46:44.970316Z"
    },
    "papermill": {
     "duration": 0.012775,
     "end_time": "2025-05-27T09:46:44.971912",
     "exception": false,
     "start_time": "2025-05-27T09:46:44.959137",
     "status": "completed"
    },
    "tags": []
   },
   "outputs": [],
   "source": [
    "# Lặp qua từng văn bản trong cột 'text' của DataFrame\n",
    "def predict_ner(text):\n",
    "\n",
    "    # Tokenize văn bản\n",
    "    new_tokens = tokenizer(text, truncation=True, padding=True, return_tensors=\"pt\")\n",
    "\n",
    "    # Di chuyển dữ liệu vào thiết bị (GPU nếu có)\n",
    "    new_tokens = {key: value.to(device) for key, value in new_tokens.items()}\n",
    "\n",
    "    # Dự đoán\n",
    "    outputs = model(**new_tokens)\n",
    "    predictions = outputs.logits.argmax(dim=-1)\n",
    "\n",
    "    # Chuyển đổi id của nhãn thành nhãn tương ứng\n",
    "    id_to_label = model.config.id2label  # lấy từ mô hình (phải đảm bảo model có cấu hình này)\n",
    "    predicted_labels = [id_to_label[label_id] for label_id in predictions[0].tolist()]\n",
    "\n",
    "    # Chuyển đổi input_ids thành tokens\n",
    "    tokens = tokenizer.convert_ids_to_tokens(new_tokens[\"input_ids\"][0])\n",
    "    tokens = [token.replace(\"@@\", \"\") for token in tokens]\n",
    "    return tokens, predicted_labels"
   ]
  },
  {
   "cell_type": "markdown",
   "id": "6f93caac",
   "metadata": {
    "papermill": {
     "duration": 0.005843,
     "end_time": "2025-05-27T09:46:44.984009",
     "exception": false,
     "start_time": "2025-05-27T09:46:44.978166",
     "status": "completed"
    },
    "tags": []
   },
   "source": [
    "## 5. Thực hiện ghép các token"
   ]
  },
  {
   "cell_type": "code",
   "execution_count": 19,
   "id": "516c1425",
   "metadata": {
    "execution": {
     "iopub.execute_input": "2025-05-27T09:46:44.996816Z",
     "iopub.status.busy": "2025-05-27T09:46:44.996597Z",
     "iopub.status.idle": "2025-05-27T09:46:45.002878Z",
     "shell.execute_reply": "2025-05-27T09:46:45.002155Z"
    },
    "papermill": {
     "duration": 0.013835,
     "end_time": "2025-05-27T09:46:45.003930",
     "exception": false,
     "start_time": "2025-05-27T09:46:44.990095",
     "status": "completed"
    },
    "tags": []
   },
   "outputs": [],
   "source": [
    "def extract_entities(tokens, labels):\n",
    "    entities = []\n",
    "    curent_entity = []\n",
    "\n",
    "    for token, label in zip(tokens, labels):\n",
    "        if label == \"B-ENTITY\":\n",
    "            # Nếu gặp B-ENTITY, bắt đầu một thực thể mới\n",
    "            if curent_entity:\n",
    "                entities.append(\" \".join(curent_entity).replace(\"\\u2581\", \" \").strip())\n",
    "            curent_entity = [token]\n",
    "        elif label == \"I-ENTITY\":\n",
    "            # Nếu gặp I-ENTITY, thêm vào thực thể hiện tại\n",
    "            if curent_entity:\n",
    "                curent_entity.append(token)\n",
    "        else:\n",
    "            # Nếu gặp nhãn O, kết thúc thực thể hiện tại (nếu có)\n",
    "            if curent_entity:\n",
    "                entities.append(\" \".join(curent_entity).replace(\"\\u2581\", \" \").strip())\n",
    "                curent_entity = []\n",
    "    # Lưu thực thể cuối cùng (nếu có)\n",
    "    if curent_entity:\n",
    "        entities.append(\" \".join(curent_entity).replace(\"\\u2581\", \" \").strip())\n",
    "    return set(entities)"
   ]
  },
  {
   "cell_type": "code",
   "execution_count": 20,
   "id": "027da95c",
   "metadata": {
    "execution": {
     "iopub.execute_input": "2025-05-27T09:46:45.016793Z",
     "iopub.status.busy": "2025-05-27T09:46:45.016579Z",
     "iopub.status.idle": "2025-05-27T09:46:45.100126Z",
     "shell.execute_reply": "2025-05-27T09:46:45.099340Z"
    },
    "papermill": {
     "duration": 0.091299,
     "end_time": "2025-05-27T09:46:45.101325",
     "exception": false,
     "start_time": "2025-05-27T09:46:45.010026",
     "status": "completed"
    },
    "tags": []
   },
   "outputs": [
    {
     "name": "stderr",
     "output_type": "stream",
     "text": [
      "Asking to truncate to max_length but no maximum length is provided and the model has no predefined maximum length. Default to no truncation.\n"
     ]
    },
    {
     "name": "stdout",
     "output_type": "stream",
     "text": [
      "Extracted Entities: {'dự án trọng điểm quốc gia : Vành đai 3 TP. HCM - sẽ chính thức được khởi cô'}\n"
     ]
    }
   ],
   "source": [
    "# Thực thi\n",
    "text =\" Ngày 18/6 tới, dự án trọng điểm quốc gia: Vành đai 3 TP.HCM - sẽ chính thức được khởi công. Đây được xem là dự án đạt kỷ lục, hình mẫu về tiến độ giải phóng ... youtube.com\"\n",
    "tokens, predicted_labels = predict_ner(text)\n",
    "\n",
    "entities = extract_entities(tokens,predicted_labels)\n",
    "print(\"Extracted Entities:\",entities)"
   ]
  },
  {
   "cell_type": "markdown",
   "id": "2d3d99de",
   "metadata": {
    "papermill": {
     "duration": 0.005972,
     "end_time": "2025-05-27T09:46:45.114124",
     "exception": false,
     "start_time": "2025-05-27T09:46:45.108152",
     "status": "completed"
    },
    "tags": []
   },
   "source": [
    "## 6. Tạo lại text từ tập test_dataset"
   ]
  },
  {
   "cell_type": "code",
   "execution_count": 21,
   "id": "a70d4c76",
   "metadata": {
    "execution": {
     "iopub.execute_input": "2025-05-27T09:46:45.126937Z",
     "iopub.status.busy": "2025-05-27T09:46:45.126701Z",
     "iopub.status.idle": "2025-05-27T09:46:45.436042Z",
     "shell.execute_reply": "2025-05-27T09:46:45.435206Z"
    },
    "papermill": {
     "duration": 0.317453,
     "end_time": "2025-05-27T09:46:45.437541",
     "exception": false,
     "start_time": "2025-05-27T09:46:45.120088",
     "status": "completed"
    },
    "tags": []
   },
   "outputs": [],
   "source": [
    "Tokens_test = []\n",
    "for item in test_dataset:\n",
    "    Tokens_test.append(tokenizer.convert_ids_to_tokens(item[\"input_ids\"]))\n",
    "\n",
    "def reconstruct_bpe_sentence(tokens):\n",
    "    sentence = \"\"\n",
    "    skip_tokens = {\"<s>\", \"</s>\", \"<unk>\", \"<pad>\"}\n",
    "\n",
    "    for token in tokens:\n",
    "        if token in skip_tokens:\n",
    "            continue\n",
    "\n",
    "        if token.endswith(\"@@\"):\n",
    "            sentence += token[:-2]  # bỏ @@ và không thêm khoảng trắng\n",
    "        else:\n",
    "            sentence += token + \" \"  # token hoàn chỉnh → thêm khoảng trắng\n",
    "\n",
    "    # Làm sạch dư thừa\n",
    "    return sentence.strip()\n",
    "\n",
    "texts = [reconstruct_bpe_sentence(tokens) for tokens in Tokens_test]"
   ]
  },
  {
   "cell_type": "markdown",
   "id": "0c32439f",
   "metadata": {
    "papermill": {
     "duration": 0.006555,
     "end_time": "2025-05-27T09:46:45.450943",
     "exception": false,
     "start_time": "2025-05-27T09:46:45.444388",
     "status": "completed"
    },
    "tags": []
   },
   "source": [
    "### Kết quả dự đoán 980 câu trong tập test"
   ]
  },
  {
   "cell_type": "code",
   "execution_count": 22,
   "id": "0ff6d38c",
   "metadata": {
    "execution": {
     "iopub.execute_input": "2025-05-27T09:46:45.464541Z",
     "iopub.status.busy": "2025-05-27T09:46:45.464257Z",
     "iopub.status.idle": "2025-05-27T09:47:03.753570Z",
     "shell.execute_reply": "2025-05-27T09:47:03.752740Z"
    },
    "papermill": {
     "duration": 18.297427,
     "end_time": "2025-05-27T09:47:03.754785",
     "exception": false,
     "start_time": "2025-05-27T09:46:45.457358",
     "status": "completed"
    },
    "tags": []
   },
   "outputs": [
    {
     "name": "stdout",
     "output_type": "stream",
     "text": [
      "{'A ĐẶ C L AR O SEE LO ẠI hộp', 'S', 'bánh Flan', 'Pha chế', 'Sữa đặc La Ros ée', 'sinh tố', 'Ữ', 'Cà phê sữ a', 'sữa chua'}\n"
     ]
    }
   ],
   "source": [
    "results = []\n",
    "\n",
    "for text in texts:\n",
    "    tokens, predicted_labels = predict_ner(text)\n",
    "    entities = extract_entities(tokens,predicted_labels)\n",
    "    results.append(entities)\n",
    "print(results[0])"
   ]
  },
  {
   "cell_type": "markdown",
   "id": "cf06c85c",
   "metadata": {
    "papermill": {
     "duration": 0.006365,
     "end_time": "2025-05-27T09:47:03.767887",
     "exception": false,
     "start_time": "2025-05-27T09:47:03.761522",
     "status": "completed"
    },
    "tags": []
   },
   "source": [
    "## Đánh giá model trên tập test"
   ]
  },
  {
   "cell_type": "code",
   "execution_count": 23,
   "id": "0370c0ce",
   "metadata": {
    "execution": {
     "iopub.execute_input": "2025-05-27T09:47:03.781831Z",
     "iopub.status.busy": "2025-05-27T09:47:03.781147Z",
     "iopub.status.idle": "2025-05-27T09:47:18.577954Z",
     "shell.execute_reply": "2025-05-27T09:47:18.576811Z"
    },
    "papermill": {
     "duration": 14.80539,
     "end_time": "2025-05-27T09:47:18.579402",
     "exception": false,
     "start_time": "2025-05-27T09:47:03.774012",
     "status": "completed"
    },
    "tags": []
   },
   "outputs": [
    {
     "name": "stdout",
     "output_type": "stream",
     "text": [
      "Đánh giá mô hình trên tập test...\n",
      "              precision    recall  f1-score   support\n",
      "\n",
      "    B-ENTITY       0.71      0.62      0.66      5737\n",
      "    I-ENTITY       0.72      0.72      0.72     18880\n",
      "           O       0.88      0.89      0.89     48880\n",
      "\n",
      "    accuracy                           0.83     73497\n",
      "   macro avg       0.77      0.75      0.76     73497\n",
      "weighted avg       0.83      0.83      0.83     73497\n",
      "\n"
     ]
    }
   ],
   "source": [
    "def evaluate_model(model, test_dataset, tokenizer, device):\n",
    "    from sklearn.metrics import classification_report\n",
    "    \n",
    "    model.eval()\n",
    "    all_true_labels = []\n",
    "    all_predicted_labels = []\n",
    "    \n",
    "    # Chuyển test_dataset thành dạng dễ xử lý\n",
    "    test_input_ids = [torch.tensor(x) for x in test_dataset[\"input_ids\"]]\n",
    "    test_labels = test_dataset[\"labels\"]\n",
    "    \n",
    "    for i, input_ids in enumerate(test_input_ids):\n",
    "        # Chuyển thành batch\n",
    "        input_ids = input_ids.unsqueeze(0).to(device)\n",
    "        \n",
    "        # Dự đoán\n",
    "        with torch.no_grad():\n",
    "            outputs = model(input_ids=input_ids)\n",
    "        \n",
    "        predictions = outputs.logits.argmax(dim=-1)[0].cpu().numpy()\n",
    "        true_labels = test_labels[i]\n",
    "        \n",
    "        # Lọc bỏ các nhãn là -100 (padding tokens)\n",
    "        valid_indices = [j for j, label in enumerate(true_labels) if label != -100]\n",
    "        true_labels = [true_labels[j] for j in valid_indices]\n",
    "        predictions = [predictions[j] for j in valid_indices]\n",
    "        \n",
    "        all_true_labels.extend(true_labels)\n",
    "        all_predicted_labels.extend(predictions)\n",
    "    \n",
    "    # Chuyển các nhãn dạng số thành dạng chữ để dễ đọc trong báo cáo\n",
    "    true_labels_str = [id2label[label] for label in all_true_labels]\n",
    "    pred_labels_str = [id2label[label] for label in all_predicted_labels]\n",
    "    \n",
    "    # In báo cáo đánh giá\n",
    "    print(classification_report(true_labels_str, pred_labels_str))\n",
    "\n",
    "print(\"Đánh giá mô hình trên tập test...\")\n",
    "evaluate_model(model, test_dataset, tokenizer, device)"
   ]
  }
 ],
 "metadata": {
  "kaggle": {
   "accelerator": "nvidiaTeslaT4",
   "dataSources": [
    {
     "datasetId": 7517015,
     "sourceId": 11955894,
     "sourceType": "datasetVersion"
    }
   ],
   "dockerImageVersionId": 31041,
   "isGpuEnabled": true,
   "isInternetEnabled": true,
   "language": "python",
   "sourceType": "notebook"
  },
  "kernelspec": {
   "display_name": "Python 3",
   "language": "python",
   "name": "python3"
  },
  "language_info": {
   "codemirror_mode": {
    "name": "ipython",
    "version": 3
   },
   "file_extension": ".py",
   "mimetype": "text/x-python",
   "name": "python",
   "nbconvert_exporter": "python",
   "pygments_lexer": "ipython3",
   "version": "3.11.11"
  },
  "papermill": {
   "default_parameters": {},
   "duration": 540.501915,
   "end_time": "2025-05-27T09:47:22.254770",
   "environment_variables": {},
   "exception": null,
   "input_path": "__notebook__.ipynb",
   "output_path": "__notebook__.ipynb",
   "parameters": {},
   "start_time": "2025-05-27T09:38:21.752855",
   "version": "2.6.0"
  },
  "widgets": {
   "application/vnd.jupyter.widget-state+json": {
    "state": {
     "04517b4c32204fc48a74f5d075eec827": {
      "model_module": "@jupyter-widgets/controls",
      "model_module_version": "2.0.0",
      "model_name": "FloatProgressModel",
      "state": {
       "_dom_classes": [],
       "_model_module": "@jupyter-widgets/controls",
       "_model_module_version": "2.0.0",
       "_model_name": "FloatProgressModel",
       "_view_count": null,
       "_view_module": "@jupyter-widgets/controls",
       "_view_module_version": "2.0.0",
       "_view_name": "ProgressView",
       "bar_style": "success",
       "description": "",
       "description_allow_html": false,
       "layout": "IPY_MODEL_d0cde98be56e4d4c9b2fdbfd83b372d3",
       "max": 542923308.0,
       "min": 0.0,
       "orientation": "horizontal",
       "style": "IPY_MODEL_d9c8cff6e30b43e48a06a74fa66c5e1c",
       "tabbable": null,
       "tooltip": null,
       "value": 542923308.0
      }
     },
     "04b9e695d61a415dbb92e352ab763aa7": {
      "model_module": "@jupyter-widgets/base",
      "model_module_version": "2.0.0",
      "model_name": "LayoutModel",
      "state": {
       "_model_module": "@jupyter-widgets/base",
       "_model_module_version": "2.0.0",
       "_model_name": "LayoutModel",
       "_view_count": null,
       "_view_module": "@jupyter-widgets/base",
       "_view_module_version": "2.0.0",
       "_view_name": "LayoutView",
       "align_content": null,
       "align_items": null,
       "align_self": null,
       "border_bottom": null,
       "border_left": null,
       "border_right": null,
       "border_top": null,
       "bottom": null,
       "display": null,
       "flex": null,
       "flex_flow": null,
       "grid_area": null,
       "grid_auto_columns": null,
       "grid_auto_flow": null,
       "grid_auto_rows": null,
       "grid_column": null,
       "grid_gap": null,
       "grid_row": null,
       "grid_template_areas": null,
       "grid_template_columns": null,
       "grid_template_rows": null,
       "height": null,
       "justify_content": null,
       "justify_items": null,
       "left": null,
       "margin": null,
       "max_height": null,
       "max_width": null,
       "min_height": null,
       "min_width": null,
       "object_fit": null,
       "object_position": null,
       "order": null,
       "overflow": null,
       "padding": null,
       "right": null,
       "top": null,
       "visibility": null,
       "width": null
      }
     },
     "09d231d69e8445d6896edc25a28d0e0a": {
      "model_module": "@jupyter-widgets/controls",
      "model_module_version": "2.0.0",
      "model_name": "FloatProgressModel",
      "state": {
       "_dom_classes": [],
       "_model_module": "@jupyter-widgets/controls",
       "_model_module_version": "2.0.0",
       "_model_name": "FloatProgressModel",
       "_view_count": null,
       "_view_module": "@jupyter-widgets/controls",
       "_view_module_version": "2.0.0",
       "_view_name": "ProgressView",
       "bar_style": "success",
       "description": "",
       "description_allow_html": false,
       "layout": "IPY_MODEL_f922df721d0d4c8c8929353caa5a1912",
       "max": 542900336.0,
       "min": 0.0,
       "orientation": "horizontal",
       "style": "IPY_MODEL_224cae1b37bc439b9ed84280352d58bc",
       "tabbable": null,
       "tooltip": null,
       "value": 542900336.0
      }
     },
     "0fedc3f5209d412f9037f35d42c743d2": {
      "model_module": "@jupyter-widgets/base",
      "model_module_version": "2.0.0",
      "model_name": "LayoutModel",
      "state": {
       "_model_module": "@jupyter-widgets/base",
       "_model_module_version": "2.0.0",
       "_model_name": "LayoutModel",
       "_view_count": null,
       "_view_module": "@jupyter-widgets/base",
       "_view_module_version": "2.0.0",
       "_view_name": "LayoutView",
       "align_content": null,
       "align_items": null,
       "align_self": null,
       "border_bottom": null,
       "border_left": null,
       "border_right": null,
       "border_top": null,
       "bottom": null,
       "display": null,
       "flex": null,
       "flex_flow": null,
       "grid_area": null,
       "grid_auto_columns": null,
       "grid_auto_flow": null,
       "grid_auto_rows": null,
       "grid_column": null,
       "grid_gap": null,
       "grid_row": null,
       "grid_template_areas": null,
       "grid_template_columns": null,
       "grid_template_rows": null,
       "height": null,
       "justify_content": null,
       "justify_items": null,
       "left": null,
       "margin": null,
       "max_height": null,
       "max_width": null,
       "min_height": null,
       "min_width": null,
       "object_fit": null,
       "object_position": null,
       "order": null,
       "overflow": null,
       "padding": null,
       "right": null,
       "top": null,
       "visibility": null,
       "width": null
      }
     },
     "122cac03d7fd4ef790c96ef6f1814271": {
      "model_module": "@jupyter-widgets/controls",
      "model_module_version": "2.0.0",
      "model_name": "HTMLModel",
      "state": {
       "_dom_classes": [],
       "_model_module": "@jupyter-widgets/controls",
       "_model_module_version": "2.0.0",
       "_model_name": "HTMLModel",
       "_view_count": null,
       "_view_module": "@jupyter-widgets/controls",
       "_view_module_version": "2.0.0",
       "_view_name": "HTMLView",
       "description": "",
       "description_allow_html": false,
       "layout": "IPY_MODEL_7299394dc01f4a498f04764fca8e8d22",
       "placeholder": "​",
       "style": "IPY_MODEL_24d5ccc473ae4c2bac9ba1de7cea893e",
       "tabbable": null,
       "tooltip": null,
       "value": " 557/557 [00:00&lt;00:00, 64.7kB/s]"
      }
     },
     "133e1eb9d9f44f87b89d110dd1c69603": {
      "model_module": "@jupyter-widgets/base",
      "model_module_version": "2.0.0",
      "model_name": "LayoutModel",
      "state": {
       "_model_module": "@jupyter-widgets/base",
       "_model_module_version": "2.0.0",
       "_model_name": "LayoutModel",
       "_view_count": null,
       "_view_module": "@jupyter-widgets/base",
       "_view_module_version": "2.0.0",
       "_view_name": "LayoutView",
       "align_content": null,
       "align_items": null,
       "align_self": null,
       "border_bottom": null,
       "border_left": null,
       "border_right": null,
       "border_top": null,
       "bottom": null,
       "display": null,
       "flex": null,
       "flex_flow": null,
       "grid_area": null,
       "grid_auto_columns": null,
       "grid_auto_flow": null,
       "grid_auto_rows": null,
       "grid_column": null,
       "grid_gap": null,
       "grid_row": null,
       "grid_template_areas": null,
       "grid_template_columns": null,
       "grid_template_rows": null,
       "height": null,
       "justify_content": null,
       "justify_items": null,
       "left": null,
       "margin": null,
       "max_height": null,
       "max_width": null,
       "min_height": null,
       "min_width": null,
       "object_fit": null,
       "object_position": null,
       "order": null,
       "overflow": null,
       "padding": null,
       "right": null,
       "top": null,
       "visibility": null,
       "width": null
      }
     },
     "161732d24644471caf931ed835506b9f": {
      "model_module": "@jupyter-widgets/controls",
      "model_module_version": "2.0.0",
      "model_name": "HTMLStyleModel",
      "state": {
       "_model_module": "@jupyter-widgets/controls",
       "_model_module_version": "2.0.0",
       "_model_name": "HTMLStyleModel",
       "_view_count": null,
       "_view_module": "@jupyter-widgets/base",
       "_view_module_version": "2.0.0",
       "_view_name": "StyleView",
       "background": null,
       "description_width": "",
       "font_size": null,
       "text_color": null
      }
     },
     "1fd4c58f6e0f4262a75241d08b65fd1d": {
      "model_module": "@jupyter-widgets/controls",
      "model_module_version": "2.0.0",
      "model_name": "HTMLStyleModel",
      "state": {
       "_model_module": "@jupyter-widgets/controls",
       "_model_module_version": "2.0.0",
       "_model_name": "HTMLStyleModel",
       "_view_count": null,
       "_view_module": "@jupyter-widgets/base",
       "_view_module_version": "2.0.0",
       "_view_name": "StyleView",
       "background": null,
       "description_width": "",
       "font_size": null,
       "text_color": null
      }
     },
     "224cae1b37bc439b9ed84280352d58bc": {
      "model_module": "@jupyter-widgets/controls",
      "model_module_version": "2.0.0",
      "model_name": "ProgressStyleModel",
      "state": {
       "_model_module": "@jupyter-widgets/controls",
       "_model_module_version": "2.0.0",
       "_model_name": "ProgressStyleModel",
       "_view_count": null,
       "_view_module": "@jupyter-widgets/base",
       "_view_module_version": "2.0.0",
       "_view_name": "StyleView",
       "bar_color": null,
       "description_width": ""
      }
     },
     "24d5ccc473ae4c2bac9ba1de7cea893e": {
      "model_module": "@jupyter-widgets/controls",
      "model_module_version": "2.0.0",
      "model_name": "HTMLStyleModel",
      "state": {
       "_model_module": "@jupyter-widgets/controls",
       "_model_module_version": "2.0.0",
       "_model_name": "HTMLStyleModel",
       "_view_count": null,
       "_view_module": "@jupyter-widgets/base",
       "_view_module_version": "2.0.0",
       "_view_name": "StyleView",
       "background": null,
       "description_width": "",
       "font_size": null,
       "text_color": null
      }
     },
     "291fa7a4079042468f0163078a602657": {
      "model_module": "@jupyter-widgets/controls",
      "model_module_version": "2.0.0",
      "model_name": "HBoxModel",
      "state": {
       "_dom_classes": [],
       "_model_module": "@jupyter-widgets/controls",
       "_model_module_version": "2.0.0",
       "_model_name": "HBoxModel",
       "_view_count": null,
       "_view_module": "@jupyter-widgets/controls",
       "_view_module_version": "2.0.0",
       "_view_name": "HBoxView",
       "box_style": "",
       "children": [
        "IPY_MODEL_8fccf5af50be4c82b1b2135cbd1cad17",
        "IPY_MODEL_09d231d69e8445d6896edc25a28d0e0a",
        "IPY_MODEL_2ac7e06599014de985910a12865ca6ac"
       ],
       "layout": "IPY_MODEL_ae4de3dba5414722a6a60b69bc7ab2fc",
       "tabbable": null,
       "tooltip": null
      }
     },
     "298d6ca64a534a4580eb5a134c463552": {
      "model_module": "@jupyter-widgets/base",
      "model_module_version": "2.0.0",
      "model_name": "LayoutModel",
      "state": {
       "_model_module": "@jupyter-widgets/base",
       "_model_module_version": "2.0.0",
       "_model_name": "LayoutModel",
       "_view_count": null,
       "_view_module": "@jupyter-widgets/base",
       "_view_module_version": "2.0.0",
       "_view_name": "LayoutView",
       "align_content": null,
       "align_items": null,
       "align_self": null,
       "border_bottom": null,
       "border_left": null,
       "border_right": null,
       "border_top": null,
       "bottom": null,
       "display": null,
       "flex": null,
       "flex_flow": null,
       "grid_area": null,
       "grid_auto_columns": null,
       "grid_auto_flow": null,
       "grid_auto_rows": null,
       "grid_column": null,
       "grid_gap": null,
       "grid_row": null,
       "grid_template_areas": null,
       "grid_template_columns": null,
       "grid_template_rows": null,
       "height": null,
       "justify_content": null,
       "justify_items": null,
       "left": null,
       "margin": null,
       "max_height": null,
       "max_width": null,
       "min_height": null,
       "min_width": null,
       "object_fit": null,
       "object_position": null,
       "order": null,
       "overflow": null,
       "padding": null,
       "right": null,
       "top": null,
       "visibility": null,
       "width": null
      }
     },
     "2ac7e06599014de985910a12865ca6ac": {
      "model_module": "@jupyter-widgets/controls",
      "model_module_version": "2.0.0",
      "model_name": "HTMLModel",
      "state": {
       "_dom_classes": [],
       "_model_module": "@jupyter-widgets/controls",
       "_model_module_version": "2.0.0",
       "_model_name": "HTMLModel",
       "_view_count": null,
       "_view_module": "@jupyter-widgets/controls",
       "_view_module_version": "2.0.0",
       "_view_name": "HTMLView",
       "description": "",
       "description_allow_html": false,
       "layout": "IPY_MODEL_a94bf1b7490e40fbb32c8fde4b761a6f",
       "placeholder": "​",
       "style": "IPY_MODEL_f19f188fd3034c97bc1578aac75ee6af",
       "tabbable": null,
       "tooltip": null,
       "value": " 543M/543M [00:02&lt;00:00, 223MB/s]"
      }
     },
     "2b9e01b062a14021a9b036b8e2d51da8": {
      "model_module": "@jupyter-widgets/controls",
      "model_module_version": "2.0.0",
      "model_name": "ProgressStyleModel",
      "state": {
       "_model_module": "@jupyter-widgets/controls",
       "_model_module_version": "2.0.0",
       "_model_name": "ProgressStyleModel",
       "_view_count": null,
       "_view_module": "@jupyter-widgets/base",
       "_view_module_version": "2.0.0",
       "_view_name": "StyleView",
       "bar_color": null,
       "description_width": ""
      }
     },
     "2d71f4ac6e2440e6835f5741c901d540": {
      "model_module": "@jupyter-widgets/controls",
      "model_module_version": "2.0.0",
      "model_name": "HBoxModel",
      "state": {
       "_dom_classes": [],
       "_model_module": "@jupyter-widgets/controls",
       "_model_module_version": "2.0.0",
       "_model_name": "HBoxModel",
       "_view_count": null,
       "_view_module": "@jupyter-widgets/controls",
       "_view_module_version": "2.0.0",
       "_view_name": "HBoxView",
       "box_style": "",
       "children": [
        "IPY_MODEL_bc0f60eaf2c147b38378218b0fcfb9ff",
        "IPY_MODEL_83c07d12cc154665aea9e281200618fa",
        "IPY_MODEL_f2204d7d9dfa4b579797066ae2b87fe4"
       ],
       "layout": "IPY_MODEL_40441ee4f3c54e35bde597164dd771c2",
       "tabbable": null,
       "tooltip": null
      }
     },
     "31dd8784a70f4ca3b428e956d04b5d56": {
      "model_module": "@jupyter-widgets/base",
      "model_module_version": "2.0.0",
      "model_name": "LayoutModel",
      "state": {
       "_model_module": "@jupyter-widgets/base",
       "_model_module_version": "2.0.0",
       "_model_name": "LayoutModel",
       "_view_count": null,
       "_view_module": "@jupyter-widgets/base",
       "_view_module_version": "2.0.0",
       "_view_name": "LayoutView",
       "align_content": null,
       "align_items": null,
       "align_self": null,
       "border_bottom": null,
       "border_left": null,
       "border_right": null,
       "border_top": null,
       "bottom": null,
       "display": null,
       "flex": null,
       "flex_flow": null,
       "grid_area": null,
       "grid_auto_columns": null,
       "grid_auto_flow": null,
       "grid_auto_rows": null,
       "grid_column": null,
       "grid_gap": null,
       "grid_row": null,
       "grid_template_areas": null,
       "grid_template_columns": null,
       "grid_template_rows": null,
       "height": null,
       "justify_content": null,
       "justify_items": null,
       "left": null,
       "margin": null,
       "max_height": null,
       "max_width": null,
       "min_height": null,
       "min_width": null,
       "object_fit": null,
       "object_position": null,
       "order": null,
       "overflow": null,
       "padding": null,
       "right": null,
       "top": null,
       "visibility": null,
       "width": null
      }
     },
     "40441ee4f3c54e35bde597164dd771c2": {
      "model_module": "@jupyter-widgets/base",
      "model_module_version": "2.0.0",
      "model_name": "LayoutModel",
      "state": {
       "_model_module": "@jupyter-widgets/base",
       "_model_module_version": "2.0.0",
       "_model_name": "LayoutModel",
       "_view_count": null,
       "_view_module": "@jupyter-widgets/base",
       "_view_module_version": "2.0.0",
       "_view_name": "LayoutView",
       "align_content": null,
       "align_items": null,
       "align_self": null,
       "border_bottom": null,
       "border_left": null,
       "border_right": null,
       "border_top": null,
       "bottom": null,
       "display": null,
       "flex": null,
       "flex_flow": null,
       "grid_area": null,
       "grid_auto_columns": null,
       "grid_auto_flow": null,
       "grid_auto_rows": null,
       "grid_column": null,
       "grid_gap": null,
       "grid_row": null,
       "grid_template_areas": null,
       "grid_template_columns": null,
       "grid_template_rows": null,
       "height": null,
       "justify_content": null,
       "justify_items": null,
       "left": null,
       "margin": null,
       "max_height": null,
       "max_width": null,
       "min_height": null,
       "min_width": null,
       "object_fit": null,
       "object_position": null,
       "order": null,
       "overflow": null,
       "padding": null,
       "right": null,
       "top": null,
       "visibility": null,
       "width": null
      }
     },
     "43146f381b1945768c49acecef799f96": {
      "model_module": "@jupyter-widgets/controls",
      "model_module_version": "2.0.0",
      "model_name": "HTMLStyleModel",
      "state": {
       "_model_module": "@jupyter-widgets/controls",
       "_model_module_version": "2.0.0",
       "_model_name": "HTMLStyleModel",
       "_view_count": null,
       "_view_module": "@jupyter-widgets/base",
       "_view_module_version": "2.0.0",
       "_view_name": "StyleView",
       "background": null,
       "description_width": "",
       "font_size": null,
       "text_color": null
      }
     },
     "48452826eac746c29d3fb4d3f5024afa": {
      "model_module": "@jupyter-widgets/controls",
      "model_module_version": "2.0.0",
      "model_name": "FloatProgressModel",
      "state": {
       "_dom_classes": [],
       "_model_module": "@jupyter-widgets/controls",
       "_model_module_version": "2.0.0",
       "_model_name": "FloatProgressModel",
       "_view_count": null,
       "_view_module": "@jupyter-widgets/controls",
       "_view_module_version": "2.0.0",
       "_view_name": "ProgressView",
       "bar_style": "success",
       "description": "",
       "description_allow_html": false,
       "layout": "IPY_MODEL_04b9e695d61a415dbb92e352ab763aa7",
       "max": 895321.0,
       "min": 0.0,
       "orientation": "horizontal",
       "style": "IPY_MODEL_f4ac7d3b2ce6425695d5d67d04877e6b",
       "tabbable": null,
       "tooltip": null,
       "value": 895321.0
      }
     },
     "4e71b8d07cb24e67b6260b5600f625f4": {
      "model_module": "@jupyter-widgets/base",
      "model_module_version": "2.0.0",
      "model_name": "LayoutModel",
      "state": {
       "_model_module": "@jupyter-widgets/base",
       "_model_module_version": "2.0.0",
       "_model_name": "LayoutModel",
       "_view_count": null,
       "_view_module": "@jupyter-widgets/base",
       "_view_module_version": "2.0.0",
       "_view_name": "LayoutView",
       "align_content": null,
       "align_items": null,
       "align_self": null,
       "border_bottom": null,
       "border_left": null,
       "border_right": null,
       "border_top": null,
       "bottom": null,
       "display": null,
       "flex": null,
       "flex_flow": null,
       "grid_area": null,
       "grid_auto_columns": null,
       "grid_auto_flow": null,
       "grid_auto_rows": null,
       "grid_column": null,
       "grid_gap": null,
       "grid_row": null,
       "grid_template_areas": null,
       "grid_template_columns": null,
       "grid_template_rows": null,
       "height": null,
       "justify_content": null,
       "justify_items": null,
       "left": null,
       "margin": null,
       "max_height": null,
       "max_width": null,
       "min_height": null,
       "min_width": null,
       "object_fit": null,
       "object_position": null,
       "order": null,
       "overflow": null,
       "padding": null,
       "right": null,
       "top": null,
       "visibility": null,
       "width": null
      }
     },
     "615df6abb6934c428f6d8196f8c59789": {
      "model_module": "@jupyter-widgets/controls",
      "model_module_version": "2.0.0",
      "model_name": "HTMLModel",
      "state": {
       "_dom_classes": [],
       "_model_module": "@jupyter-widgets/controls",
       "_model_module_version": "2.0.0",
       "_model_name": "HTMLModel",
       "_view_count": null,
       "_view_module": "@jupyter-widgets/controls",
       "_view_module_version": "2.0.0",
       "_view_name": "HTMLView",
       "description": "",
       "description_allow_html": false,
       "layout": "IPY_MODEL_b2853315e278442ea4842ef8653d2d1e",
       "placeholder": "​",
       "style": "IPY_MODEL_a24daf70f23744728cac07612cc187ba",
       "tabbable": null,
       "tooltip": null,
       "value": "vocab.txt: 100%"
      }
     },
     "65baf048945a4330891ad891e67328fa": {
      "model_module": "@jupyter-widgets/controls",
      "model_module_version": "2.0.0",
      "model_name": "HTMLModel",
      "state": {
       "_dom_classes": [],
       "_model_module": "@jupyter-widgets/controls",
       "_model_module_version": "2.0.0",
       "_model_name": "HTMLModel",
       "_view_count": null,
       "_view_module": "@jupyter-widgets/controls",
       "_view_module_version": "2.0.0",
       "_view_name": "HTMLView",
       "description": "",
       "description_allow_html": false,
       "layout": "IPY_MODEL_9edc9157d9784e20983ae1c9bc50598d",
       "placeholder": "​",
       "style": "IPY_MODEL_9aaac095b3e244248e72e78371c1f048",
       "tabbable": null,
       "tooltip": null,
       "value": "config.json: 100%"
      }
     },
     "683580d1897e4cba8507a8f3aa194adb": {
      "model_module": "@jupyter-widgets/controls",
      "model_module_version": "2.0.0",
      "model_name": "HTMLStyleModel",
      "state": {
       "_model_module": "@jupyter-widgets/controls",
       "_model_module_version": "2.0.0",
       "_model_name": "HTMLStyleModel",
       "_view_count": null,
       "_view_module": "@jupyter-widgets/base",
       "_view_module_version": "2.0.0",
       "_view_name": "StyleView",
       "background": null,
       "description_width": "",
       "font_size": null,
       "text_color": null
      }
     },
     "720d153a52e6450fab288cb849533065": {
      "model_module": "@jupyter-widgets/base",
      "model_module_version": "2.0.0",
      "model_name": "LayoutModel",
      "state": {
       "_model_module": "@jupyter-widgets/base",
       "_model_module_version": "2.0.0",
       "_model_name": "LayoutModel",
       "_view_count": null,
       "_view_module": "@jupyter-widgets/base",
       "_view_module_version": "2.0.0",
       "_view_name": "LayoutView",
       "align_content": null,
       "align_items": null,
       "align_self": null,
       "border_bottom": null,
       "border_left": null,
       "border_right": null,
       "border_top": null,
       "bottom": null,
       "display": null,
       "flex": null,
       "flex_flow": null,
       "grid_area": null,
       "grid_auto_columns": null,
       "grid_auto_flow": null,
       "grid_auto_rows": null,
       "grid_column": null,
       "grid_gap": null,
       "grid_row": null,
       "grid_template_areas": null,
       "grid_template_columns": null,
       "grid_template_rows": null,
       "height": null,
       "justify_content": null,
       "justify_items": null,
       "left": null,
       "margin": null,
       "max_height": null,
       "max_width": null,
       "min_height": null,
       "min_width": null,
       "object_fit": null,
       "object_position": null,
       "order": null,
       "overflow": null,
       "padding": null,
       "right": null,
       "top": null,
       "visibility": null,
       "width": null
      }
     },
     "7299394dc01f4a498f04764fca8e8d22": {
      "model_module": "@jupyter-widgets/base",
      "model_module_version": "2.0.0",
      "model_name": "LayoutModel",
      "state": {
       "_model_module": "@jupyter-widgets/base",
       "_model_module_version": "2.0.0",
       "_model_name": "LayoutModel",
       "_view_count": null,
       "_view_module": "@jupyter-widgets/base",
       "_view_module_version": "2.0.0",
       "_view_name": "LayoutView",
       "align_content": null,
       "align_items": null,
       "align_self": null,
       "border_bottom": null,
       "border_left": null,
       "border_right": null,
       "border_top": null,
       "bottom": null,
       "display": null,
       "flex": null,
       "flex_flow": null,
       "grid_area": null,
       "grid_auto_columns": null,
       "grid_auto_flow": null,
       "grid_auto_rows": null,
       "grid_column": null,
       "grid_gap": null,
       "grid_row": null,
       "grid_template_areas": null,
       "grid_template_columns": null,
       "grid_template_rows": null,
       "height": null,
       "justify_content": null,
       "justify_items": null,
       "left": null,
       "margin": null,
       "max_height": null,
       "max_width": null,
       "min_height": null,
       "min_width": null,
       "object_fit": null,
       "object_position": null,
       "order": null,
       "overflow": null,
       "padding": null,
       "right": null,
       "top": null,
       "visibility": null,
       "width": null
      }
     },
     "7e791aed04bf4dc0a115a66ee634af3b": {
      "model_module": "@jupyter-widgets/controls",
      "model_module_version": "2.0.0",
      "model_name": "FloatProgressModel",
      "state": {
       "_dom_classes": [],
       "_model_module": "@jupyter-widgets/controls",
       "_model_module_version": "2.0.0",
       "_model_name": "FloatProgressModel",
       "_view_count": null,
       "_view_module": "@jupyter-widgets/controls",
       "_view_module_version": "2.0.0",
       "_view_name": "ProgressView",
       "bar_style": "success",
       "description": "",
       "description_allow_html": false,
       "layout": "IPY_MODEL_e6d237d6cab74ded812789b7747cdd71",
       "max": 3132320.0,
       "min": 0.0,
       "orientation": "horizontal",
       "style": "IPY_MODEL_2b9e01b062a14021a9b036b8e2d51da8",
       "tabbable": null,
       "tooltip": null,
       "value": 3132320.0
      }
     },
     "83c07d12cc154665aea9e281200618fa": {
      "model_module": "@jupyter-widgets/controls",
      "model_module_version": "2.0.0",
      "model_name": "FloatProgressModel",
      "state": {
       "_dom_classes": [],
       "_model_module": "@jupyter-widgets/controls",
       "_model_module_version": "2.0.0",
       "_model_name": "FloatProgressModel",
       "_view_count": null,
       "_view_module": "@jupyter-widgets/controls",
       "_view_module_version": "2.0.0",
       "_view_name": "ProgressView",
       "bar_style": "success",
       "description": "",
       "description_allow_html": false,
       "layout": "IPY_MODEL_b8df5d338994417bb25beaaed1a070ad",
       "max": 1135173.0,
       "min": 0.0,
       "orientation": "horizontal",
       "style": "IPY_MODEL_ea662d2b450d46d3b762463638010185",
       "tabbable": null,
       "tooltip": null,
       "value": 1135173.0
      }
     },
     "89dbe20ef20e498684e6caa3d85d9f41": {
      "model_module": "@jupyter-widgets/controls",
      "model_module_version": "2.0.0",
      "model_name": "HBoxModel",
      "state": {
       "_dom_classes": [],
       "_model_module": "@jupyter-widgets/controls",
       "_model_module_version": "2.0.0",
       "_model_name": "HBoxModel",
       "_view_count": null,
       "_view_module": "@jupyter-widgets/controls",
       "_view_module_version": "2.0.0",
       "_view_name": "HBoxView",
       "box_style": "",
       "children": [
        "IPY_MODEL_89f0aa1d20974ce0a2dcf1873b5d0c33",
        "IPY_MODEL_04517b4c32204fc48a74f5d075eec827",
        "IPY_MODEL_e4fd1d0e8afd494786156a6b992fc638"
       ],
       "layout": "IPY_MODEL_9943ba5b4bc843d38ba013083bdda45f",
       "tabbable": null,
       "tooltip": null
      }
     },
     "89f0aa1d20974ce0a2dcf1873b5d0c33": {
      "model_module": "@jupyter-widgets/controls",
      "model_module_version": "2.0.0",
      "model_name": "HTMLModel",
      "state": {
       "_dom_classes": [],
       "_model_module": "@jupyter-widgets/controls",
       "_model_module_version": "2.0.0",
       "_model_name": "HTMLModel",
       "_view_count": null,
       "_view_module": "@jupyter-widgets/controls",
       "_view_module_version": "2.0.0",
       "_view_name": "HTMLView",
       "description": "",
       "description_allow_html": false,
       "layout": "IPY_MODEL_720d153a52e6450fab288cb849533065",
       "placeholder": "​",
       "style": "IPY_MODEL_161732d24644471caf931ed835506b9f",
       "tabbable": null,
       "tooltip": null,
       "value": "pytorch_model.bin: 100%"
      }
     },
     "8a189695bf834d93a0016a82164c01f4": {
      "model_module": "@jupyter-widgets/base",
      "model_module_version": "2.0.0",
      "model_name": "LayoutModel",
      "state": {
       "_model_module": "@jupyter-widgets/base",
       "_model_module_version": "2.0.0",
       "_model_name": "LayoutModel",
       "_view_count": null,
       "_view_module": "@jupyter-widgets/base",
       "_view_module_version": "2.0.0",
       "_view_name": "LayoutView",
       "align_content": null,
       "align_items": null,
       "align_self": null,
       "border_bottom": null,
       "border_left": null,
       "border_right": null,
       "border_top": null,
       "bottom": null,
       "display": null,
       "flex": null,
       "flex_flow": null,
       "grid_area": null,
       "grid_auto_columns": null,
       "grid_auto_flow": null,
       "grid_auto_rows": null,
       "grid_column": null,
       "grid_gap": null,
       "grid_row": null,
       "grid_template_areas": null,
       "grid_template_columns": null,
       "grid_template_rows": null,
       "height": null,
       "justify_content": null,
       "justify_items": null,
       "left": null,
       "margin": null,
       "max_height": null,
       "max_width": null,
       "min_height": null,
       "min_width": null,
       "object_fit": null,
       "object_position": null,
       "order": null,
       "overflow": null,
       "padding": null,
       "right": null,
       "top": null,
       "visibility": null,
       "width": null
      }
     },
     "8f9d40986db74cfd8e03bb7cbea00a5c": {
      "model_module": "@jupyter-widgets/base",
      "model_module_version": "2.0.0",
      "model_name": "LayoutModel",
      "state": {
       "_model_module": "@jupyter-widgets/base",
       "_model_module_version": "2.0.0",
       "_model_name": "LayoutModel",
       "_view_count": null,
       "_view_module": "@jupyter-widgets/base",
       "_view_module_version": "2.0.0",
       "_view_name": "LayoutView",
       "align_content": null,
       "align_items": null,
       "align_self": null,
       "border_bottom": null,
       "border_left": null,
       "border_right": null,
       "border_top": null,
       "bottom": null,
       "display": null,
       "flex": null,
       "flex_flow": null,
       "grid_area": null,
       "grid_auto_columns": null,
       "grid_auto_flow": null,
       "grid_auto_rows": null,
       "grid_column": null,
       "grid_gap": null,
       "grid_row": null,
       "grid_template_areas": null,
       "grid_template_columns": null,
       "grid_template_rows": null,
       "height": null,
       "justify_content": null,
       "justify_items": null,
       "left": null,
       "margin": null,
       "max_height": null,
       "max_width": null,
       "min_height": null,
       "min_width": null,
       "object_fit": null,
       "object_position": null,
       "order": null,
       "overflow": null,
       "padding": null,
       "right": null,
       "top": null,
       "visibility": null,
       "width": null
      }
     },
     "8fccf5af50be4c82b1b2135cbd1cad17": {
      "model_module": "@jupyter-widgets/controls",
      "model_module_version": "2.0.0",
      "model_name": "HTMLModel",
      "state": {
       "_dom_classes": [],
       "_model_module": "@jupyter-widgets/controls",
       "_model_module_version": "2.0.0",
       "_model_name": "HTMLModel",
       "_view_count": null,
       "_view_module": "@jupyter-widgets/controls",
       "_view_module_version": "2.0.0",
       "_view_name": "HTMLView",
       "description": "",
       "description_allow_html": false,
       "layout": "IPY_MODEL_8a189695bf834d93a0016a82164c01f4",
       "placeholder": "​",
       "style": "IPY_MODEL_d43fb1071f354b8dbcfd7c9bca09edb0",
       "tabbable": null,
       "tooltip": null,
       "value": "model.safetensors: 100%"
      }
     },
     "91300df1b52243c89d8613ddb0737f0a": {
      "model_module": "@jupyter-widgets/controls",
      "model_module_version": "2.0.0",
      "model_name": "HTMLStyleModel",
      "state": {
       "_model_module": "@jupyter-widgets/controls",
       "_model_module_version": "2.0.0",
       "_model_name": "HTMLStyleModel",
       "_view_count": null,
       "_view_module": "@jupyter-widgets/base",
       "_view_module_version": "2.0.0",
       "_view_name": "StyleView",
       "background": null,
       "description_width": "",
       "font_size": null,
       "text_color": null
      }
     },
     "9943ba5b4bc843d38ba013083bdda45f": {
      "model_module": "@jupyter-widgets/base",
      "model_module_version": "2.0.0",
      "model_name": "LayoutModel",
      "state": {
       "_model_module": "@jupyter-widgets/base",
       "_model_module_version": "2.0.0",
       "_model_name": "LayoutModel",
       "_view_count": null,
       "_view_module": "@jupyter-widgets/base",
       "_view_module_version": "2.0.0",
       "_view_name": "LayoutView",
       "align_content": null,
       "align_items": null,
       "align_self": null,
       "border_bottom": null,
       "border_left": null,
       "border_right": null,
       "border_top": null,
       "bottom": null,
       "display": null,
       "flex": null,
       "flex_flow": null,
       "grid_area": null,
       "grid_auto_columns": null,
       "grid_auto_flow": null,
       "grid_auto_rows": null,
       "grid_column": null,
       "grid_gap": null,
       "grid_row": null,
       "grid_template_areas": null,
       "grid_template_columns": null,
       "grid_template_rows": null,
       "height": null,
       "justify_content": null,
       "justify_items": null,
       "left": null,
       "margin": null,
       "max_height": null,
       "max_width": null,
       "min_height": null,
       "min_width": null,
       "object_fit": null,
       "object_position": null,
       "order": null,
       "overflow": null,
       "padding": null,
       "right": null,
       "top": null,
       "visibility": null,
       "width": null
      }
     },
     "9aaac095b3e244248e72e78371c1f048": {
      "model_module": "@jupyter-widgets/controls",
      "model_module_version": "2.0.0",
      "model_name": "HTMLStyleModel",
      "state": {
       "_model_module": "@jupyter-widgets/controls",
       "_model_module_version": "2.0.0",
       "_model_name": "HTMLStyleModel",
       "_view_count": null,
       "_view_module": "@jupyter-widgets/base",
       "_view_module_version": "2.0.0",
       "_view_name": "StyleView",
       "background": null,
       "description_width": "",
       "font_size": null,
       "text_color": null
      }
     },
     "9edc9157d9784e20983ae1c9bc50598d": {
      "model_module": "@jupyter-widgets/base",
      "model_module_version": "2.0.0",
      "model_name": "LayoutModel",
      "state": {
       "_model_module": "@jupyter-widgets/base",
       "_model_module_version": "2.0.0",
       "_model_name": "LayoutModel",
       "_view_count": null,
       "_view_module": "@jupyter-widgets/base",
       "_view_module_version": "2.0.0",
       "_view_name": "LayoutView",
       "align_content": null,
       "align_items": null,
       "align_self": null,
       "border_bottom": null,
       "border_left": null,
       "border_right": null,
       "border_top": null,
       "bottom": null,
       "display": null,
       "flex": null,
       "flex_flow": null,
       "grid_area": null,
       "grid_auto_columns": null,
       "grid_auto_flow": null,
       "grid_auto_rows": null,
       "grid_column": null,
       "grid_gap": null,
       "grid_row": null,
       "grid_template_areas": null,
       "grid_template_columns": null,
       "grid_template_rows": null,
       "height": null,
       "justify_content": null,
       "justify_items": null,
       "left": null,
       "margin": null,
       "max_height": null,
       "max_width": null,
       "min_height": null,
       "min_width": null,
       "object_fit": null,
       "object_position": null,
       "order": null,
       "overflow": null,
       "padding": null,
       "right": null,
       "top": null,
       "visibility": null,
       "width": null
      }
     },
     "9eee5de8d28c4e85bca33a91ce81c4c0": {
      "model_module": "@jupyter-widgets/base",
      "model_module_version": "2.0.0",
      "model_name": "LayoutModel",
      "state": {
       "_model_module": "@jupyter-widgets/base",
       "_model_module_version": "2.0.0",
       "_model_name": "LayoutModel",
       "_view_count": null,
       "_view_module": "@jupyter-widgets/base",
       "_view_module_version": "2.0.0",
       "_view_name": "LayoutView",
       "align_content": null,
       "align_items": null,
       "align_self": null,
       "border_bottom": null,
       "border_left": null,
       "border_right": null,
       "border_top": null,
       "bottom": null,
       "display": null,
       "flex": null,
       "flex_flow": null,
       "grid_area": null,
       "grid_auto_columns": null,
       "grid_auto_flow": null,
       "grid_auto_rows": null,
       "grid_column": null,
       "grid_gap": null,
       "grid_row": null,
       "grid_template_areas": null,
       "grid_template_columns": null,
       "grid_template_rows": null,
       "height": null,
       "justify_content": null,
       "justify_items": null,
       "left": null,
       "margin": null,
       "max_height": null,
       "max_width": null,
       "min_height": null,
       "min_width": null,
       "object_fit": null,
       "object_position": null,
       "order": null,
       "overflow": null,
       "padding": null,
       "right": null,
       "top": null,
       "visibility": null,
       "width": null
      }
     },
     "a24daf70f23744728cac07612cc187ba": {
      "model_module": "@jupyter-widgets/controls",
      "model_module_version": "2.0.0",
      "model_name": "HTMLStyleModel",
      "state": {
       "_model_module": "@jupyter-widgets/controls",
       "_model_module_version": "2.0.0",
       "_model_name": "HTMLStyleModel",
       "_view_count": null,
       "_view_module": "@jupyter-widgets/base",
       "_view_module_version": "2.0.0",
       "_view_name": "StyleView",
       "background": null,
       "description_width": "",
       "font_size": null,
       "text_color": null
      }
     },
     "a94bf1b7490e40fbb32c8fde4b761a6f": {
      "model_module": "@jupyter-widgets/base",
      "model_module_version": "2.0.0",
      "model_name": "LayoutModel",
      "state": {
       "_model_module": "@jupyter-widgets/base",
       "_model_module_version": "2.0.0",
       "_model_name": "LayoutModel",
       "_view_count": null,
       "_view_module": "@jupyter-widgets/base",
       "_view_module_version": "2.0.0",
       "_view_name": "LayoutView",
       "align_content": null,
       "align_items": null,
       "align_self": null,
       "border_bottom": null,
       "border_left": null,
       "border_right": null,
       "border_top": null,
       "bottom": null,
       "display": null,
       "flex": null,
       "flex_flow": null,
       "grid_area": null,
       "grid_auto_columns": null,
       "grid_auto_flow": null,
       "grid_auto_rows": null,
       "grid_column": null,
       "grid_gap": null,
       "grid_row": null,
       "grid_template_areas": null,
       "grid_template_columns": null,
       "grid_template_rows": null,
       "height": null,
       "justify_content": null,
       "justify_items": null,
       "left": null,
       "margin": null,
       "max_height": null,
       "max_width": null,
       "min_height": null,
       "min_width": null,
       "object_fit": null,
       "object_position": null,
       "order": null,
       "overflow": null,
       "padding": null,
       "right": null,
       "top": null,
       "visibility": null,
       "width": null
      }
     },
     "ae4de3dba5414722a6a60b69bc7ab2fc": {
      "model_module": "@jupyter-widgets/base",
      "model_module_version": "2.0.0",
      "model_name": "LayoutModel",
      "state": {
       "_model_module": "@jupyter-widgets/base",
       "_model_module_version": "2.0.0",
       "_model_name": "LayoutModel",
       "_view_count": null,
       "_view_module": "@jupyter-widgets/base",
       "_view_module_version": "2.0.0",
       "_view_name": "LayoutView",
       "align_content": null,
       "align_items": null,
       "align_self": null,
       "border_bottom": null,
       "border_left": null,
       "border_right": null,
       "border_top": null,
       "bottom": null,
       "display": null,
       "flex": null,
       "flex_flow": null,
       "grid_area": null,
       "grid_auto_columns": null,
       "grid_auto_flow": null,
       "grid_auto_rows": null,
       "grid_column": null,
       "grid_gap": null,
       "grid_row": null,
       "grid_template_areas": null,
       "grid_template_columns": null,
       "grid_template_rows": null,
       "height": null,
       "justify_content": null,
       "justify_items": null,
       "left": null,
       "margin": null,
       "max_height": null,
       "max_width": null,
       "min_height": null,
       "min_width": null,
       "object_fit": null,
       "object_position": null,
       "order": null,
       "overflow": null,
       "padding": null,
       "right": null,
       "top": null,
       "visibility": null,
       "width": null
      }
     },
     "b1cf5206c53b43d49558aaa379d9f1e9": {
      "model_module": "@jupyter-widgets/base",
      "model_module_version": "2.0.0",
      "model_name": "LayoutModel",
      "state": {
       "_model_module": "@jupyter-widgets/base",
       "_model_module_version": "2.0.0",
       "_model_name": "LayoutModel",
       "_view_count": null,
       "_view_module": "@jupyter-widgets/base",
       "_view_module_version": "2.0.0",
       "_view_name": "LayoutView",
       "align_content": null,
       "align_items": null,
       "align_self": null,
       "border_bottom": null,
       "border_left": null,
       "border_right": null,
       "border_top": null,
       "bottom": null,
       "display": null,
       "flex": null,
       "flex_flow": null,
       "grid_area": null,
       "grid_auto_columns": null,
       "grid_auto_flow": null,
       "grid_auto_rows": null,
       "grid_column": null,
       "grid_gap": null,
       "grid_row": null,
       "grid_template_areas": null,
       "grid_template_columns": null,
       "grid_template_rows": null,
       "height": null,
       "justify_content": null,
       "justify_items": null,
       "left": null,
       "margin": null,
       "max_height": null,
       "max_width": null,
       "min_height": null,
       "min_width": null,
       "object_fit": null,
       "object_position": null,
       "order": null,
       "overflow": null,
       "padding": null,
       "right": null,
       "top": null,
       "visibility": null,
       "width": null
      }
     },
     "b2853315e278442ea4842ef8653d2d1e": {
      "model_module": "@jupyter-widgets/base",
      "model_module_version": "2.0.0",
      "model_name": "LayoutModel",
      "state": {
       "_model_module": "@jupyter-widgets/base",
       "_model_module_version": "2.0.0",
       "_model_name": "LayoutModel",
       "_view_count": null,
       "_view_module": "@jupyter-widgets/base",
       "_view_module_version": "2.0.0",
       "_view_name": "LayoutView",
       "align_content": null,
       "align_items": null,
       "align_self": null,
       "border_bottom": null,
       "border_left": null,
       "border_right": null,
       "border_top": null,
       "bottom": null,
       "display": null,
       "flex": null,
       "flex_flow": null,
       "grid_area": null,
       "grid_auto_columns": null,
       "grid_auto_flow": null,
       "grid_auto_rows": null,
       "grid_column": null,
       "grid_gap": null,
       "grid_row": null,
       "grid_template_areas": null,
       "grid_template_columns": null,
       "grid_template_rows": null,
       "height": null,
       "justify_content": null,
       "justify_items": null,
       "left": null,
       "margin": null,
       "max_height": null,
       "max_width": null,
       "min_height": null,
       "min_width": null,
       "object_fit": null,
       "object_position": null,
       "order": null,
       "overflow": null,
       "padding": null,
       "right": null,
       "top": null,
       "visibility": null,
       "width": null
      }
     },
     "b5394a39772f4c789e8eac0b9f9bb535": {
      "model_module": "@jupyter-widgets/controls",
      "model_module_version": "2.0.0",
      "model_name": "HTMLModel",
      "state": {
       "_dom_classes": [],
       "_model_module": "@jupyter-widgets/controls",
       "_model_module_version": "2.0.0",
       "_model_name": "HTMLModel",
       "_view_count": null,
       "_view_module": "@jupyter-widgets/controls",
       "_view_module_version": "2.0.0",
       "_view_name": "HTMLView",
       "description": "",
       "description_allow_html": false,
       "layout": "IPY_MODEL_298d6ca64a534a4580eb5a134c463552",
       "placeholder": "​",
       "style": "IPY_MODEL_1fd4c58f6e0f4262a75241d08b65fd1d",
       "tabbable": null,
       "tooltip": null,
       "value": "tokenizer.json: 100%"
      }
     },
     "b76e75a3ad7e4035b8dd00b8a1ad91eb": {
      "model_module": "@jupyter-widgets/controls",
      "model_module_version": "2.0.0",
      "model_name": "HTMLModel",
      "state": {
       "_dom_classes": [],
       "_model_module": "@jupyter-widgets/controls",
       "_model_module_version": "2.0.0",
       "_model_name": "HTMLModel",
       "_view_count": null,
       "_view_module": "@jupyter-widgets/controls",
       "_view_module_version": "2.0.0",
       "_view_name": "HTMLView",
       "description": "",
       "description_allow_html": false,
       "layout": "IPY_MODEL_9eee5de8d28c4e85bca33a91ce81c4c0",
       "placeholder": "​",
       "style": "IPY_MODEL_91300df1b52243c89d8613ddb0737f0a",
       "tabbable": null,
       "tooltip": null,
       "value": " 3.13M/3.13M [00:00&lt;00:00, 24.4MB/s]"
      }
     },
     "b8df5d338994417bb25beaaed1a070ad": {
      "model_module": "@jupyter-widgets/base",
      "model_module_version": "2.0.0",
      "model_name": "LayoutModel",
      "state": {
       "_model_module": "@jupyter-widgets/base",
       "_model_module_version": "2.0.0",
       "_model_name": "LayoutModel",
       "_view_count": null,
       "_view_module": "@jupyter-widgets/base",
       "_view_module_version": "2.0.0",
       "_view_name": "LayoutView",
       "align_content": null,
       "align_items": null,
       "align_self": null,
       "border_bottom": null,
       "border_left": null,
       "border_right": null,
       "border_top": null,
       "bottom": null,
       "display": null,
       "flex": null,
       "flex_flow": null,
       "grid_area": null,
       "grid_auto_columns": null,
       "grid_auto_flow": null,
       "grid_auto_rows": null,
       "grid_column": null,
       "grid_gap": null,
       "grid_row": null,
       "grid_template_areas": null,
       "grid_template_columns": null,
       "grid_template_rows": null,
       "height": null,
       "justify_content": null,
       "justify_items": null,
       "left": null,
       "margin": null,
       "max_height": null,
       "max_width": null,
       "min_height": null,
       "min_width": null,
       "object_fit": null,
       "object_position": null,
       "order": null,
       "overflow": null,
       "padding": null,
       "right": null,
       "top": null,
       "visibility": null,
       "width": null
      }
     },
     "bc0f60eaf2c147b38378218b0fcfb9ff": {
      "model_module": "@jupyter-widgets/controls",
      "model_module_version": "2.0.0",
      "model_name": "HTMLModel",
      "state": {
       "_dom_classes": [],
       "_model_module": "@jupyter-widgets/controls",
       "_model_module_version": "2.0.0",
       "_model_name": "HTMLModel",
       "_view_count": null,
       "_view_module": "@jupyter-widgets/controls",
       "_view_module_version": "2.0.0",
       "_view_name": "HTMLView",
       "description": "",
       "description_allow_html": false,
       "layout": "IPY_MODEL_f8e29eb81a3149a784610cf081e96170",
       "placeholder": "​",
       "style": "IPY_MODEL_683580d1897e4cba8507a8f3aa194adb",
       "tabbable": null,
       "tooltip": null,
       "value": "bpe.codes: 100%"
      }
     },
     "be32d86147e949cab63ff8845740735c": {
      "model_module": "@jupyter-widgets/controls",
      "model_module_version": "2.0.0",
      "model_name": "ProgressStyleModel",
      "state": {
       "_model_module": "@jupyter-widgets/controls",
       "_model_module_version": "2.0.0",
       "_model_name": "ProgressStyleModel",
       "_view_count": null,
       "_view_module": "@jupyter-widgets/base",
       "_view_module_version": "2.0.0",
       "_view_name": "StyleView",
       "bar_color": null,
       "description_width": ""
      }
     },
     "c2b2afac11fa4d9fa6583a3f5644bc16": {
      "model_module": "@jupyter-widgets/controls",
      "model_module_version": "2.0.0",
      "model_name": "HTMLStyleModel",
      "state": {
       "_model_module": "@jupyter-widgets/controls",
       "_model_module_version": "2.0.0",
       "_model_name": "HTMLStyleModel",
       "_view_count": null,
       "_view_module": "@jupyter-widgets/base",
       "_view_module_version": "2.0.0",
       "_view_name": "StyleView",
       "background": null,
       "description_width": "",
       "font_size": null,
       "text_color": null
      }
     },
     "c7d5d1197be44a38b54b70c444c3aa79": {
      "model_module": "@jupyter-widgets/controls",
      "model_module_version": "2.0.0",
      "model_name": "HTMLModel",
      "state": {
       "_dom_classes": [],
       "_model_module": "@jupyter-widgets/controls",
       "_model_module_version": "2.0.0",
       "_model_name": "HTMLModel",
       "_view_count": null,
       "_view_module": "@jupyter-widgets/controls",
       "_view_module_version": "2.0.0",
       "_view_name": "HTMLView",
       "description": "",
       "description_allow_html": false,
       "layout": "IPY_MODEL_b1cf5206c53b43d49558aaa379d9f1e9",
       "placeholder": "​",
       "style": "IPY_MODEL_c866aa6fc4414d109599043e7bf05a53",
       "tabbable": null,
       "tooltip": null,
       "value": " 895k/895k [00:00&lt;00:00, 14.5MB/s]"
      }
     },
     "c866aa6fc4414d109599043e7bf05a53": {
      "model_module": "@jupyter-widgets/controls",
      "model_module_version": "2.0.0",
      "model_name": "HTMLStyleModel",
      "state": {
       "_model_module": "@jupyter-widgets/controls",
       "_model_module_version": "2.0.0",
       "_model_name": "HTMLStyleModel",
       "_view_count": null,
       "_view_module": "@jupyter-widgets/base",
       "_view_module_version": "2.0.0",
       "_view_name": "StyleView",
       "background": null,
       "description_width": "",
       "font_size": null,
       "text_color": null
      }
     },
     "d0cde98be56e4d4c9b2fdbfd83b372d3": {
      "model_module": "@jupyter-widgets/base",
      "model_module_version": "2.0.0",
      "model_name": "LayoutModel",
      "state": {
       "_model_module": "@jupyter-widgets/base",
       "_model_module_version": "2.0.0",
       "_model_name": "LayoutModel",
       "_view_count": null,
       "_view_module": "@jupyter-widgets/base",
       "_view_module_version": "2.0.0",
       "_view_name": "LayoutView",
       "align_content": null,
       "align_items": null,
       "align_self": null,
       "border_bottom": null,
       "border_left": null,
       "border_right": null,
       "border_top": null,
       "bottom": null,
       "display": null,
       "flex": null,
       "flex_flow": null,
       "grid_area": null,
       "grid_auto_columns": null,
       "grid_auto_flow": null,
       "grid_auto_rows": null,
       "grid_column": null,
       "grid_gap": null,
       "grid_row": null,
       "grid_template_areas": null,
       "grid_template_columns": null,
       "grid_template_rows": null,
       "height": null,
       "justify_content": null,
       "justify_items": null,
       "left": null,
       "margin": null,
       "max_height": null,
       "max_width": null,
       "min_height": null,
       "min_width": null,
       "object_fit": null,
       "object_position": null,
       "order": null,
       "overflow": null,
       "padding": null,
       "right": null,
       "top": null,
       "visibility": null,
       "width": null
      }
     },
     "d43fb1071f354b8dbcfd7c9bca09edb0": {
      "model_module": "@jupyter-widgets/controls",
      "model_module_version": "2.0.0",
      "model_name": "HTMLStyleModel",
      "state": {
       "_model_module": "@jupyter-widgets/controls",
       "_model_module_version": "2.0.0",
       "_model_name": "HTMLStyleModel",
       "_view_count": null,
       "_view_module": "@jupyter-widgets/base",
       "_view_module_version": "2.0.0",
       "_view_name": "StyleView",
       "background": null,
       "description_width": "",
       "font_size": null,
       "text_color": null
      }
     },
     "d9355715528c4807a989fdc38cf5e457": {
      "model_module": "@jupyter-widgets/base",
      "model_module_version": "2.0.0",
      "model_name": "LayoutModel",
      "state": {
       "_model_module": "@jupyter-widgets/base",
       "_model_module_version": "2.0.0",
       "_model_name": "LayoutModel",
       "_view_count": null,
       "_view_module": "@jupyter-widgets/base",
       "_view_module_version": "2.0.0",
       "_view_name": "LayoutView",
       "align_content": null,
       "align_items": null,
       "align_self": null,
       "border_bottom": null,
       "border_left": null,
       "border_right": null,
       "border_top": null,
       "bottom": null,
       "display": null,
       "flex": null,
       "flex_flow": null,
       "grid_area": null,
       "grid_auto_columns": null,
       "grid_auto_flow": null,
       "grid_auto_rows": null,
       "grid_column": null,
       "grid_gap": null,
       "grid_row": null,
       "grid_template_areas": null,
       "grid_template_columns": null,
       "grid_template_rows": null,
       "height": null,
       "justify_content": null,
       "justify_items": null,
       "left": null,
       "margin": null,
       "max_height": null,
       "max_width": null,
       "min_height": null,
       "min_width": null,
       "object_fit": null,
       "object_position": null,
       "order": null,
       "overflow": null,
       "padding": null,
       "right": null,
       "top": null,
       "visibility": null,
       "width": null
      }
     },
     "d9c8cff6e30b43e48a06a74fa66c5e1c": {
      "model_module": "@jupyter-widgets/controls",
      "model_module_version": "2.0.0",
      "model_name": "ProgressStyleModel",
      "state": {
       "_model_module": "@jupyter-widgets/controls",
       "_model_module_version": "2.0.0",
       "_model_name": "ProgressStyleModel",
       "_view_count": null,
       "_view_module": "@jupyter-widgets/base",
       "_view_module_version": "2.0.0",
       "_view_name": "StyleView",
       "bar_color": null,
       "description_width": ""
      }
     },
     "e4fd1d0e8afd494786156a6b992fc638": {
      "model_module": "@jupyter-widgets/controls",
      "model_module_version": "2.0.0",
      "model_name": "HTMLModel",
      "state": {
       "_dom_classes": [],
       "_model_module": "@jupyter-widgets/controls",
       "_model_module_version": "2.0.0",
       "_model_name": "HTMLModel",
       "_view_count": null,
       "_view_module": "@jupyter-widgets/controls",
       "_view_module_version": "2.0.0",
       "_view_name": "HTMLView",
       "description": "",
       "description_allow_html": false,
       "layout": "IPY_MODEL_31dd8784a70f4ca3b428e956d04b5d56",
       "placeholder": "​",
       "style": "IPY_MODEL_43146f381b1945768c49acecef799f96",
       "tabbable": null,
       "tooltip": null,
       "value": " 543M/543M [00:02&lt;00:00, 240MB/s]"
      }
     },
     "e6d237d6cab74ded812789b7747cdd71": {
      "model_module": "@jupyter-widgets/base",
      "model_module_version": "2.0.0",
      "model_name": "LayoutModel",
      "state": {
       "_model_module": "@jupyter-widgets/base",
       "_model_module_version": "2.0.0",
       "_model_name": "LayoutModel",
       "_view_count": null,
       "_view_module": "@jupyter-widgets/base",
       "_view_module_version": "2.0.0",
       "_view_name": "LayoutView",
       "align_content": null,
       "align_items": null,
       "align_self": null,
       "border_bottom": null,
       "border_left": null,
       "border_right": null,
       "border_top": null,
       "bottom": null,
       "display": null,
       "flex": null,
       "flex_flow": null,
       "grid_area": null,
       "grid_auto_columns": null,
       "grid_auto_flow": null,
       "grid_auto_rows": null,
       "grid_column": null,
       "grid_gap": null,
       "grid_row": null,
       "grid_template_areas": null,
       "grid_template_columns": null,
       "grid_template_rows": null,
       "height": null,
       "justify_content": null,
       "justify_items": null,
       "left": null,
       "margin": null,
       "max_height": null,
       "max_width": null,
       "min_height": null,
       "min_width": null,
       "object_fit": null,
       "object_position": null,
       "order": null,
       "overflow": null,
       "padding": null,
       "right": null,
       "top": null,
       "visibility": null,
       "width": null
      }
     },
     "e9a3f0f79e274350bad80d7e01e14b23": {
      "model_module": "@jupyter-widgets/controls",
      "model_module_version": "2.0.0",
      "model_name": "HBoxModel",
      "state": {
       "_dom_classes": [],
       "_model_module": "@jupyter-widgets/controls",
       "_model_module_version": "2.0.0",
       "_model_name": "HBoxModel",
       "_view_count": null,
       "_view_module": "@jupyter-widgets/controls",
       "_view_module_version": "2.0.0",
       "_view_name": "HBoxView",
       "box_style": "",
       "children": [
        "IPY_MODEL_65baf048945a4330891ad891e67328fa",
        "IPY_MODEL_fd674ac879554e71ad3d7951aa21a2b7",
        "IPY_MODEL_122cac03d7fd4ef790c96ef6f1814271"
       ],
       "layout": "IPY_MODEL_8f9d40986db74cfd8e03bb7cbea00a5c",
       "tabbable": null,
       "tooltip": null
      }
     },
     "ea662d2b450d46d3b762463638010185": {
      "model_module": "@jupyter-widgets/controls",
      "model_module_version": "2.0.0",
      "model_name": "ProgressStyleModel",
      "state": {
       "_model_module": "@jupyter-widgets/controls",
       "_model_module_version": "2.0.0",
       "_model_name": "ProgressStyleModel",
       "_view_count": null,
       "_view_module": "@jupyter-widgets/base",
       "_view_module_version": "2.0.0",
       "_view_name": "StyleView",
       "bar_color": null,
       "description_width": ""
      }
     },
     "ed54eb017c0c429fa8efda4b02dbbfc0": {
      "model_module": "@jupyter-widgets/controls",
      "model_module_version": "2.0.0",
      "model_name": "HBoxModel",
      "state": {
       "_dom_classes": [],
       "_model_module": "@jupyter-widgets/controls",
       "_model_module_version": "2.0.0",
       "_model_name": "HBoxModel",
       "_view_count": null,
       "_view_module": "@jupyter-widgets/controls",
       "_view_module_version": "2.0.0",
       "_view_name": "HBoxView",
       "box_style": "",
       "children": [
        "IPY_MODEL_615df6abb6934c428f6d8196f8c59789",
        "IPY_MODEL_48452826eac746c29d3fb4d3f5024afa",
        "IPY_MODEL_c7d5d1197be44a38b54b70c444c3aa79"
       ],
       "layout": "IPY_MODEL_0fedc3f5209d412f9037f35d42c743d2",
       "tabbable": null,
       "tooltip": null
      }
     },
     "f19f188fd3034c97bc1578aac75ee6af": {
      "model_module": "@jupyter-widgets/controls",
      "model_module_version": "2.0.0",
      "model_name": "HTMLStyleModel",
      "state": {
       "_model_module": "@jupyter-widgets/controls",
       "_model_module_version": "2.0.0",
       "_model_name": "HTMLStyleModel",
       "_view_count": null,
       "_view_module": "@jupyter-widgets/base",
       "_view_module_version": "2.0.0",
       "_view_name": "StyleView",
       "background": null,
       "description_width": "",
       "font_size": null,
       "text_color": null
      }
     },
     "f2204d7d9dfa4b579797066ae2b87fe4": {
      "model_module": "@jupyter-widgets/controls",
      "model_module_version": "2.0.0",
      "model_name": "HTMLModel",
      "state": {
       "_dom_classes": [],
       "_model_module": "@jupyter-widgets/controls",
       "_model_module_version": "2.0.0",
       "_model_name": "HTMLModel",
       "_view_count": null,
       "_view_module": "@jupyter-widgets/controls",
       "_view_module_version": "2.0.0",
       "_view_name": "HTMLView",
       "description": "",
       "description_allow_html": false,
       "layout": "IPY_MODEL_133e1eb9d9f44f87b89d110dd1c69603",
       "placeholder": "​",
       "style": "IPY_MODEL_c2b2afac11fa4d9fa6583a3f5644bc16",
       "tabbable": null,
       "tooltip": null,
       "value": " 1.14M/1.14M [00:00&lt;00:00, 29.6MB/s]"
      }
     },
     "f4ac7d3b2ce6425695d5d67d04877e6b": {
      "model_module": "@jupyter-widgets/controls",
      "model_module_version": "2.0.0",
      "model_name": "ProgressStyleModel",
      "state": {
       "_model_module": "@jupyter-widgets/controls",
       "_model_module_version": "2.0.0",
       "_model_name": "ProgressStyleModel",
       "_view_count": null,
       "_view_module": "@jupyter-widgets/base",
       "_view_module_version": "2.0.0",
       "_view_name": "StyleView",
       "bar_color": null,
       "description_width": ""
      }
     },
     "f5209ec163f74522a9b1d1df9a41b854": {
      "model_module": "@jupyter-widgets/controls",
      "model_module_version": "2.0.0",
      "model_name": "HBoxModel",
      "state": {
       "_dom_classes": [],
       "_model_module": "@jupyter-widgets/controls",
       "_model_module_version": "2.0.0",
       "_model_name": "HBoxModel",
       "_view_count": null,
       "_view_module": "@jupyter-widgets/controls",
       "_view_module_version": "2.0.0",
       "_view_name": "HBoxView",
       "box_style": "",
       "children": [
        "IPY_MODEL_b5394a39772f4c789e8eac0b9f9bb535",
        "IPY_MODEL_7e791aed04bf4dc0a115a66ee634af3b",
        "IPY_MODEL_b76e75a3ad7e4035b8dd00b8a1ad91eb"
       ],
       "layout": "IPY_MODEL_4e71b8d07cb24e67b6260b5600f625f4",
       "tabbable": null,
       "tooltip": null
      }
     },
     "f8e29eb81a3149a784610cf081e96170": {
      "model_module": "@jupyter-widgets/base",
      "model_module_version": "2.0.0",
      "model_name": "LayoutModel",
      "state": {
       "_model_module": "@jupyter-widgets/base",
       "_model_module_version": "2.0.0",
       "_model_name": "LayoutModel",
       "_view_count": null,
       "_view_module": "@jupyter-widgets/base",
       "_view_module_version": "2.0.0",
       "_view_name": "LayoutView",
       "align_content": null,
       "align_items": null,
       "align_self": null,
       "border_bottom": null,
       "border_left": null,
       "border_right": null,
       "border_top": null,
       "bottom": null,
       "display": null,
       "flex": null,
       "flex_flow": null,
       "grid_area": null,
       "grid_auto_columns": null,
       "grid_auto_flow": null,
       "grid_auto_rows": null,
       "grid_column": null,
       "grid_gap": null,
       "grid_row": null,
       "grid_template_areas": null,
       "grid_template_columns": null,
       "grid_template_rows": null,
       "height": null,
       "justify_content": null,
       "justify_items": null,
       "left": null,
       "margin": null,
       "max_height": null,
       "max_width": null,
       "min_height": null,
       "min_width": null,
       "object_fit": null,
       "object_position": null,
       "order": null,
       "overflow": null,
       "padding": null,
       "right": null,
       "top": null,
       "visibility": null,
       "width": null
      }
     },
     "f922df721d0d4c8c8929353caa5a1912": {
      "model_module": "@jupyter-widgets/base",
      "model_module_version": "2.0.0",
      "model_name": "LayoutModel",
      "state": {
       "_model_module": "@jupyter-widgets/base",
       "_model_module_version": "2.0.0",
       "_model_name": "LayoutModel",
       "_view_count": null,
       "_view_module": "@jupyter-widgets/base",
       "_view_module_version": "2.0.0",
       "_view_name": "LayoutView",
       "align_content": null,
       "align_items": null,
       "align_self": null,
       "border_bottom": null,
       "border_left": null,
       "border_right": null,
       "border_top": null,
       "bottom": null,
       "display": null,
       "flex": null,
       "flex_flow": null,
       "grid_area": null,
       "grid_auto_columns": null,
       "grid_auto_flow": null,
       "grid_auto_rows": null,
       "grid_column": null,
       "grid_gap": null,
       "grid_row": null,
       "grid_template_areas": null,
       "grid_template_columns": null,
       "grid_template_rows": null,
       "height": null,
       "justify_content": null,
       "justify_items": null,
       "left": null,
       "margin": null,
       "max_height": null,
       "max_width": null,
       "min_height": null,
       "min_width": null,
       "object_fit": null,
       "object_position": null,
       "order": null,
       "overflow": null,
       "padding": null,
       "right": null,
       "top": null,
       "visibility": null,
       "width": null
      }
     },
     "fd674ac879554e71ad3d7951aa21a2b7": {
      "model_module": "@jupyter-widgets/controls",
      "model_module_version": "2.0.0",
      "model_name": "FloatProgressModel",
      "state": {
       "_dom_classes": [],
       "_model_module": "@jupyter-widgets/controls",
       "_model_module_version": "2.0.0",
       "_model_name": "FloatProgressModel",
       "_view_count": null,
       "_view_module": "@jupyter-widgets/controls",
       "_view_module_version": "2.0.0",
       "_view_name": "ProgressView",
       "bar_style": "success",
       "description": "",
       "description_allow_html": false,
       "layout": "IPY_MODEL_d9355715528c4807a989fdc38cf5e457",
       "max": 557.0,
       "min": 0.0,
       "orientation": "horizontal",
       "style": "IPY_MODEL_be32d86147e949cab63ff8845740735c",
       "tabbable": null,
       "tooltip": null,
       "value": 557.0
      }
     }
    },
    "version_major": 2,
    "version_minor": 0
   }
  }
 },
 "nbformat": 4,
 "nbformat_minor": 5
}
